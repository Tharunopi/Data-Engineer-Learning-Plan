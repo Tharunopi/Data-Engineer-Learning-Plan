{
 "cells": [
  {
   "cell_type": "code",
   "execution_count": 0,
   "metadata": {
    "application/vnd.databricks.v1+cell": {
     "cellMetadata": {
      "byteLimit": 2048000,
      "implicitDf": true,
      "rowLimit": 10000
     },
     "inputWidgets": {},
     "nuid": "0c7c03a0-1f2a-41df-8de2-623d6ed2b5b6",
     "showTitle": false,
     "tableResultSettingsMap": {},
     "title": ""
    }
   },
   "outputs": [],
   "source": [
    "%sql\n",
    "USE CATALOG dbacademy;"
   ]
  },
  {
   "cell_type": "code",
   "execution_count": 0,
   "metadata": {
    "application/vnd.databricks.v1+cell": {
     "cellMetadata": {
      "byteLimit": 2048000,
      "implicitDf": true,
      "rowLimit": 10000
     },
     "inputWidgets": {},
     "nuid": "307a749c-6d82-4b0c-94a2-db7d936c75da",
     "showTitle": false,
     "tableResultSettingsMap": {},
     "title": ""
    }
   },
   "outputs": [],
   "source": [
    "# %sql\n",
    "# CREATE SCHEMA IF NOT EXISTS 1_bronze_db;\n",
    "# CREATE SCHEMA IF NOT EXISTS 2_silver_db;\n",
    "# CREATE SCHEMA IF NOT EXISTS 3_gold_db;"
   ]
  },
  {
   "cell_type": "code",
   "execution_count": 0,
   "metadata": {
    "application/vnd.databricks.v1+cell": {
     "cellMetadata": {
      "byteLimit": 2048000,
      "rowLimit": 10000
     },
     "inputWidgets": {},
     "nuid": "ee70db84-3218-4241-9e47-7c31d5275d69",
     "showTitle": false,
     "tableResultSettingsMap": {},
     "title": ""
    }
   },
   "outputs": [
    {
     "output_type": "stream",
     "name": "stdout",
     "output_type": "stream",
     "text": [
      "+--------+-----------+----------+------+--------------------+\n|order_id|customer_id|order_date|amount|               items|\n+--------+-----------+----------+------+--------------------+\n|    1001|         40|2024-11-28| 60.51|[Finally, Offer, ...|\n|    1002|         34|2025-05-16|403.06|[Establish, Techn...|\n|    1003|         10|2025-07-08|294.56| [Risk, Information]|\n|    1004|         14|2025-05-06|416.29|              [Last]|\n|    1005|         41|2024-12-07|307.63|[Owner, Rest, Sec...|\n|    1006|         24|2025-06-02| 85.21|[Interesting, Mov...|\n|    1007|         29|2025-02-11|361.17|[Interesting, Lan...|\n|    1008|         17|2024-12-04|387.06|              [Task]|\n|    1009|         45|2025-02-12|250.23|  [Common, Not, Ago]|\n|    1010|          9|2024-10-29|385.54|[Face, High, Prep...|\n|    1011|         37|2024-12-09|216.79|              [Dark]|\n|    1012|         36|2025-03-25|245.84|       [Worry, Make]|\n|    1013|          5|2025-03-23|348.59|[White, Trip, Old...|\n|    1014|         46|2025-07-15| 202.1|[Poor, May, Count...|\n|    1015|         11|2024-10-07|216.89|[Character, Atten...|\n|    1016|         13|2025-02-12|331.19|           [Usually]|\n|    1017|         30|2025-05-16|326.73|               [Fly]|\n|    1018|         35|2024-08-13| 79.33|        [Mrs, Watch]|\n|    1019|          8|2024-09-10|113.03|              [Else]|\n|    1020|         31|2025-05-15| 23.32|[Prepare, Surface...|\n+--------+-----------+----------+------+--------------------+\nonly showing top 20 rows\n"
     ]
    }
   ],
   "source": [
    "spark.sql(\"\"\"\n",
    "          SELECT * FROM read_files(\n",
    "              '/Volumes/dbacademy/ops/ops_data/orders/00.json',\n",
    "              format => 'json',\n",
    "              schema => 'order_id int, customer_id int, order_date date, amount float, items array<string>'\n",
    "          )\n",
    "          \"\"\").show()"
   ]
  },
  {
   "cell_type": "markdown",
   "metadata": {
    "application/vnd.databricks.v1+cell": {
     "cellMetadata": {
      "byteLimit": 2048000,
      "rowLimit": 10000
     },
     "inputWidgets": {},
     "nuid": "390dfb28-7f18-420f-9e51-ff41c8938414",
     "showTitle": false,
     "tableResultSettingsMap": {},
     "title": ""
    }
   },
   "source": [
    "# **Bronze**\n",
    "> JSON file -> bronze layer"
   ]
  },
  {
   "cell_type": "code",
   "execution_count": 0,
   "metadata": {
    "application/vnd.databricks.v1+cell": {
     "cellMetadata": {
      "byteLimit": 2048000,
      "implicitDf": true,
      "rowLimit": 10000
     },
     "inputWidgets": {},
     "nuid": "00964011-5c00-4d5e-9547-ff630b9ac673",
     "showTitle": false,
     "tableResultSettingsMap": {},
     "title": ""
    }
   },
   "outputs": [
    {
     "output_type": "display_data",
     "data": {
      "text/html": [
       "<style scoped>\n",
       "  .table-result-container {\n",
       "    max-height: 300px;\n",
       "    overflow: auto;\n",
       "  }\n",
       "  table, th, td {\n",
       "    border: 1px solid black;\n",
       "    border-collapse: collapse;\n",
       "  }\n",
       "  th, td {\n",
       "    padding: 5px;\n",
       "  }\n",
       "  th {\n",
       "    text-align: left;\n",
       "  }\n",
       "</style><div class='table-result-container'><table class='table-result'><thead style='background-color: white'><tr><th>num_affected_rows</th><th>num_inserted_rows</th></tr></thead><tbody></tbody></table></div>"
      ]
     },
     "metadata": {
      "application/vnd.databricks.v1+output": {
       "addedWidgets": {},
       "aggData": [],
       "aggError": "",
       "aggOverflow": false,
       "aggSchema": [],
       "aggSeriesLimitReached": false,
       "aggType": "",
       "arguments": {},
       "columnCustomDisplayInfos": {},
       "data": [],
       "datasetInfos": [
        {
         "name": "_sqldf",
         "schema": {
          "fields": [
           {
            "metadata": {},
            "name": "num_affected_rows",
            "nullable": true,
            "type": "long"
           },
           {
            "metadata": {},
            "name": "num_inserted_rows",
            "nullable": true,
            "type": "long"
           }
          ],
          "type": "struct"
         },
         "tableIdentifier": null,
         "typeStr": "pyspark.sql.connect.dataframe.DataFrame"
        }
       ],
       "dbfsResultPath": null,
       "isJsonSchema": true,
       "metadata": {
        "createTempViewForImplicitDf": true,
        "dataframeName": "_sqldf",
        "executionCount": 5
       },
       "overflow": false,
       "plotOptions": {
        "customPlotOptions": {},
        "displayType": "table",
        "pivotAggregation": null,
        "pivotColumns": null,
        "xColumns": null,
        "yColumns": null
       },
       "removedWidgets": [],
       "schema": [
        {
         "metadata": "{}",
         "name": "num_affected_rows",
         "type": "\"long\""
        },
        {
         "metadata": "{}",
         "name": "num_inserted_rows",
         "type": "\"long\""
        }
       ],
       "type": "table"
      }
     },
     "output_type": "display_data"
    }
   ],
   "source": [
    "%sql\n",
    "CREATE OR REPLACE TABLE default.orders_bronze\n",
    "AS SELECT *, current_timestamp() AS added_time \n",
    "FROM read_files(\n",
    "  '/Volumes/dbacademy/ops/ops_data/orders/00.json',\n",
    "  format => 'json',\n",
    "  schema => 'order_id int, customer_id int, order_date date, amount float, items array<string>'\n",
    ")"
   ]
  },
  {
   "cell_type": "markdown",
   "metadata": {
    "application/vnd.databricks.v1+cell": {
     "cellMetadata": {
      "byteLimit": 2048000,
      "rowLimit": 10000
     },
     "inputWidgets": {},
     "nuid": "a89c680f-0701-4c37-9cb9-ea81c129dbf0",
     "showTitle": false,
     "tableResultSettingsMap": {},
     "title": ""
    }
   },
   "source": [
    "# **Silver**\n",
    "> bronze layer -> silver layer"
   ]
  },
  {
   "cell_type": "code",
   "execution_count": 0,
   "metadata": {
    "application/vnd.databricks.v1+cell": {
     "cellMetadata": {
      "byteLimit": 2048000,
      "implicitDf": true,
      "rowLimit": 10000
     },
     "inputWidgets": {},
     "nuid": "0bb06490-3d35-4ddc-b745-e93e9868d7be",
     "showTitle": false,
     "tableResultSettingsMap": {},
     "title": ""
    }
   },
   "outputs": [
    {
     "output_type": "display_data",
     "data": {
      "text/html": [
       "<style scoped>\n",
       "  .table-result-container {\n",
       "    max-height: 300px;\n",
       "    overflow: auto;\n",
       "  }\n",
       "  table, th, td {\n",
       "    border: 1px solid black;\n",
       "    border-collapse: collapse;\n",
       "  }\n",
       "  th, td {\n",
       "    padding: 5px;\n",
       "  }\n",
       "  th {\n",
       "    text-align: left;\n",
       "  }\n",
       "</style><div class='table-result-container'><table class='table-result'><thead style='background-color: white'><tr><th>num_affected_rows</th><th>num_inserted_rows</th></tr></thead><tbody></tbody></table></div>"
      ]
     },
     "metadata": {
      "application/vnd.databricks.v1+output": {
       "addedWidgets": {},
       "aggData": [],
       "aggError": "",
       "aggOverflow": false,
       "aggSchema": [],
       "aggSeriesLimitReached": false,
       "aggType": "",
       "arguments": {},
       "columnCustomDisplayInfos": {},
       "data": [],
       "datasetInfos": [
        {
         "name": "_sqldf",
         "schema": {
          "fields": [
           {
            "metadata": {},
            "name": "num_affected_rows",
            "nullable": true,
            "type": "long"
           },
           {
            "metadata": {},
            "name": "num_inserted_rows",
            "nullable": true,
            "type": "long"
           }
          ],
          "type": "struct"
         },
         "tableIdentifier": null,
         "typeStr": "pyspark.sql.connect.dataframe.DataFrame"
        }
       ],
       "dbfsResultPath": null,
       "isJsonSchema": true,
       "metadata": {
        "createTempViewForImplicitDf": true,
        "dataframeName": "_sqldf",
        "executionCount": 6
       },
       "overflow": false,
       "plotOptions": {
        "customPlotOptions": {},
        "displayType": "table",
        "pivotAggregation": null,
        "pivotColumns": null,
        "xColumns": null,
        "yColumns": null
       },
       "removedWidgets": [],
       "schema": [
        {
         "metadata": "{}",
         "name": "num_affected_rows",
         "type": "\"long\""
        },
        {
         "metadata": "{}",
         "name": "num_inserted_rows",
         "type": "\"long\""
        }
       ],
       "type": "table"
      }
     },
     "output_type": "display_data"
    }
   ],
   "source": [
    "%sql\n",
    "CREATE OR REPLACE TABLE default.orders_silver AS \n",
    "SELECT order_id, order_date, amount FROM default.orders_bronze"
   ]
  },
  {
   "cell_type": "markdown",
   "metadata": {
    "application/vnd.databricks.v1+cell": {
     "cellMetadata": {
      "byteLimit": 2048000,
      "rowLimit": 10000
     },
     "inputWidgets": {},
     "nuid": "c1f8cfe3-e0ef-4ac1-bc4d-ca6753454b1b",
     "showTitle": false,
     "tableResultSettingsMap": {},
     "title": ""
    }
   },
   "source": [
    "# **Gold**"
   ]
  },
  {
   "cell_type": "code",
   "execution_count": 0,
   "metadata": {
    "application/vnd.databricks.v1+cell": {
     "cellMetadata": {
      "byteLimit": 2048000,
      "implicitDf": true,
      "rowLimit": 10000
     },
     "inputWidgets": {},
     "nuid": "4386a6be-262a-40ca-a601-2859d0723584",
     "showTitle": false,
     "tableResultSettingsMap": {},
     "title": ""
    }
   },
   "outputs": [
    {
     "output_type": "display_data",
     "data": {
      "text/html": [
       "<style scoped>\n",
       "  .table-result-container {\n",
       "    max-height: 300px;\n",
       "    overflow: auto;\n",
       "  }\n",
       "  table, th, td {\n",
       "    border: 1px solid black;\n",
       "    border-collapse: collapse;\n",
       "  }\n",
       "  th, td {\n",
       "    padding: 5px;\n",
       "  }\n",
       "  th {\n",
       "    text-align: left;\n",
       "  }\n",
       "</style><div class='table-result-container'><table class='table-result'><thead style='background-color: white'><tr><th>num_affected_rows</th><th>num_inserted_rows</th></tr></thead><tbody></tbody></table></div>"
      ]
     },
     "metadata": {
      "application/vnd.databricks.v1+output": {
       "addedWidgets": {},
       "aggData": [],
       "aggError": "",
       "aggOverflow": false,
       "aggSchema": [],
       "aggSeriesLimitReached": false,
       "aggType": "",
       "arguments": {},
       "columnCustomDisplayInfos": {},
       "data": [],
       "datasetInfos": [
        {
         "name": "_sqldf",
         "schema": {
          "fields": [
           {
            "metadata": {},
            "name": "num_affected_rows",
            "nullable": true,
            "type": "long"
           },
           {
            "metadata": {},
            "name": "num_inserted_rows",
            "nullable": true,
            "type": "long"
           }
          ],
          "type": "struct"
         },
         "tableIdentifier": null,
         "typeStr": "pyspark.sql.connect.dataframe.DataFrame"
        }
       ],
       "dbfsResultPath": null,
       "isJsonSchema": true,
       "metadata": {
        "createTempViewForImplicitDf": true,
        "dataframeName": "_sqldf",
        "executionCount": 13
       },
       "overflow": false,
       "plotOptions": {
        "customPlotOptions": {},
        "displayType": "table",
        "pivotAggregation": null,
        "pivotColumns": null,
        "xColumns": null,
        "yColumns": null
       },
       "removedWidgets": [],
       "schema": [
        {
         "metadata": "{}",
         "name": "num_affected_rows",
         "type": "\"long\""
        },
        {
         "metadata": "{}",
         "name": "num_inserted_rows",
         "type": "\"long\""
        }
       ],
       "type": "table"
      }
     },
     "output_type": "display_data"
    }
   ],
   "source": [
    "%sql\n",
    "CREATE OR REPLACE TABLE default.orders_gold AS\n",
    "SELECT order_date, SUM(amount) AS total_amount, COUNT(*) AS total_sales FROM default.orders_silver\n",
    "GROUP BY order_date\n",
    "ORDER BY SUM(amount)"
   ]
  },
  {
   "cell_type": "code",
   "execution_count": 0,
   "metadata": {
    "application/vnd.databricks.v1+cell": {
     "cellMetadata": {
      "byteLimit": 2048000,
      "implicitDf": true,
      "rowLimit": 10000
     },
     "inputWidgets": {},
     "nuid": "40cc80c2-b858-4561-9a49-01878c4b8be3",
     "showTitle": false,
     "tableResultSettingsMap": {},
     "title": ""
    }
   },
   "outputs": [
    {
     "output_type": "display_data",
     "data": {
      "text/html": [
       "<style scoped>\n",
       "  .table-result-container {\n",
       "    max-height: 300px;\n",
       "    overflow: auto;\n",
       "  }\n",
       "  table, th, td {\n",
       "    border: 1px solid black;\n",
       "    border-collapse: collapse;\n",
       "  }\n",
       "  th, td {\n",
       "    padding: 5px;\n",
       "  }\n",
       "  th {\n",
       "    text-align: left;\n",
       "  }\n",
       "</style><div class='table-result-container'><table class='table-result'><thead style='background-color: white'><tr><th>order_id</th><th>order_date</th><th>amount</th></tr></thead><tbody><tr><td>1001</td><td>2024-11-28</td><td>60.51</td></tr><tr><td>1002</td><td>2025-05-16</td><td>403.06</td></tr><tr><td>1003</td><td>2025-07-08</td><td>294.56</td></tr><tr><td>1004</td><td>2025-05-06</td><td>416.29</td></tr><tr><td>1005</td><td>2024-12-07</td><td>307.63</td></tr><tr><td>1006</td><td>2025-06-02</td><td>85.21</td></tr><tr><td>1007</td><td>2025-02-11</td><td>361.17</td></tr><tr><td>1008</td><td>2024-12-04</td><td>387.06</td></tr><tr><td>1009</td><td>2025-02-12</td><td>250.23</td></tr><tr><td>1010</td><td>2024-10-29</td><td>385.54</td></tr><tr><td>1011</td><td>2024-12-09</td><td>216.79</td></tr><tr><td>1012</td><td>2025-03-25</td><td>245.84</td></tr><tr><td>1013</td><td>2025-03-23</td><td>348.59</td></tr><tr><td>1014</td><td>2025-07-15</td><td>202.1</td></tr><tr><td>1015</td><td>2024-10-07</td><td>216.89</td></tr><tr><td>1016</td><td>2025-02-12</td><td>331.19</td></tr><tr><td>1017</td><td>2025-05-16</td><td>326.73</td></tr><tr><td>1018</td><td>2024-08-13</td><td>79.33</td></tr><tr><td>1019</td><td>2024-09-10</td><td>113.03</td></tr><tr><td>1020</td><td>2025-05-15</td><td>23.32</td></tr><tr><td>1021</td><td>2025-06-28</td><td>241.06</td></tr><tr><td>1022</td><td>2025-07-08</td><td>356.95</td></tr><tr><td>1023</td><td>2024-09-26</td><td>168.21</td></tr><tr><td>1024</td><td>2024-12-15</td><td>225.72</td></tr><tr><td>1025</td><td>2025-06-23</td><td>294.38</td></tr><tr><td>1026</td><td>2024-07-27</td><td>335.37</td></tr><tr><td>1027</td><td>2025-02-08</td><td>380.68</td></tr><tr><td>1028</td><td>2024-11-11</td><td>367.39</td></tr><tr><td>1029</td><td>2025-02-26</td><td>209.67</td></tr><tr><td>1030</td><td>2025-05-03</td><td>275.14</td></tr><tr><td>1031</td><td>2025-01-20</td><td>384.25</td></tr><tr><td>1032</td><td>2025-01-13</td><td>384.5</td></tr><tr><td>1033</td><td>2024-12-17</td><td>28.57</td></tr><tr><td>1034</td><td>2024-12-28</td><td>206.53</td></tr><tr><td>1035</td><td>2024-12-03</td><td>132.33</td></tr><tr><td>1036</td><td>2025-02-21</td><td>86.62</td></tr><tr><td>1037</td><td>2025-07-12</td><td>261.71</td></tr><tr><td>1038</td><td>2024-12-13</td><td>128.68</td></tr><tr><td>1039</td><td>2024-10-09</td><td>192.07</td></tr><tr><td>1040</td><td>2025-05-08</td><td>58.76</td></tr><tr><td>1041</td><td>2024-11-22</td><td>379.47</td></tr><tr><td>1042</td><td>2025-03-18</td><td>242.86</td></tr><tr><td>1043</td><td>2025-04-13</td><td>440.89</td></tr><tr><td>1044</td><td>2025-05-29</td><td>99.4</td></tr><tr><td>1045</td><td>2024-08-10</td><td>381.29</td></tr><tr><td>1046</td><td>2024-10-24</td><td>211.05</td></tr><tr><td>1047</td><td>2024-11-04</td><td>479.26</td></tr><tr><td>1048</td><td>2025-04-28</td><td>417.99</td></tr><tr><td>1049</td><td>2024-10-21</td><td>277.63</td></tr><tr><td>1050</td><td>2025-06-08</td><td>465.34</td></tr><tr><td>1051</td><td>2025-06-24</td><td>230.57</td></tr><tr><td>1052</td><td>2024-08-15</td><td>257.98</td></tr><tr><td>1053</td><td>2025-03-22</td><td>166.46</td></tr><tr><td>1054</td><td>2024-09-10</td><td>20.68</td></tr><tr><td>1055</td><td>2024-11-23</td><td>476.26</td></tr><tr><td>1056</td><td>2025-05-04</td><td>402.15</td></tr><tr><td>1057</td><td>2025-04-17</td><td>439.97</td></tr><tr><td>1058</td><td>2025-07-06</td><td>311.74</td></tr><tr><td>1059</td><td>2025-02-13</td><td>363.47</td></tr><tr><td>1060</td><td>2025-06-24</td><td>61.35</td></tr><tr><td>1061</td><td>2024-09-26</td><td>265.75</td></tr><tr><td>1062</td><td>2024-10-02</td><td>344.96</td></tr><tr><td>1063</td><td>2025-04-30</td><td>492.07</td></tr><tr><td>1064</td><td>2025-04-04</td><td>228.6</td></tr><tr><td>1065</td><td>2025-01-02</td><td>267.48</td></tr><tr><td>1066</td><td>2024-08-22</td><td>118.68</td></tr><tr><td>1067</td><td>2025-06-02</td><td>362.01</td></tr><tr><td>1068</td><td>2024-09-23</td><td>308.01</td></tr><tr><td>1069</td><td>2025-03-30</td><td>74.37</td></tr><tr><td>1070</td><td>2025-03-09</td><td>311.63</td></tr><tr><td>1071</td><td>2025-04-11</td><td>134.75</td></tr><tr><td>1072</td><td>2025-01-25</td><td>191.23</td></tr><tr><td>1073</td><td>2025-04-30</td><td>197.6</td></tr><tr><td>1074</td><td>2024-11-11</td><td>51.74</td></tr><tr><td>1075</td><td>2024-09-14</td><td>177.46</td></tr><tr><td>1076</td><td>2025-03-16</td><td>394.23</td></tr><tr><td>1077</td><td>2025-03-18</td><td>218.11</td></tr><tr><td>1078</td><td>2024-09-27</td><td>283.97</td></tr><tr><td>1079</td><td>2024-08-11</td><td>258.77</td></tr><tr><td>1080</td><td>2025-03-13</td><td>94.11</td></tr><tr><td>1081</td><td>2024-10-02</td><td>159.16</td></tr><tr><td>1082</td><td>2025-05-05</td><td>480.18</td></tr><tr><td>1083</td><td>2024-10-14</td><td>137.99</td></tr><tr><td>1084</td><td>2024-10-09</td><td>199.16</td></tr><tr><td>1085</td><td>2025-07-13</td><td>479.22</td></tr><tr><td>1086</td><td>2025-02-01</td><td>412.31</td></tr><tr><td>1087</td><td>2024-08-28</td><td>307.9</td></tr><tr><td>1088</td><td>2025-04-05</td><td>190.97</td></tr><tr><td>1089</td><td>2024-08-05</td><td>243.91</td></tr><tr><td>1090</td><td>2025-04-13</td><td>89.9</td></tr><tr><td>1091</td><td>2024-09-24</td><td>134.06</td></tr><tr><td>1092</td><td>2025-03-15</td><td>482.47</td></tr><tr><td>1093</td><td>2024-09-26</td><td>185.46</td></tr><tr><td>1094</td><td>2025-04-12</td><td>455.02</td></tr><tr><td>1095</td><td>2024-10-12</td><td>23.91</td></tr><tr><td>1096</td><td>2025-06-30</td><td>196.59</td></tr><tr><td>1097</td><td>2024-11-02</td><td>80.64</td></tr><tr><td>1098</td><td>2025-06-03</td><td>81.23</td></tr><tr><td>1099</td><td>2025-03-22</td><td>479.64</td></tr><tr><td>1100</td><td>2025-07-13</td><td>211.95</td></tr><tr><td>1101</td><td>2024-09-28</td><td>198.05</td></tr><tr><td>1102</td><td>2024-08-21</td><td>148.63</td></tr><tr><td>1103</td><td>2025-01-02</td><td>396.94</td></tr><tr><td>1104</td><td>2024-11-28</td><td>454.97</td></tr><tr><td>1105</td><td>2025-04-12</td><td>25.2</td></tr><tr><td>1106</td><td>2024-11-25</td><td>415.35</td></tr><tr><td>1107</td><td>2024-10-10</td><td>242.17</td></tr><tr><td>1108</td><td>2024-12-29</td><td>100.36</td></tr><tr><td>1109</td><td>2025-03-29</td><td>53.73</td></tr><tr><td>1110</td><td>2024-07-22</td><td>183.57</td></tr><tr><td>1111</td><td>2025-03-19</td><td>423.14</td></tr><tr><td>1112</td><td>2025-04-05</td><td>132.06</td></tr><tr><td>1113</td><td>2024-08-05</td><td>378.61</td></tr><tr><td>1114</td><td>2025-01-22</td><td>129.61</td></tr><tr><td>1115</td><td>2025-04-02</td><td>309.56</td></tr><tr><td>1116</td><td>2024-12-10</td><td>132.62</td></tr><tr><td>1117</td><td>2024-08-29</td><td>248.62</td></tr><tr><td>1118</td><td>2025-02-20</td><td>196.67</td></tr><tr><td>1119</td><td>2024-09-16</td><td>72.41</td></tr><tr><td>1120</td><td>2025-04-20</td><td>211.74</td></tr><tr><td>1121</td><td>2025-04-16</td><td>43.84</td></tr><tr><td>1122</td><td>2025-02-02</td><td>246.48</td></tr><tr><td>1123</td><td>2024-10-28</td><td>102.89</td></tr><tr><td>1124</td><td>2025-02-25</td><td>469.39</td></tr><tr><td>1125</td><td>2025-01-31</td><td>491.54</td></tr><tr><td>1126</td><td>2024-12-15</td><td>295.34</td></tr><tr><td>1127</td><td>2025-06-01</td><td>454.5</td></tr><tr><td>1128</td><td>2024-07-20</td><td>243.17</td></tr><tr><td>1129</td><td>2024-09-02</td><td>181.69</td></tr><tr><td>1130</td><td>2024-12-29</td><td>115.95</td></tr><tr><td>1131</td><td>2024-09-18</td><td>112.8</td></tr><tr><td>1132</td><td>2025-03-20</td><td>475.35</td></tr><tr><td>1133</td><td>2025-02-01</td><td>25.99</td></tr><tr><td>1134</td><td>2025-05-08</td><td>127.97</td></tr><tr><td>1135</td><td>2024-12-18</td><td>199.19</td></tr><tr><td>1136</td><td>2025-07-15</td><td>152.78</td></tr><tr><td>1137</td><td>2024-10-06</td><td>184.38</td></tr><tr><td>1138</td><td>2025-06-19</td><td>470.7</td></tr><tr><td>1139</td><td>2025-02-25</td><td>168.68</td></tr><tr><td>1140</td><td>2024-10-12</td><td>85.37</td></tr><tr><td>1141</td><td>2024-12-23</td><td>429.52</td></tr><tr><td>1142</td><td>2025-02-27</td><td>297.03</td></tr><tr><td>1143</td><td>2025-01-19</td><td>111.09</td></tr><tr><td>1144</td><td>2024-09-06</td><td>193.89</td></tr><tr><td>1145</td><td>2024-12-17</td><td>38.3</td></tr><tr><td>1146</td><td>2025-03-19</td><td>283.32</td></tr><tr><td>1147</td><td>2025-03-17</td><td>134.37</td></tr><tr><td>1148</td><td>2024-11-02</td><td>191.31</td></tr><tr><td>1149</td><td>2025-05-04</td><td>224.74</td></tr><tr><td>1150</td><td>2024-12-26</td><td>244.25</td></tr><tr><td>1151</td><td>2025-04-17</td><td>111.54</td></tr><tr><td>1152</td><td>2024-08-31</td><td>222.08</td></tr><tr><td>1153</td><td>2024-08-29</td><td>306.75</td></tr><tr><td>1154</td><td>2024-12-26</td><td>94.16</td></tr><tr><td>1155</td><td>2025-06-12</td><td>172.43</td></tr><tr><td>1156</td><td>2025-01-03</td><td>483.55</td></tr><tr><td>1157</td><td>2024-11-16</td><td>182.03</td></tr><tr><td>1158</td><td>2025-04-25</td><td>286.76</td></tr><tr><td>1159</td><td>2024-10-31</td><td>279.69</td></tr><tr><td>1160</td><td>2025-02-12</td><td>34.73</td></tr><tr><td>1161</td><td>2025-02-17</td><td>419.37</td></tr><tr><td>1162</td><td>2025-05-11</td><td>355.56</td></tr><tr><td>1163</td><td>2024-07-17</td><td>365.66</td></tr><tr><td>1164</td><td>2025-01-04</td><td>37.43</td></tr><tr><td>1165</td><td>2024-07-24</td><td>426.27</td></tr><tr><td>1166</td><td>2025-03-03</td><td>139.92</td></tr><tr><td>1167</td><td>2024-10-14</td><td>164.21</td></tr><tr><td>1168</td><td>2024-07-31</td><td>350.67</td></tr><tr><td>1169</td><td>2024-08-15</td><td>110.38</td></tr><tr><td>1170</td><td>2025-03-07</td><td>80.51</td></tr><tr><td>1171</td><td>2024-11-04</td><td>55.97</td></tr><tr><td>1172</td><td>2024-08-01</td><td>251.05</td></tr><tr><td>1173</td><td>2025-06-28</td><td>82.98</td></tr><tr><td>1174</td><td>2025-06-06</td><td>408.64</td></tr></tbody></table></div>"
      ]
     },
     "metadata": {
      "application/vnd.databricks.v1+output": {
       "addedWidgets": {},
       "aggData": [],
       "aggError": "",
       "aggOverflow": false,
       "aggSchema": [],
       "aggSeriesLimitReached": false,
       "aggType": "",
       "arguments": {},
       "columnCustomDisplayInfos": {},
       "data": [
        [
         1001,
         "2024-11-28",
         60.51
        ],
        [
         1002,
         "2025-05-16",
         403.06
        ],
        [
         1003,
         "2025-07-08",
         294.56
        ],
        [
         1004,
         "2025-05-06",
         416.29
        ],
        [
         1005,
         "2024-12-07",
         307.63
        ],
        [
         1006,
         "2025-06-02",
         85.21
        ],
        [
         1007,
         "2025-02-11",
         361.17
        ],
        [
         1008,
         "2024-12-04",
         387.06
        ],
        [
         1009,
         "2025-02-12",
         250.23
        ],
        [
         1010,
         "2024-10-29",
         385.54
        ],
        [
         1011,
         "2024-12-09",
         216.79
        ],
        [
         1012,
         "2025-03-25",
         245.84
        ],
        [
         1013,
         "2025-03-23",
         348.59
        ],
        [
         1014,
         "2025-07-15",
         202.1
        ],
        [
         1015,
         "2024-10-07",
         216.89
        ],
        [
         1016,
         "2025-02-12",
         331.19
        ],
        [
         1017,
         "2025-05-16",
         326.73
        ],
        [
         1018,
         "2024-08-13",
         79.33
        ],
        [
         1019,
         "2024-09-10",
         113.03
        ],
        [
         1020,
         "2025-05-15",
         23.32
        ],
        [
         1021,
         "2025-06-28",
         241.06
        ],
        [
         1022,
         "2025-07-08",
         356.95
        ],
        [
         1023,
         "2024-09-26",
         168.21
        ],
        [
         1024,
         "2024-12-15",
         225.72
        ],
        [
         1025,
         "2025-06-23",
         294.38
        ],
        [
         1026,
         "2024-07-27",
         335.37
        ],
        [
         1027,
         "2025-02-08",
         380.68
        ],
        [
         1028,
         "2024-11-11",
         367.39
        ],
        [
         1029,
         "2025-02-26",
         209.67
        ],
        [
         1030,
         "2025-05-03",
         275.14
        ],
        [
         1031,
         "2025-01-20",
         384.25
        ],
        [
         1032,
         "2025-01-13",
         384.5
        ],
        [
         1033,
         "2024-12-17",
         28.57
        ],
        [
         1034,
         "2024-12-28",
         206.53
        ],
        [
         1035,
         "2024-12-03",
         132.33
        ],
        [
         1036,
         "2025-02-21",
         86.62
        ],
        [
         1037,
         "2025-07-12",
         261.71
        ],
        [
         1038,
         "2024-12-13",
         128.68
        ],
        [
         1039,
         "2024-10-09",
         192.07
        ],
        [
         1040,
         "2025-05-08",
         58.76
        ],
        [
         1041,
         "2024-11-22",
         379.47
        ],
        [
         1042,
         "2025-03-18",
         242.86
        ],
        [
         1043,
         "2025-04-13",
         440.89
        ],
        [
         1044,
         "2025-05-29",
         99.4
        ],
        [
         1045,
         "2024-08-10",
         381.29
        ],
        [
         1046,
         "2024-10-24",
         211.05
        ],
        [
         1047,
         "2024-11-04",
         479.26
        ],
        [
         1048,
         "2025-04-28",
         417.99
        ],
        [
         1049,
         "2024-10-21",
         277.63
        ],
        [
         1050,
         "2025-06-08",
         465.34
        ],
        [
         1051,
         "2025-06-24",
         230.57
        ],
        [
         1052,
         "2024-08-15",
         257.98
        ],
        [
         1053,
         "2025-03-22",
         166.46
        ],
        [
         1054,
         "2024-09-10",
         20.68
        ],
        [
         1055,
         "2024-11-23",
         476.26
        ],
        [
         1056,
         "2025-05-04",
         402.15
        ],
        [
         1057,
         "2025-04-17",
         439.97
        ],
        [
         1058,
         "2025-07-06",
         311.74
        ],
        [
         1059,
         "2025-02-13",
         363.47
        ],
        [
         1060,
         "2025-06-24",
         61.35
        ],
        [
         1061,
         "2024-09-26",
         265.75
        ],
        [
         1062,
         "2024-10-02",
         344.96
        ],
        [
         1063,
         "2025-04-30",
         492.07
        ],
        [
         1064,
         "2025-04-04",
         228.6
        ],
        [
         1065,
         "2025-01-02",
         267.48
        ],
        [
         1066,
         "2024-08-22",
         118.68
        ],
        [
         1067,
         "2025-06-02",
         362.01
        ],
        [
         1068,
         "2024-09-23",
         308.01
        ],
        [
         1069,
         "2025-03-30",
         74.37
        ],
        [
         1070,
         "2025-03-09",
         311.63
        ],
        [
         1071,
         "2025-04-11",
         134.75
        ],
        [
         1072,
         "2025-01-25",
         191.23
        ],
        [
         1073,
         "2025-04-30",
         197.6
        ],
        [
         1074,
         "2024-11-11",
         51.74
        ],
        [
         1075,
         "2024-09-14",
         177.46
        ],
        [
         1076,
         "2025-03-16",
         394.23
        ],
        [
         1077,
         "2025-03-18",
         218.11
        ],
        [
         1078,
         "2024-09-27",
         283.97
        ],
        [
         1079,
         "2024-08-11",
         258.77
        ],
        [
         1080,
         "2025-03-13",
         94.11
        ],
        [
         1081,
         "2024-10-02",
         159.16
        ],
        [
         1082,
         "2025-05-05",
         480.18
        ],
        [
         1083,
         "2024-10-14",
         137.99
        ],
        [
         1084,
         "2024-10-09",
         199.16
        ],
        [
         1085,
         "2025-07-13",
         479.22
        ],
        [
         1086,
         "2025-02-01",
         412.31
        ],
        [
         1087,
         "2024-08-28",
         307.9
        ],
        [
         1088,
         "2025-04-05",
         190.97
        ],
        [
         1089,
         "2024-08-05",
         243.91
        ],
        [
         1090,
         "2025-04-13",
         89.9
        ],
        [
         1091,
         "2024-09-24",
         134.06
        ],
        [
         1092,
         "2025-03-15",
         482.47
        ],
        [
         1093,
         "2024-09-26",
         185.46
        ],
        [
         1094,
         "2025-04-12",
         455.02
        ],
        [
         1095,
         "2024-10-12",
         23.91
        ],
        [
         1096,
         "2025-06-30",
         196.59
        ],
        [
         1097,
         "2024-11-02",
         80.64
        ],
        [
         1098,
         "2025-06-03",
         81.23
        ],
        [
         1099,
         "2025-03-22",
         479.64
        ],
        [
         1100,
         "2025-07-13",
         211.95
        ],
        [
         1101,
         "2024-09-28",
         198.05
        ],
        [
         1102,
         "2024-08-21",
         148.63
        ],
        [
         1103,
         "2025-01-02",
         396.94
        ],
        [
         1104,
         "2024-11-28",
         454.97
        ],
        [
         1105,
         "2025-04-12",
         25.2
        ],
        [
         1106,
         "2024-11-25",
         415.35
        ],
        [
         1107,
         "2024-10-10",
         242.17
        ],
        [
         1108,
         "2024-12-29",
         100.36
        ],
        [
         1109,
         "2025-03-29",
         53.73
        ],
        [
         1110,
         "2024-07-22",
         183.57
        ],
        [
         1111,
         "2025-03-19",
         423.14
        ],
        [
         1112,
         "2025-04-05",
         132.06
        ],
        [
         1113,
         "2024-08-05",
         378.61
        ],
        [
         1114,
         "2025-01-22",
         129.61
        ],
        [
         1115,
         "2025-04-02",
         309.56
        ],
        [
         1116,
         "2024-12-10",
         132.62
        ],
        [
         1117,
         "2024-08-29",
         248.62
        ],
        [
         1118,
         "2025-02-20",
         196.67
        ],
        [
         1119,
         "2024-09-16",
         72.41
        ],
        [
         1120,
         "2025-04-20",
         211.74
        ],
        [
         1121,
         "2025-04-16",
         43.84
        ],
        [
         1122,
         "2025-02-02",
         246.48
        ],
        [
         1123,
         "2024-10-28",
         102.89
        ],
        [
         1124,
         "2025-02-25",
         469.39
        ],
        [
         1125,
         "2025-01-31",
         491.54
        ],
        [
         1126,
         "2024-12-15",
         295.34
        ],
        [
         1127,
         "2025-06-01",
         454.5
        ],
        [
         1128,
         "2024-07-20",
         243.17
        ],
        [
         1129,
         "2024-09-02",
         181.69
        ],
        [
         1130,
         "2024-12-29",
         115.95
        ],
        [
         1131,
         "2024-09-18",
         112.8
        ],
        [
         1132,
         "2025-03-20",
         475.35
        ],
        [
         1133,
         "2025-02-01",
         25.99
        ],
        [
         1134,
         "2025-05-08",
         127.97
        ],
        [
         1135,
         "2024-12-18",
         199.19
        ],
        [
         1136,
         "2025-07-15",
         152.78
        ],
        [
         1137,
         "2024-10-06",
         184.38
        ],
        [
         1138,
         "2025-06-19",
         470.7
        ],
        [
         1139,
         "2025-02-25",
         168.68
        ],
        [
         1140,
         "2024-10-12",
         85.37
        ],
        [
         1141,
         "2024-12-23",
         429.52
        ],
        [
         1142,
         "2025-02-27",
         297.03
        ],
        [
         1143,
         "2025-01-19",
         111.09
        ],
        [
         1144,
         "2024-09-06",
         193.89
        ],
        [
         1145,
         "2024-12-17",
         38.3
        ],
        [
         1146,
         "2025-03-19",
         283.32
        ],
        [
         1147,
         "2025-03-17",
         134.37
        ],
        [
         1148,
         "2024-11-02",
         191.31
        ],
        [
         1149,
         "2025-05-04",
         224.74
        ],
        [
         1150,
         "2024-12-26",
         244.25
        ],
        [
         1151,
         "2025-04-17",
         111.54
        ],
        [
         1152,
         "2024-08-31",
         222.08
        ],
        [
         1153,
         "2024-08-29",
         306.75
        ],
        [
         1154,
         "2024-12-26",
         94.16
        ],
        [
         1155,
         "2025-06-12",
         172.43
        ],
        [
         1156,
         "2025-01-03",
         483.55
        ],
        [
         1157,
         "2024-11-16",
         182.03
        ],
        [
         1158,
         "2025-04-25",
         286.76
        ],
        [
         1159,
         "2024-10-31",
         279.69
        ],
        [
         1160,
         "2025-02-12",
         34.73
        ],
        [
         1161,
         "2025-02-17",
         419.37
        ],
        [
         1162,
         "2025-05-11",
         355.56
        ],
        [
         1163,
         "2024-07-17",
         365.66
        ],
        [
         1164,
         "2025-01-04",
         37.43
        ],
        [
         1165,
         "2024-07-24",
         426.27
        ],
        [
         1166,
         "2025-03-03",
         139.92
        ],
        [
         1167,
         "2024-10-14",
         164.21
        ],
        [
         1168,
         "2024-07-31",
         350.67
        ],
        [
         1169,
         "2024-08-15",
         110.38
        ],
        [
         1170,
         "2025-03-07",
         80.51
        ],
        [
         1171,
         "2024-11-04",
         55.97
        ],
        [
         1172,
         "2024-08-01",
         251.05
        ],
        [
         1173,
         "2025-06-28",
         82.98
        ],
        [
         1174,
         "2025-06-06",
         408.64
        ]
       ],
       "datasetInfos": [
        {
         "name": "_sqldf",
         "schema": {
          "fields": [
           {
            "metadata": {},
            "name": "order_id",
            "nullable": true,
            "type": "integer"
           },
           {
            "metadata": {},
            "name": "order_date",
            "nullable": true,
            "type": "date"
           },
           {
            "metadata": {},
            "name": "amount",
            "nullable": true,
            "type": "float"
           }
          ],
          "type": "struct"
         },
         "tableIdentifier": null,
         "typeStr": "pyspark.sql.connect.dataframe.DataFrame"
        }
       ],
       "dbfsResultPath": null,
       "isJsonSchema": true,
       "metadata": {
        "createTempViewForImplicitDf": true,
        "dataframeName": "_sqldf",
        "executionCount": 15
       },
       "overflow": false,
       "plotOptions": {
        "customPlotOptions": {},
        "displayType": "table",
        "pivotAggregation": null,
        "pivotColumns": null,
        "xColumns": null,
        "yColumns": null
       },
       "removedWidgets": [],
       "schema": [
        {
         "metadata": "{}",
         "name": "order_id",
         "type": "\"integer\""
        },
        {
         "metadata": "{}",
         "name": "order_date",
         "type": "\"date\""
        },
        {
         "metadata": "{}",
         "name": "amount",
         "type": "\"float\""
        }
       ],
       "type": "table"
      }
     },
     "output_type": "display_data"
    }
   ],
   "source": [
    "%sql\n",
    "SELECT * FROM default.orders_silver;"
   ]
  },
  {
   "cell_type": "code",
   "execution_count": 0,
   "metadata": {
    "application/vnd.databricks.v1+cell": {
     "cellMetadata": {
      "byteLimit": 2048000,
      "implicitDf": true,
      "rowLimit": 10000
     },
     "inputWidgets": {},
     "nuid": "14327ac7-c029-4746-9d21-27b48daf453c",
     "showTitle": false,
     "tableResultSettingsMap": {},
     "title": ""
    }
   },
   "outputs": [
    {
     "output_type": "display_data",
     "data": {
      "text/html": [
       "<style scoped>\n",
       "  .table-result-container {\n",
       "    max-height: 300px;\n",
       "    overflow: auto;\n",
       "  }\n",
       "  table, th, td {\n",
       "    border: 1px solid black;\n",
       "    border-collapse: collapse;\n",
       "  }\n",
       "  th, td {\n",
       "    padding: 5px;\n",
       "  }\n",
       "  th {\n",
       "    text-align: left;\n",
       "  }\n",
       "</style><div class='table-result-container'><table class='table-result'><thead style='background-color: white'><tr><th>order_date</th><th>total_amount</th><th>total_sales</th></tr></thead><tbody><tr><td>2025-05-15</td><td>23.31999969482422</td><td>1</td></tr><tr><td>2025-01-04</td><td>37.43000030517578</td><td>1</td></tr><tr><td>2025-04-16</td><td>43.84000015258789</td><td>1</td></tr><tr><td>2025-03-29</td><td>53.72999954223633</td><td>1</td></tr><tr><td>2024-12-17</td><td>66.86999893188477</td><td>2</td></tr><tr><td>2024-09-16</td><td>72.41000366210938</td><td>1</td></tr><tr><td>2025-03-30</td><td>74.37000274658203</td><td>1</td></tr><tr><td>2024-08-13</td><td>79.33000183105469</td><td>1</td></tr><tr><td>2025-03-07</td><td>80.51000213623047</td><td>1</td></tr><tr><td>2025-06-03</td><td>81.2300033569336</td><td>1</td></tr><tr><td>2025-02-21</td><td>86.62000274658203</td><td>1</td></tr><tr><td>2025-03-13</td><td>94.11000061035156</td><td>1</td></tr><tr><td>2025-05-29</td><td>99.4000015258789</td><td>1</td></tr><tr><td>2024-10-28</td><td>102.88999938964844</td><td>1</td></tr><tr><td>2024-10-12</td><td>109.28000259399414</td><td>2</td></tr><tr><td>2025-01-19</td><td>111.08999633789062</td><td>1</td></tr><tr><td>2024-09-18</td><td>112.80000305175781</td><td>1</td></tr><tr><td>2024-08-22</td><td>118.68000030517578</td><td>1</td></tr><tr><td>2024-12-13</td><td>128.67999267578125</td><td>1</td></tr><tr><td>2025-01-22</td><td>129.61000061035156</td><td>1</td></tr><tr><td>2024-12-03</td><td>132.3300018310547</td><td>1</td></tr><tr><td>2024-12-10</td><td>132.6199951171875</td><td>1</td></tr><tr><td>2024-09-10</td><td>133.70999908447266</td><td>2</td></tr><tr><td>2024-09-24</td><td>134.05999755859375</td><td>1</td></tr><tr><td>2025-03-17</td><td>134.3699951171875</td><td>1</td></tr><tr><td>2025-04-11</td><td>134.75</td><td>1</td></tr><tr><td>2025-03-03</td><td>139.9199981689453</td><td>1</td></tr><tr><td>2024-08-21</td><td>148.6300048828125</td><td>1</td></tr><tr><td>2025-06-12</td><td>172.42999267578125</td><td>1</td></tr><tr><td>2024-09-14</td><td>177.4600067138672</td><td>1</td></tr><tr><td>2024-09-02</td><td>181.69000244140625</td><td>1</td></tr><tr><td>2024-11-16</td><td>182.02999877929688</td><td>1</td></tr><tr><td>2024-07-22</td><td>183.57000732421875</td><td>1</td></tr><tr><td>2024-10-06</td><td>184.3800048828125</td><td>1</td></tr><tr><td>2025-05-08</td><td>186.72999954223633</td><td>2</td></tr><tr><td>2025-01-25</td><td>191.22999572753906</td><td>1</td></tr><tr><td>2024-09-06</td><td>193.88999938964844</td><td>1</td></tr><tr><td>2025-06-30</td><td>196.58999633789062</td><td>1</td></tr><tr><td>2025-02-20</td><td>196.6699981689453</td><td>1</td></tr><tr><td>2024-09-28</td><td>198.0500030517578</td><td>1</td></tr><tr><td>2024-12-18</td><td>199.19000244140625</td><td>1</td></tr><tr><td>2024-12-28</td><td>206.52999877929688</td><td>1</td></tr><tr><td>2025-02-26</td><td>209.6699981689453</td><td>1</td></tr><tr><td>2024-10-24</td><td>211.0500030517578</td><td>1</td></tr><tr><td>2025-04-20</td><td>211.74000549316406</td><td>1</td></tr><tr><td>2024-12-29</td><td>216.30999755859375</td><td>2</td></tr><tr><td>2024-12-09</td><td>216.7899932861328</td><td>1</td></tr><tr><td>2024-10-07</td><td>216.88999938964844</td><td>1</td></tr><tr><td>2024-08-31</td><td>222.0800018310547</td><td>1</td></tr><tr><td>2025-04-04</td><td>228.60000610351562</td><td>1</td></tr><tr><td>2024-10-10</td><td>242.1699981689453</td><td>1</td></tr><tr><td>2024-07-20</td><td>243.1699981689453</td><td>1</td></tr><tr><td>2025-03-25</td><td>245.83999633789062</td><td>1</td></tr><tr><td>2025-02-02</td><td>246.47999572753906</td><td>1</td></tr><tr><td>2024-08-01</td><td>251.0500030517578</td><td>1</td></tr><tr><td>2024-08-11</td><td>258.7699890136719</td><td>1</td></tr><tr><td>2025-07-12</td><td>261.7099914550781</td><td>1</td></tr><tr><td>2024-11-02</td><td>271.9499969482422</td><td>2</td></tr><tr><td>2025-05-03</td><td>275.1400146484375</td><td>1</td></tr><tr><td>2024-10-21</td><td>277.6300048828125</td><td>1</td></tr><tr><td>2024-10-31</td><td>279.69000244140625</td><td>1</td></tr><tr><td>2024-09-27</td><td>283.9700012207031</td><td>1</td></tr><tr><td>2025-04-25</td><td>286.760009765625</td><td>1</td></tr><tr><td>2025-06-24</td><td>291.92000579833984</td><td>2</td></tr><tr><td>2025-06-23</td><td>294.3800048828125</td><td>1</td></tr><tr><td>2025-02-27</td><td>297.0299987792969</td><td>1</td></tr><tr><td>2024-10-14</td><td>302.20001220703125</td><td>2</td></tr><tr><td>2024-12-07</td><td>307.6300048828125</td><td>1</td></tr><tr><td>2024-08-28</td><td>307.8999938964844</td><td>1</td></tr><tr><td>2024-09-23</td><td>308.010009765625</td><td>1</td></tr><tr><td>2025-04-02</td><td>309.55999755859375</td><td>1</td></tr><tr><td>2025-03-09</td><td>311.6300048828125</td><td>1</td></tr><tr><td>2025-07-06</td><td>311.739990234375</td><td>1</td></tr><tr><td>2025-04-05</td><td>323.0299987792969</td><td>2</td></tr><tr><td>2025-06-28</td><td>324.04000091552734</td><td>2</td></tr><tr><td>2024-07-27</td><td>335.3699951171875</td><td>1</td></tr><tr><td>2024-12-26</td><td>338.4100036621094</td><td>2</td></tr><tr><td>2025-03-23</td><td>348.5899963378906</td><td>1</td></tr><tr><td>2024-07-31</td><td>350.6700134277344</td><td>1</td></tr><tr><td>2025-07-15</td><td>354.8800048828125</td><td>2</td></tr><tr><td>2025-05-11</td><td>355.55999755859375</td><td>1</td></tr><tr><td>2025-02-11</td><td>361.1700134277344</td><td>1</td></tr><tr><td>2025-02-13</td><td>363.4700012207031</td><td>1</td></tr><tr><td>2024-07-17</td><td>365.6600036621094</td><td>1</td></tr><tr><td>2024-08-15</td><td>368.3600082397461</td><td>2</td></tr><tr><td>2024-11-22</td><td>379.4700012207031</td><td>1</td></tr><tr><td>2025-02-08</td><td>380.67999267578125</td><td>1</td></tr><tr><td>2024-08-10</td><td>381.2900085449219</td><td>1</td></tr><tr><td>2025-01-20</td><td>384.25</td><td>1</td></tr><tr><td>2025-01-13</td><td>384.5</td><td>1</td></tr><tr><td>2024-10-29</td><td>385.5400085449219</td><td>1</td></tr><tr><td>2024-12-04</td><td>387.05999755859375</td><td>1</td></tr><tr><td>2024-10-09</td><td>391.2300109863281</td><td>2</td></tr><tr><td>2025-03-16</td><td>394.2300109863281</td><td>1</td></tr><tr><td>2025-06-06</td><td>408.6400146484375</td><td>1</td></tr><tr><td>2024-11-25</td><td>415.3500061035156</td><td>1</td></tr><tr><td>2025-05-06</td><td>416.2900085449219</td><td>1</td></tr><tr><td>2025-04-28</td><td>417.989990234375</td><td>1</td></tr><tr><td>2024-11-11</td><td>419.1300163269043</td><td>2</td></tr><tr><td>2025-02-17</td><td>419.3699951171875</td><td>1</td></tr><tr><td>2024-07-24</td><td>426.2699890136719</td><td>1</td></tr><tr><td>2024-12-23</td><td>429.5199890136719</td><td>1</td></tr><tr><td>2025-02-01</td><td>438.2999973297119</td><td>2</td></tr><tr><td>2025-06-02</td><td>447.22000885009766</td><td>2</td></tr><tr><td>2025-06-01</td><td>454.5</td><td>1</td></tr><tr><td>2025-03-18</td><td>460.9700012207031</td><td>2</td></tr><tr><td>2025-06-08</td><td>465.3399963378906</td><td>1</td></tr><tr><td>2025-06-19</td><td>470.70001220703125</td><td>1</td></tr><tr><td>2025-03-20</td><td>475.3500061035156</td><td>1</td></tr><tr><td>2024-11-23</td><td>476.260009765625</td><td>1</td></tr><tr><td>2025-05-05</td><td>480.17999267578125</td><td>1</td></tr><tr><td>2025-04-12</td><td>480.2199897766113</td><td>2</td></tr><tr><td>2025-03-15</td><td>482.4700012207031</td><td>1</td></tr><tr><td>2025-01-03</td><td>483.54998779296875</td><td>1</td></tr><tr><td>2025-01-31</td><td>491.5400085449219</td><td>1</td></tr><tr><td>2024-10-02</td><td>504.1199951171875</td><td>2</td></tr><tr><td>2024-11-28</td><td>515.4799995422363</td><td>2</td></tr><tr><td>2024-12-15</td><td>521.0599975585938</td><td>2</td></tr><tr><td>2025-04-13</td><td>530.7900161743164</td><td>2</td></tr><tr><td>2024-11-04</td><td>535.2300109863281</td><td>2</td></tr><tr><td>2025-04-17</td><td>551.5100021362305</td><td>2</td></tr><tr><td>2024-08-29</td><td>555.3699951171875</td><td>2</td></tr><tr><td>2025-02-12</td><td>616.1499977111816</td><td>3</td></tr><tr><td>2024-09-26</td><td>619.4200134277344</td><td>3</td></tr><tr><td>2024-08-05</td><td>622.5199890136719</td><td>2</td></tr><tr><td>2025-05-04</td><td>626.8899993896484</td><td>2</td></tr><tr><td>2025-02-25</td><td>638.0700073242188</td><td>2</td></tr><tr><td>2025-03-22</td><td>646.1000213623047</td><td>2</td></tr><tr><td>2025-07-08</td><td>651.510009765625</td><td>2</td></tr><tr><td>2025-01-02</td><td>664.4200134277344</td><td>2</td></tr><tr><td>2025-04-30</td><td>689.6700134277344</td><td>2</td></tr><tr><td>2025-07-13</td><td>691.1699981689453</td><td>2</td></tr><tr><td>2025-03-19</td><td>706.4600219726562</td><td>2</td></tr><tr><td>2025-05-16</td><td>729.7900085449219</td><td>2</td></tr></tbody></table></div>"
      ]
     },
     "metadata": {
      "application/vnd.databricks.v1+output": {
       "addedWidgets": {},
       "aggData": [],
       "aggError": "",
       "aggOverflow": false,
       "aggSchema": [],
       "aggSeriesLimitReached": false,
       "aggType": "",
       "arguments": {},
       "columnCustomDisplayInfos": {},
       "data": [
        [
         "2025-05-15",
         23.31999969482422,
         1
        ],
        [
         "2025-01-04",
         37.43000030517578,
         1
        ],
        [
         "2025-04-16",
         43.84000015258789,
         1
        ],
        [
         "2025-03-29",
         53.72999954223633,
         1
        ],
        [
         "2024-12-17",
         66.86999893188477,
         2
        ],
        [
         "2024-09-16",
         72.41000366210938,
         1
        ],
        [
         "2025-03-30",
         74.37000274658203,
         1
        ],
        [
         "2024-08-13",
         79.33000183105469,
         1
        ],
        [
         "2025-03-07",
         80.51000213623047,
         1
        ],
        [
         "2025-06-03",
         81.2300033569336,
         1
        ],
        [
         "2025-02-21",
         86.62000274658203,
         1
        ],
        [
         "2025-03-13",
         94.11000061035156,
         1
        ],
        [
         "2025-05-29",
         99.4000015258789,
         1
        ],
        [
         "2024-10-28",
         102.88999938964844,
         1
        ],
        [
         "2024-10-12",
         109.28000259399414,
         2
        ],
        [
         "2025-01-19",
         111.08999633789062,
         1
        ],
        [
         "2024-09-18",
         112.80000305175781,
         1
        ],
        [
         "2024-08-22",
         118.68000030517578,
         1
        ],
        [
         "2024-12-13",
         128.67999267578125,
         1
        ],
        [
         "2025-01-22",
         129.61000061035156,
         1
        ],
        [
         "2024-12-03",
         132.3300018310547,
         1
        ],
        [
         "2024-12-10",
         132.6199951171875,
         1
        ],
        [
         "2024-09-10",
         133.70999908447266,
         2
        ],
        [
         "2024-09-24",
         134.05999755859375,
         1
        ],
        [
         "2025-03-17",
         134.3699951171875,
         1
        ],
        [
         "2025-04-11",
         134.75,
         1
        ],
        [
         "2025-03-03",
         139.9199981689453,
         1
        ],
        [
         "2024-08-21",
         148.6300048828125,
         1
        ],
        [
         "2025-06-12",
         172.42999267578125,
         1
        ],
        [
         "2024-09-14",
         177.4600067138672,
         1
        ],
        [
         "2024-09-02",
         181.69000244140625,
         1
        ],
        [
         "2024-11-16",
         182.02999877929688,
         1
        ],
        [
         "2024-07-22",
         183.57000732421875,
         1
        ],
        [
         "2024-10-06",
         184.3800048828125,
         1
        ],
        [
         "2025-05-08",
         186.72999954223633,
         2
        ],
        [
         "2025-01-25",
         191.22999572753906,
         1
        ],
        [
         "2024-09-06",
         193.88999938964844,
         1
        ],
        [
         "2025-06-30",
         196.58999633789062,
         1
        ],
        [
         "2025-02-20",
         196.6699981689453,
         1
        ],
        [
         "2024-09-28",
         198.0500030517578,
         1
        ],
        [
         "2024-12-18",
         199.19000244140625,
         1
        ],
        [
         "2024-12-28",
         206.52999877929688,
         1
        ],
        [
         "2025-02-26",
         209.6699981689453,
         1
        ],
        [
         "2024-10-24",
         211.0500030517578,
         1
        ],
        [
         "2025-04-20",
         211.74000549316406,
         1
        ],
        [
         "2024-12-29",
         216.30999755859375,
         2
        ],
        [
         "2024-12-09",
         216.7899932861328,
         1
        ],
        [
         "2024-10-07",
         216.88999938964844,
         1
        ],
        [
         "2024-08-31",
         222.0800018310547,
         1
        ],
        [
         "2025-04-04",
         228.60000610351562,
         1
        ],
        [
         "2024-10-10",
         242.1699981689453,
         1
        ],
        [
         "2024-07-20",
         243.1699981689453,
         1
        ],
        [
         "2025-03-25",
         245.83999633789062,
         1
        ],
        [
         "2025-02-02",
         246.47999572753906,
         1
        ],
        [
         "2024-08-01",
         251.0500030517578,
         1
        ],
        [
         "2024-08-11",
         258.7699890136719,
         1
        ],
        [
         "2025-07-12",
         261.7099914550781,
         1
        ],
        [
         "2024-11-02",
         271.9499969482422,
         2
        ],
        [
         "2025-05-03",
         275.1400146484375,
         1
        ],
        [
         "2024-10-21",
         277.6300048828125,
         1
        ],
        [
         "2024-10-31",
         279.69000244140625,
         1
        ],
        [
         "2024-09-27",
         283.9700012207031,
         1
        ],
        [
         "2025-04-25",
         286.760009765625,
         1
        ],
        [
         "2025-06-24",
         291.92000579833984,
         2
        ],
        [
         "2025-06-23",
         294.3800048828125,
         1
        ],
        [
         "2025-02-27",
         297.0299987792969,
         1
        ],
        [
         "2024-10-14",
         302.20001220703125,
         2
        ],
        [
         "2024-12-07",
         307.6300048828125,
         1
        ],
        [
         "2024-08-28",
         307.8999938964844,
         1
        ],
        [
         "2024-09-23",
         308.010009765625,
         1
        ],
        [
         "2025-04-02",
         309.55999755859375,
         1
        ],
        [
         "2025-03-09",
         311.6300048828125,
         1
        ],
        [
         "2025-07-06",
         311.739990234375,
         1
        ],
        [
         "2025-04-05",
         323.0299987792969,
         2
        ],
        [
         "2025-06-28",
         324.04000091552734,
         2
        ],
        [
         "2024-07-27",
         335.3699951171875,
         1
        ],
        [
         "2024-12-26",
         338.4100036621094,
         2
        ],
        [
         "2025-03-23",
         348.5899963378906,
         1
        ],
        [
         "2024-07-31",
         350.6700134277344,
         1
        ],
        [
         "2025-07-15",
         354.8800048828125,
         2
        ],
        [
         "2025-05-11",
         355.55999755859375,
         1
        ],
        [
         "2025-02-11",
         361.1700134277344,
         1
        ],
        [
         "2025-02-13",
         363.4700012207031,
         1
        ],
        [
         "2024-07-17",
         365.6600036621094,
         1
        ],
        [
         "2024-08-15",
         368.3600082397461,
         2
        ],
        [
         "2024-11-22",
         379.4700012207031,
         1
        ],
        [
         "2025-02-08",
         380.67999267578125,
         1
        ],
        [
         "2024-08-10",
         381.2900085449219,
         1
        ],
        [
         "2025-01-20",
         384.25,
         1
        ],
        [
         "2025-01-13",
         384.5,
         1
        ],
        [
         "2024-10-29",
         385.5400085449219,
         1
        ],
        [
         "2024-12-04",
         387.05999755859375,
         1
        ],
        [
         "2024-10-09",
         391.2300109863281,
         2
        ],
        [
         "2025-03-16",
         394.2300109863281,
         1
        ],
        [
         "2025-06-06",
         408.6400146484375,
         1
        ],
        [
         "2024-11-25",
         415.3500061035156,
         1
        ],
        [
         "2025-05-06",
         416.2900085449219,
         1
        ],
        [
         "2025-04-28",
         417.989990234375,
         1
        ],
        [
         "2024-11-11",
         419.1300163269043,
         2
        ],
        [
         "2025-02-17",
         419.3699951171875,
         1
        ],
        [
         "2024-07-24",
         426.2699890136719,
         1
        ],
        [
         "2024-12-23",
         429.5199890136719,
         1
        ],
        [
         "2025-02-01",
         438.2999973297119,
         2
        ],
        [
         "2025-06-02",
         447.22000885009766,
         2
        ],
        [
         "2025-06-01",
         454.5,
         1
        ],
        [
         "2025-03-18",
         460.9700012207031,
         2
        ],
        [
         "2025-06-08",
         465.3399963378906,
         1
        ],
        [
         "2025-06-19",
         470.70001220703125,
         1
        ],
        [
         "2025-03-20",
         475.3500061035156,
         1
        ],
        [
         "2024-11-23",
         476.260009765625,
         1
        ],
        [
         "2025-05-05",
         480.17999267578125,
         1
        ],
        [
         "2025-04-12",
         480.2199897766113,
         2
        ],
        [
         "2025-03-15",
         482.4700012207031,
         1
        ],
        [
         "2025-01-03",
         483.54998779296875,
         1
        ],
        [
         "2025-01-31",
         491.5400085449219,
         1
        ],
        [
         "2024-10-02",
         504.1199951171875,
         2
        ],
        [
         "2024-11-28",
         515.4799995422363,
         2
        ],
        [
         "2024-12-15",
         521.0599975585938,
         2
        ],
        [
         "2025-04-13",
         530.7900161743164,
         2
        ],
        [
         "2024-11-04",
         535.2300109863281,
         2
        ],
        [
         "2025-04-17",
         551.5100021362305,
         2
        ],
        [
         "2024-08-29",
         555.3699951171875,
         2
        ],
        [
         "2025-02-12",
         616.1499977111816,
         3
        ],
        [
         "2024-09-26",
         619.4200134277344,
         3
        ],
        [
         "2024-08-05",
         622.5199890136719,
         2
        ],
        [
         "2025-05-04",
         626.8899993896484,
         2
        ],
        [
         "2025-02-25",
         638.0700073242188,
         2
        ],
        [
         "2025-03-22",
         646.1000213623047,
         2
        ],
        [
         "2025-07-08",
         651.510009765625,
         2
        ],
        [
         "2025-01-02",
         664.4200134277344,
         2
        ],
        [
         "2025-04-30",
         689.6700134277344,
         2
        ],
        [
         "2025-07-13",
         691.1699981689453,
         2
        ],
        [
         "2025-03-19",
         706.4600219726562,
         2
        ],
        [
         "2025-05-16",
         729.7900085449219,
         2
        ]
       ],
       "datasetInfos": [
        {
         "name": "_sqldf",
         "schema": {
          "fields": [
           {
            "metadata": {},
            "name": "order_date",
            "nullable": true,
            "type": "date"
           },
           {
            "metadata": {},
            "name": "total_amount",
            "nullable": true,
            "type": "double"
           },
           {
            "metadata": {},
            "name": "total_sales",
            "nullable": true,
            "type": "long"
           }
          ],
          "type": "struct"
         },
         "tableIdentifier": null,
         "typeStr": "pyspark.sql.connect.dataframe.DataFrame"
        }
       ],
       "dbfsResultPath": null,
       "isJsonSchema": true,
       "metadata": {
        "createTempViewForImplicitDf": true,
        "dataframeName": "_sqldf",
        "executionCount": 16
       },
       "overflow": false,
       "plotOptions": {
        "customPlotOptions": {},
        "displayType": "table",
        "pivotAggregation": null,
        "pivotColumns": null,
        "xColumns": null,
        "yColumns": null
       },
       "removedWidgets": [],
       "schema": [
        {
         "metadata": "{}",
         "name": "order_date",
         "type": "\"date\""
        },
        {
         "metadata": "{}",
         "name": "total_amount",
         "type": "\"double\""
        },
        {
         "metadata": "{}",
         "name": "total_sales",
         "type": "\"long\""
        }
       ],
       "type": "table"
      }
     },
     "output_type": "display_data"
    }
   ],
   "source": [
    "%sql\n",
    "SELECT * FROM default.orders_gold;"
   ]
  },
  {
   "cell_type": "code",
   "execution_count": 0,
   "metadata": {
    "application/vnd.databricks.v1+cell": {
     "cellMetadata": {},
     "inputWidgets": {},
     "nuid": "62a7d2b3-3b37-4fc9-9583-f298edc7b0ea",
     "showTitle": false,
     "tableResultSettingsMap": {},
     "title": ""
    }
   },
   "outputs": [],
   "source": []
  }
 ],
 "metadata": {
  "application/vnd.databricks.v1+notebook": {
   "computePreferences": null,
   "dashboards": [],
   "environmentMetadata": {
    "base_environment": "",
    "environment_version": "2"
   },
   "inputWidgetPreferences": null,
   "language": "python",
   "notebookMetadata": {
    "mostRecentlyExecutedCommandWithImplicitDF": {
     "commandId": 6069338639314668,
     "dataframes": [
      "_sqldf"
     ]
    },
    "pythonIndentUnit": 4
   },
   "notebookName": "traditional_ELT_pipelines",
   "widgets": {}
  },
  "language_info": {
   "name": "python"
  }
 },
 "nbformat": 4,
 "nbformat_minor": 0
}