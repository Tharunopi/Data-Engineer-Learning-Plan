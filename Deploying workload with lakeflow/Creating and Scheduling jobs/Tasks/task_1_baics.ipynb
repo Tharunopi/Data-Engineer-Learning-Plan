{
 "cells": [
  {
   "cell_type": "code",
   "execution_count": 0,
   "metadata": {
    "application/vnd.databricks.v1+cell": {
     "cellMetadata": {},
     "inputWidgets": {},
     "nuid": "31dbd435-5582-4f43-b874-6a32a4106bb9",
     "showTitle": false,
     "tableResultSettingsMap": {},
     "title": ""
    }
   },
   "outputs": [],
   "source": [
    "%sql\n",
    "CREATE OR REPLACE TABLE bankai(\n",
    "  id INT,\n",
    "  name VARCHAR(50)\n",
    ");\n",
    "\n",
    "INSERT INTO bankai\n",
    "VALUES\n",
    "  (1, 'Kenpachi'),\n",
    "  (2, 'Aizen'),\n",
    "  (3, 'Ichigo'),\n",
    "  (4, 'Uhurahara')"
   ]
  },
  {
   "cell_type": "code",
   "execution_count": 0,
   "metadata": {
    "application/vnd.databricks.v1+cell": {
     "cellMetadata": {},
     "inputWidgets": {},
     "nuid": "6b67e90d-3b20-46e4-a08d-a5a7c4bbe70b",
     "showTitle": false,
     "tableResultSettingsMap": {},
     "title": ""
    }
   },
   "outputs": [],
   "source": [
    "year_value = dbutils.widgets.get(\"year\")\n",
    "print(year_value)"
   ]
  }
 ],
 "metadata": {
  "application/vnd.databricks.v1+notebook": {
   "computePreferences": null,
   "dashboards": [],
   "environmentMetadata": {
    "base_environment": "",
    "environment_version": "2"
   },
   "inputWidgetPreferences": null,
   "language": "python",
   "notebookMetadata": {
    "pythonIndentUnit": 4
   },
   "notebookName": "task_1_baics",
   "widgets": {}
  },
  "language_info": {
   "name": "python"
  }
 },
 "nbformat": 4,
 "nbformat_minor": 0
}