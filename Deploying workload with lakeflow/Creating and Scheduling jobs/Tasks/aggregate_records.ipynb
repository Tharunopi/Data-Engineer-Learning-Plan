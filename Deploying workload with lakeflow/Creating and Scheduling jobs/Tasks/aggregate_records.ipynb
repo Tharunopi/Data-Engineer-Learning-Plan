{
 "cells": [
  {
   "cell_type": "code",
   "execution_count": 0,
   "metadata": {
    "application/vnd.databricks.v1+cell": {
     "cellMetadata": {
      "byteLimit": 2048000,
      "rowLimit": 10000
     },
     "inputWidgets": {},
     "nuid": "02fe3964-1709-44ef-999a-38999391e5f3",
     "showTitle": false,
     "tableResultSettingsMap": {},
     "title": ""
    }
   },
   "outputs": [],
   "source": [
    "import pyspark.sql.functions as F"
   ]
  },
  {
   "cell_type": "code",
   "execution_count": 0,
   "metadata": {
    "application/vnd.databricks.v1+cell": {
     "cellMetadata": {
      "byteLimit": 2048000,
      "implicitDf": true,
      "rowLimit": 10000
     },
     "inputWidgets": {},
     "nuid": "8fe21d27-53d4-4fd9-a378-079db4cf2e58",
     "showTitle": false,
     "tableResultSettingsMap": {},
     "title": ""
    }
   },
   "outputs": [],
   "source": [
    "%sql\n",
    "USE CATALOG dbacademy;\n",
    "USE SCHEMA controlling_job_flow;"
   ]
  },
  {
   "cell_type": "code",
   "execution_count": 0,
   "metadata": {
    "application/vnd.databricks.v1+cell": {
     "cellMetadata": {
      "byteLimit": 2048000,
      "rowLimit": 10000
     },
     "inputWidgets": {},
     "nuid": "e017a1bb-e06a-4e5e-84d1-3e5bcdfb98a9",
     "showTitle": false,
     "tableResultSettingsMap": {},
     "title": ""
    }
   },
   "outputs": [],
   "source": [
    "columns = [\"year\", \"version\", \"statefips\", \"countyfips\", \"geocat\", \"agecat\", \"racecat\", \"sexcat\"]"
   ]
  },
  {
   "cell_type": "code",
   "execution_count": 0,
   "metadata": {
    "application/vnd.databricks.v1+cell": {
     "cellMetadata": {
      "byteLimit": 2048000,
      "rowLimit": 10000
     },
     "inputWidgets": {},
     "nuid": "25fc4fd1-f84a-4e6c-bc8d-191de29bd6fa",
     "showTitle": false,
     "tableResultSettingsMap": {},
     "title": ""
    }
   },
   "outputs": [],
   "source": [
    "df1 = (spark.read.table(\"input_1\")).select(columns)\n",
    "df2 = (spark.read.table(\"input_2\")).select(columns)\n",
    "df3 = (spark.read.table(\"input_3\")).select(columns)"
   ]
  },
  {
   "cell_type": "code",
   "execution_count": 0,
   "metadata": {
    "application/vnd.databricks.v1+cell": {
     "cellMetadata": {
      "byteLimit": 2048000,
      "rowLimit": 10000
     },
     "inputWidgets": {},
     "nuid": "a289de10-d148-48a0-a40f-83abbbfcffdd",
     "showTitle": false,
     "tableResultSettingsMap": {},
     "title": ""
    }
   },
   "outputs": [],
   "source": [
    "df1_agg = df1.groupBy(\"sexcat\") \\\n",
    "            .agg(\n",
    "                F.count(\"racecat\").alias(\"count\")\n",
    "            )\n",
    "\n",
    "df2_agg = df2.groupBy(\"sexcat\") \\\n",
    "            .agg(\n",
    "                F.count(\"racecat\").alias(\"count\")\n",
    "            )\n",
    "\n",
    "df3_agg = df3.groupBy(\"sexcat\") \\\n",
    "            .agg(\n",
    "                F.count(\"racecat\").alias(\"count\")\n",
    "            )"
   ]
  },
  {
   "cell_type": "code",
   "execution_count": 0,
   "metadata": {
    "application/vnd.databricks.v1+cell": {
     "cellMetadata": {},
     "inputWidgets": {},
     "nuid": "74b1725a-2ae8-4de3-b5b9-fd6bf4a378af",
     "showTitle": false,
     "tableResultSettingsMap": {},
     "title": ""
    }
   },
   "outputs": [],
   "source": [
    "df1_agg.write.mode(\"overwrite\").format(\"delta\").saveAsTable(\"dbacademy.controlling_job_flow.input_1_agg\")\n",
    "df2_agg.write.mode(\"overwrite\").format(\"delta\").saveAsTable(\"dbacademy.controlling_job_flow.input_2_agg\")\n",
    "df3_agg.write.mode(\"overwrite\").format(\"delta\").saveAsTable(\"dbacademy.controlling_job_flow.input_3_agg\")"
   ]
  },
  {
   "cell_type": "code",
   "execution_count": 0,
   "metadata": {
    "application/vnd.databricks.v1+cell": {
     "cellMetadata": {},
     "inputWidgets": {},
     "nuid": "5d1994ca-6f8b-42ef-9e6a-dc9353d374b8",
     "showTitle": false,
     "tableResultSettingsMap": {},
     "title": ""
    }
   },
   "outputs": [],
   "source": [
    "print(\"Everything done!!!\")"
   ]
  }
 ],
 "metadata": {
  "application/vnd.databricks.v1+notebook": {
   "computePreferences": null,
   "dashboards": [],
   "environmentMetadata": {
    "base_environment": "",
    "environment_version": "2"
   },
   "inputWidgetPreferences": null,
   "language": "python",
   "notebookMetadata": {
    "mostRecentlyExecutedCommandWithImplicitDF": {
     "commandId": 6752505426735361,
     "dataframes": [
      "_sqldf"
     ]
    },
    "pythonIndentUnit": 4
   },
   "notebookName": "aggregate_records",
   "widgets": {}
  },
  "language_info": {
   "name": "python"
  }
 },
 "nbformat": 4,
 "nbformat_minor": 0
}