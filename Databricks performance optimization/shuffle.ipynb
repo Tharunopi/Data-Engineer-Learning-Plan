{
 "cells": [
  {
   "cell_type": "code",
   "execution_count": 0,
   "metadata": {
    "application/vnd.databricks.v1+cell": {
     "cellMetadata": {
      "byteLimit": 2048000,
      "rowLimit": 10000
     },
     "inputWidgets": {},
     "nuid": "14b7ac64-4643-4dcd-a154-1afb423c37ca",
     "showTitle": false,
     "tableResultSettingsMap": {},
     "title": ""
    }
   },
   "outputs": [],
   "source": [
    "import pyspark.sql.functions as F"
   ]
  },
  {
   "cell_type": "code",
   "execution_count": 0,
   "metadata": {
    "application/vnd.databricks.v1+cell": {
     "cellMetadata": {
      "byteLimit": 2048000,
      "rowLimit": 10000
     },
     "inputWidgets": {},
     "nuid": "6e1ac3f7-b854-4cb0-a857-886e0cfabbf4",
     "showTitle": false,
     "tableResultSettingsMap": {},
     "title": ""
    }
   },
   "outputs": [],
   "source": [
    "df = spark.range(0, 150000000, 1, 32) \\\n",
    "            .select(\n",
    "                \"id\", \n",
    "                F.round(F.rand() * 1000, 2).alias(\"amount\"),\n",
    "                (F.col(\"id\") % 10).alias(\"country_id\"),\n",
    "                (F.col(\"id\") % 100).alias(\"store_id\")\n",
    "            )"
   ]
  },
  {
   "cell_type": "code",
   "execution_count": 0,
   "metadata": {
    "application/vnd.databricks.v1+cell": {
     "cellMetadata": {
      "byteLimit": 2048000,
      "rowLimit": 10000
     },
     "inputWidgets": {},
     "nuid": "205b890b-abef-4819-a939-7ed8cd26af18",
     "showTitle": false,
     "tableResultSettingsMap": {},
     "title": ""
    }
   },
   "outputs": [],
   "source": [
    "df.display()"
   ]
  },
  {
   "cell_type": "code",
   "execution_count": 0,
   "metadata": {
    "application/vnd.databricks.v1+cell": {
     "cellMetadata": {
      "byteLimit": 2048000,
      "rowLimit": 10000
     },
     "inputWidgets": {},
     "nuid": "1b465d2b-2965-4d23-a9dd-f67a36621324",
     "showTitle": false,
     "tableResultSettingsMap": {},
     "title": ""
    }
   },
   "outputs": [],
   "source": [
    "df.write.mode(\"overwrite\").saveAsTable(\"guns.bronze.150_billion\")"
   ]
  },
  {
   "cell_type": "code",
   "execution_count": 0,
   "metadata": {
    "application/vnd.databricks.v1+cell": {
     "cellMetadata": {
      "byteLimit": 2048000,
      "rowLimit": 10000
     },
     "inputWidgets": {},
     "nuid": "e5fb6c45-97e8-47ac-ae62-2f172c430f2c",
     "showTitle": false,
     "tableResultSettingsMap": {},
     "title": ""
    }
   },
   "outputs": [],
   "source": [
    "store_df = spark.range(0, 99) \\\n",
    "            .select(\n",
    "                \"id\",\n",
    "                F.round(F.rand() * 100, 0).alias(\"employees\"),\n",
    "                (F.col(\"id\") % 10).alias(\"country_id\"),\n",
    "                F.expr(\"uuid()\").alias(\"name\")\n",
    "            )\n",
    "store_df.display()"
   ]
  },
  {
   "cell_type": "code",
   "execution_count": 0,
   "metadata": {
    "application/vnd.databricks.v1+cell": {
     "cellMetadata": {
      "byteLimit": 2048000,
      "rowLimit": 10000
     },
     "inputWidgets": {},
     "nuid": "4b0eaf22-edb8-43c0-b35f-9f594fdc31ad",
     "showTitle": false,
     "tableResultSettingsMap": {},
     "title": ""
    }
   },
   "outputs": [],
   "source": [
    "store_df.write.mode(\"overwrite\").saveAsTable(\"guns.bronze.store_100\")"
   ]
  },
  {
   "cell_type": "code",
   "execution_count": 0,
   "metadata": {
    "application/vnd.databricks.v1+cell": {
     "cellMetadata": {
      "byteLimit": 2048000,
      "rowLimit": 10000
     },
     "inputWidgets": {},
     "nuid": "da7e8451-c39c-4170-932e-98ec1b7d40ad",
     "showTitle": false,
     "tableResultSettingsMap": {},
     "title": ""
    }
   },
   "outputs": [],
   "source": [
    "countries = [\n",
    "    (0, \"India\"),\n",
    "    (1, \"Canada\"),\n",
    "    (2, \"Mexico\"),\n",
    "    (3, \"China\"),\n",
    "    (4, \"Germany\"),\n",
    "    (5, \"UK\"),\n",
    "    (6, \"Japan\"),\n",
    "    (7, \"Korea\"),\n",
    "    (8, \"Austrialia\"),\n",
    "    (9, \"France\"),\n",
    "    (10, \"Spain\"),\n",
    "    (11, \"USA\"),\n",
    "] \n",
    "cols = [\"id\", \"name\"]\n",
    "country_df = spark.createDataFrame(data=countries, schema=cols)\n",
    "country_df.display()"
   ]
  },
  {
   "cell_type": "code",
   "execution_count": 0,
   "metadata": {
    "application/vnd.databricks.v1+cell": {
     "cellMetadata": {
      "byteLimit": 2048000,
      "rowLimit": 10000
     },
     "inputWidgets": {},
     "nuid": "d0f77911-adee-478a-aff5-80b22acb6a56",
     "showTitle": false,
     "tableResultSettingsMap": {},
     "title": ""
    }
   },
   "outputs": [],
   "source": [
    "country_df.write.mode(\"overwrite\").saveAsTable(\"guns.bronze.country_11\")"
   ]
  },
  {
   "cell_type": "code",
   "execution_count": 0,
   "metadata": {
    "application/vnd.databricks.v1+cell": {
     "cellMetadata": {
      "byteLimit": 2048000,
      "rowLimit": 10000
     },
     "inputWidgets": {},
     "nuid": "11eaeee8-ba10-4966-b277-eb8d1cb65415",
     "showTitle": false,
     "tableResultSettingsMap": {},
     "title": ""
    }
   },
   "outputs": [],
   "source": [
    "joined_df = spark.sql(\"\"\"\n",
    "                      SELECT \n",
    "                        t.id,\n",
    "                        t.amount,\n",
    "                        c.name,\n",
    "                        s.employees,\n",
    "                        s.name\n",
    "                      FROM guns.bronze.150_billion t\n",
    "                      LEFT JOIN guns.bronze.store_100 s\n",
    "                      ON s.id = t.store_id\n",
    "                      LEFT JOIN guns.bronze.country_11 c\n",
    "                      ON t.country_id = c.id\n",
    "                      \"\"\")"
   ]
  },
  {
   "cell_type": "code",
   "execution_count": 0,
   "metadata": {
    "application/vnd.databricks.v1+cell": {
     "cellMetadata": {
      "byteLimit": 2048000,
      "rowLimit": 10000
     },
     "inputWidgets": {},
     "nuid": "646602f9-f3cd-409e-968d-43ecf2740f09",
     "showTitle": false,
     "tableResultSettingsMap": {},
     "title": ""
    }
   },
   "outputs": [],
   "source": [
    "joined_df.display()"
   ]
  },
  {
   "cell_type": "code",
   "execution_count": 0,
   "metadata": {
    "application/vnd.databricks.v1+cell": {
     "cellMetadata": {
      "byteLimit": 2048000,
      "implicitDf": true,
      "rowLimit": 10000
     },
     "inputWidgets": {},
     "nuid": "ce7b3a88-c4f2-46a2-99d0-3ed3a707a407",
     "showTitle": false,
     "tableResultSettingsMap": {},
     "title": ""
    }
   },
   "outputs": [],
   "source": [
    "%sql\n",
    "SELECT \n",
    "    country_id,\n",
    "    COUNT(*),\n",
    "    AVG(amount)\n",
    "FROM guns.bronze.`150_billion`\n",
    "GROUP BY country_id"
   ]
  },
  {
   "cell_type": "code",
   "execution_count": 0,
   "metadata": {
    "application/vnd.databricks.v1+cell": {
     "cellMetadata": {},
     "inputWidgets": {},
     "nuid": "9b65a007-26d9-462f-b66f-34b2e45eaa60",
     "showTitle": false,
     "tableResultSettingsMap": {},
     "title": ""
    }
   },
   "outputs": [],
   "source": []
  }
 ],
 "metadata": {
  "application/vnd.databricks.v1+notebook": {
   "computePreferences": {
    "hardware": {
     "accelerator": null,
     "gpuPoolId": null,
     "memory": null
    }
   },
   "dashboards": [],
   "environmentMetadata": {
    "base_environment": "",
    "environment_version": "3"
   },
   "inputWidgetPreferences": null,
   "language": "python",
   "notebookMetadata": {
    "mostRecentlyExecutedCommandWithImplicitDF": {
     "commandId": 7946612592331033,
     "dataframes": [
      "_sqldf"
     ]
    },
    "pythonIndentUnit": 4
   },
   "notebookName": "shuffle",
   "widgets": {}
  },
  "language_info": {
   "name": "python"
  }
 },
 "nbformat": 4,
 "nbformat_minor": 0
}
