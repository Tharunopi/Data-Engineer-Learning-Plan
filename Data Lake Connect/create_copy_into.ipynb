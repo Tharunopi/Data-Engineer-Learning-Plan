{
 "cells": [
  {
   "cell_type": "code",
   "execution_count": 0,
   "metadata": {
    "application/vnd.databricks.v1+cell": {
     "cellMetadata": {
      "byteLimit": 2048000,
      "implicitDf": true,
      "rowLimit": 10000
     },
     "inputWidgets": {},
     "nuid": "53075b23-f9f6-4747-85ec-024e81eb1b3c",
     "showTitle": false,
     "tableResultSettingsMap": {},
     "title": ""
    }
   },
   "outputs": [
    {
     "output_type": "display_data",
     "data": {
      "text/html": [
       "<style scoped>\n",
       "  .table-result-container {\n",
       "    max-height: 300px;\n",
       "    overflow: auto;\n",
       "  }\n",
       "  table, th, td {\n",
       "    border: 1px solid black;\n",
       "    border-collapse: collapse;\n",
       "  }\n",
       "  th, td {\n",
       "    padding: 5px;\n",
       "  }\n",
       "  th {\n",
       "    text-align: left;\n",
       "  }\n",
       "</style><div class='table-result-container'><table class='table-result'><thead style='background-color: white'><tr><th>current_catalog()</th><th>current_schema()</th></tr></thead><tbody><tr><td>dbacademy</td><td>first_data</td></tr></tbody></table></div>"
      ]
     },
     "metadata": {
      "application/vnd.databricks.v1+output": {
       "addedWidgets": {},
       "aggData": [],
       "aggError": "",
       "aggOverflow": false,
       "aggSchema": [],
       "aggSeriesLimitReached": false,
       "aggType": "",
       "arguments": {},
       "columnCustomDisplayInfos": {},
       "data": [
        [
         "dbacademy",
         "first_data"
        ]
       ],
       "datasetInfos": [
        {
         "name": "_sqldf",
         "schema": {
          "fields": [
           {
            "metadata": {},
            "name": "current_catalog()",
            "nullable": false,
            "type": "string"
           },
           {
            "metadata": {},
            "name": "current_schema()",
            "nullable": false,
            "type": "string"
           }
          ],
          "type": "struct"
         },
         "tableIdentifier": null,
         "typeStr": "pyspark.sql.connect.dataframe.DataFrame"
        }
       ],
       "dbfsResultPath": null,
       "isJsonSchema": true,
       "metadata": {
        "createTempViewForImplicitDf": true,
        "dataframeName": "_sqldf",
        "executionCount": 22
       },
       "overflow": false,
       "plotOptions": {
        "customPlotOptions": {},
        "displayType": "table",
        "pivotAggregation": null,
        "pivotColumns": null,
        "xColumns": null,
        "yColumns": null
       },
       "removedWidgets": [],
       "schema": [
        {
         "metadata": "{}",
         "name": "current_catalog()",
         "type": "\"string\""
        },
        {
         "metadata": "{}",
         "name": "current_schema()",
         "type": "\"string\""
        }
       ],
       "type": "table"
      }
     },
     "output_type": "display_data"
    }
   ],
   "source": [
    "%sql\n",
    "USE CATALOG dbacademy;\n",
    "USE SCHEMA first_data;\n",
    "\n",
    "SELECT current_catalog(), current_schema()"
   ]
  },
  {
   "cell_type": "code",
   "execution_count": 0,
   "metadata": {
    "application/vnd.databricks.v1+cell": {
     "cellMetadata": {
      "byteLimit": 2048000,
      "implicitDf": true,
      "rowLimit": 10000
     },
     "inputWidgets": {},
     "nuid": "f0334666-c245-4723-9471-b965677f36db",
     "showTitle": false,
     "tableResultSettingsMap": {},
     "title": ""
    }
   },
   "outputs": [
    {
     "output_type": "display_data",
     "data": {
      "text/html": [
       "<style scoped>\n",
       "  .table-result-container {\n",
       "    max-height: 300px;\n",
       "    overflow: auto;\n",
       "  }\n",
       "  table, th, td {\n",
       "    border: 1px solid black;\n",
       "    border-collapse: collapse;\n",
       "  }\n",
       "  th, td {\n",
       "    padding: 5px;\n",
       "  }\n",
       "  th {\n",
       "    text-align: left;\n",
       "  }\n",
       "</style><div class='table-result-container'><table class='table-result'><thead style='background-color: white'><tr><th>_c0</th><th>_c1</th><th>_c2</th><th>_c3</th><th>_c4</th><th>_c5</th><th>_c6</th><th>_c7</th></tr></thead><tbody><tr><td>subject</td><td>adult_child</td><td>age</td><td>sex</td><td>handedness</td><td>height_cm</td><td>shoulder_to_wrist_cm</td><td>elbow_to_wrist_cm</td></tr><tr><td>SUBJ_000206</td><td>1</td><td>41</td><td>1</td><td>1</td><td>172.0</td><td>50</td><td>25.0</td></tr><tr><td>SUBJ_001430</td><td>0</td><td>11</td><td>0</td><td>1</td><td>167.0</td><td>51</td><td>27.0</td></tr><tr><td>SUBJ_002923</td><td>1</td><td>28</td><td>1</td><td>0</td><td>164.0</td><td>54</td><td>26.0</td></tr><tr><td>SUBJ_003328</td><td>1</td><td>33</td><td>1</td><td>1</td><td>171.0</td><td>52</td><td>25.0</td></tr><tr><td>SUBJ_004117</td><td>0</td><td>15</td><td>0</td><td>1</td><td>184.0</td><td>54</td><td>28.0</td></tr><tr><td>SUBJ_008304</td><td>0</td><td>16</td><td>1</td><td>1</td><td>154.0</td><td>45</td><td>22.0</td></tr><tr><td>SUBJ_008728</td><td>0</td><td>15</td><td>1</td><td>1</td><td>175.0</td><td>51</td><td>24.0</td></tr><tr><td>SUBJ_011323</td><td>1</td><td>30</td><td>0</td><td>1</td><td>175.0</td><td>71</td><td>44.0</td></tr><tr><td>SUBJ_012088</td><td>1</td><td>20</td><td>0</td><td>1</td><td>184.0</td><td>59</td><td>26.0</td></tr><tr><td>SUBJ_013623</td><td>1</td><td>36</td><td>0</td><td>0</td><td>182.0</td><td>56</td><td>28.0</td></tr><tr><td>SUBJ_016552</td><td>1</td><td>43</td><td>1</td><td>1</td><td>161.0</td><td>51</td><td>23.0</td></tr><tr><td>SUBJ_017170</td><td>1</td><td>53</td><td>0</td><td>1</td><td>190.5</td><td>60</td><td>29.0</td></tr><tr><td>SUBJ_017499</td><td>0</td><td>15</td><td>1</td><td>1</td><td>167.0</td><td>55</td><td>28.0</td></tr><tr><td>SUBJ_017807</td><td>1</td><td>36</td><td>1</td><td>1</td><td>170.0</td><td>56</td><td>27.0</td></tr><tr><td>SUBJ_019262</td><td>0</td><td>12</td><td>0</td><td>1</td><td>165.0</td><td>48</td><td>25.0</td></tr><tr><td>SUBJ_019297</td><td>1</td><td>22</td><td>1</td><td>1</td><td>167.0</td><td>52</td><td>25.0</td></tr><tr><td>SUBJ_019663</td><td>1</td><td>25</td><td>1</td><td>1</td><td>173.0</td><td>57</td><td>26.0</td></tr><tr><td>SUBJ_019756</td><td>1</td><td>25</td><td>1</td><td>0</td><td>171.0</td><td>49</td><td>24.0</td></tr><tr><td>SUBJ_020948</td><td>1</td><td>24</td><td>1</td><td>1</td><td>173.0</td><td>49</td><td>26.0</td></tr><tr><td>SUBJ_021670</td><td>0</td><td>10</td><td>1</td><td>1</td><td>145.0</td><td>41</td><td>22.0</td></tr><tr><td>SUBJ_023739</td><td>1</td><td>36</td><td>1</td><td>1</td><td>174.0</td><td>56</td><td>28.0</td></tr><tr><td>SUBJ_024086</td><td>0</td><td>13</td><td>0</td><td>1</td><td>164.0</td><td>48</td><td>27.0</td></tr><tr><td>SUBJ_024137</td><td>0</td><td>15</td><td>1</td><td>1</td><td>174.0</td><td>56</td><td>26.0</td></tr><tr><td>SUBJ_024825</td><td>1</td><td>24</td><td>1</td><td>1</td><td>167.0</td><td>53</td><td>24.0</td></tr><tr><td>SUBJ_026460</td><td>1</td><td>22</td><td>1</td><td>1</td><td>177.0</td><td>52</td><td>26.0</td></tr><tr><td>SUBJ_026824</td><td>1</td><td>24</td><td>0</td><td>1</td><td>181.5</td><td>49</td><td>27.0</td></tr><tr><td>SUBJ_027671</td><td>1</td><td>26</td><td>1</td><td>1</td><td>164.0</td><td>52</td><td>22.0</td></tr><tr><td>SUBJ_027682</td><td>1</td><td>52</td><td>1</td><td>1</td><td>170.0</td><td>52</td><td>23.0</td></tr><tr><td>SUBJ_028998</td><td>0</td><td>15</td><td>0</td><td>0</td><td>173.0</td><td>52</td><td>25.0</td></tr><tr><td>SUBJ_030676</td><td>0</td><td>10</td><td>0</td><td>1</td><td>151.0</td><td>46</td><td>21.0</td></tr><tr><td>SUBJ_032165</td><td>0</td><td>13</td><td>0</td><td>1</td><td>165.0</td><td>52</td><td>23.0</td></tr><tr><td>SUBJ_032233</td><td>1</td><td>23</td><td>1</td><td>0</td><td>175.0</td><td>56</td><td>24.0</td></tr><tr><td>SUBJ_032585</td><td>1</td><td>30</td><td>0</td><td>0</td><td>183.0</td><td>56</td><td>26.0</td></tr><tr><td>SUBJ_032704</td><td>1</td><td>24</td><td>1</td><td>1</td><td>165.0</td><td>54</td><td>26.0</td></tr><tr><td>SUBJ_032761</td><td>0</td><td>11</td><td>1</td><td>1</td><td>156.0</td><td>50</td><td>23.0</td></tr><tr><td>SUBJ_034574</td><td>0</td><td>13</td><td>0</td><td>1</td><td>169.0</td><td>47</td><td>24.0</td></tr><tr><td>SUBJ_034631</td><td>0</td><td>12</td><td>1</td><td>1</td><td>160.0</td><td>50</td><td>26.0</td></tr><tr><td>SUBJ_035353</td><td>1</td><td>31</td><td>1</td><td>1</td><td>161.0</td><td>47</td><td>25.0</td></tr><tr><td>SUBJ_036405</td><td>0</td><td>13</td><td>1</td><td>1</td><td>175.0</td><td>53</td><td>26.0</td></tr><tr><td>SUBJ_036450</td><td>0</td><td>14</td><td>1</td><td>1</td><td>166.0</td><td>47</td><td>27.0</td></tr><tr><td>SUBJ_038023</td><td>0</td><td>15</td><td>0</td><td>1</td><td>178.0</td><td>57</td><td>28.0</td></tr><tr><td>SUBJ_038277</td><td>0</td><td>13</td><td>0</td><td>1</td><td>173.5</td><td>57</td><td>27.0</td></tr><tr><td>SUBJ_038709</td><td>0</td><td>15</td><td>0</td><td>1</td><td>180.0</td><td>57</td><td>26.0</td></tr><tr><td>SUBJ_039234</td><td>0</td><td>11</td><td>0</td><td>0</td><td>152.0</td><td>48</td><td>27.0</td></tr><tr><td>SUBJ_039498</td><td>1</td><td>30</td><td>0</td><td>1</td><td>186.0</td><td>55</td><td>30.0</td></tr><tr><td>SUBJ_040106</td><td>0</td><td>12</td><td>0</td><td>1</td><td>167.0</td><td>50</td><td>28.0</td></tr><tr><td>SUBJ_040282</td><td>0</td><td>12</td><td>1</td><td>1</td><td>157.0</td><td>44</td><td>26.0</td></tr><tr><td>SUBJ_040310</td><td>1</td><td>31</td><td>1</td><td>1</td><td>173.0</td><td>56</td><td>23.0</td></tr><tr><td>SUBJ_040724</td><td>1</td><td>25</td><td>1</td><td>1</td><td>174.0</td><td>58</td><td>27.0</td></tr><tr><td>SUBJ_040733</td><td>0</td><td>10</td><td>0</td><td>1</td><td>151.0</td><td>46</td><td>23.0</td></tr><tr><td>SUBJ_041243</td><td>1</td><td>24</td><td>1</td><td>0</td><td>173.0</td><td>54</td><td>26.0</td></tr><tr><td>SUBJ_041770</td><td>1</td><td>25</td><td>1</td><td>1</td><td>162.0</td><td>48</td><td>29.0</td></tr><tr><td>SUBJ_042254</td><td>0</td><td>13</td><td>1</td><td>1</td><td>163.0</td><td>50</td><td>23.0</td></tr><tr><td>SUBJ_042779</td><td>1</td><td>24</td><td>1</td><td>1</td><td>164.0</td><td>51</td><td>25.0</td></tr><tr><td>SUBJ_042794</td><td>1</td><td>35</td><td>1</td><td>1</td><td>177.0</td><td>55</td><td>25.0</td></tr><tr><td>SUBJ_043192</td><td>0</td><td>10</td><td>0</td><td>1</td><td>138.0</td><td>41</td><td>21.0</td></tr><tr><td>SUBJ_044680</td><td>0</td><td>12</td><td>0</td><td>1</td><td>153.0</td><td>47</td><td>24.0</td></tr><tr><td>SUBJ_045235</td><td>1</td><td>25</td><td>1</td><td>1</td><td>170.0</td><td>49</td><td>25.0</td></tr><tr><td>SUBJ_047636</td><td>1</td><td>26</td><td>1</td><td>1</td><td>166.0</td><td>54</td><td>25.0</td></tr><tr><td>SUBJ_049223</td><td>1</td><td>23</td><td>1</td><td>1</td><td>175.0</td><td>51</td><td>25.0</td></tr><tr><td>SUBJ_050642</td><td>1</td><td>31</td><td>0</td><td>1</td><td>184.0</td><td>56</td><td>28.0</td></tr><tr><td>SUBJ_051942</td><td>1</td><td>26</td><td>1</td><td>1</td><td>172.0</td><td>54</td><td>24.0</td></tr><tr><td>SUBJ_052342</td><td>0</td><td>13</td><td>0</td><td>1</td><td>171.0</td><td>54</td><td>26.0</td></tr><tr><td>SUBJ_053173</td><td>1</td><td>27</td><td>1</td><td>1</td><td>170.0</td><td>54</td><td>23.0</td></tr><tr><td>SUBJ_053217</td><td>0</td><td>15</td><td>1</td><td>1</td><td>173.0</td><td>55</td><td>27.0</td></tr><tr><td>SUBJ_053906</td><td>0</td><td>12</td><td>1</td><td>1</td><td>163.0</td><td>51</td><td>24.0</td></tr><tr><td>SUBJ_054811</td><td>0</td><td>12</td><td>0</td><td>1</td><td>163.0</td><td>51</td><td>25.0</td></tr><tr><td>SUBJ_055211</td><td>0</td><td>17</td><td>1</td><td>0</td><td>172.0</td><td>53</td><td>26.0</td></tr><tr><td>SUBJ_056936</td><td>1</td><td>40</td><td>1</td><td>1</td><td>172.0</td><td>51</td><td>28.0</td></tr><tr><td>SUBJ_057917</td><td>1</td><td>24</td><td>1</td><td>1</td><td>163.0</td><td>47</td><td>21.0</td></tr><tr><td>SUBJ_058786</td><td>0</td><td>10</td><td>1</td><td>1</td><td>135.0</td><td>41</td><td>18.0</td></tr><tr><td>SUBJ_058967</td><td>0</td><td>18</td><td>0</td><td>1</td><td>179.0</td><td>58</td><td>28.0</td></tr><tr><td>SUBJ_059330</td><td>0</td><td>11</td><td>0</td><td>1</td><td>152.0</td><td>52</td><td>26.0</td></tr><tr><td>SUBJ_059520</td><td>0</td><td>12</td><td>1</td><td>1</td><td>163.0</td><td>52</td><td>24.0</td></tr><tr><td>SUBJ_059960</td><td>1</td><td>31</td><td>1</td><td>1</td><td>166.0</td><td>49</td><td>23.0</td></tr><tr><td>SUBJ_061552</td><td>0</td><td>11</td><td>0</td><td>0</td><td>148.0</td><td>43</td><td>25.0</td></tr><tr><td>SUBJ_063319</td><td>1</td><td>25</td><td>1</td><td>1</td><td>173.0</td><td>50</td><td>29.0</td></tr><tr><td>SUBJ_063346</td><td>1</td><td>42</td><td>1</td><td>1</td><td>183.0</td><td>51</td><td>26.0</td></tr><tr><td>SUBJ_063447</td><td>1</td><td>36</td><td>0</td><td>1</td><td>175.0</td><td>54</td><td>25.0</td></tr><tr><td>SUBJ_063464</td><td>0</td><td>15</td><td>0</td><td>1</td><td>162.0</td><td>43</td><td>23.0</td></tr><tr><td>SUBJ_064387</td><td>0</td><td>17</td><td>1</td><td>1</td><td>155.0</td><td>42</td><td>22.0</td></tr></tbody></table></div>"
      ]
     },
     "metadata": {
      "application/vnd.databricks.v1+output": {
       "addedWidgets": {},
       "aggData": [],
       "aggError": "",
       "aggOverflow": false,
       "aggSchema": [],
       "aggSeriesLimitReached": false,
       "aggType": "",
       "arguments": {},
       "columnCustomDisplayInfos": {},
       "data": [
        [
         "subject",
         "adult_child",
         "age",
         "sex",
         "handedness",
         "height_cm",
         "shoulder_to_wrist_cm",
         "elbow_to_wrist_cm"
        ],
        [
         "SUBJ_000206",
         "1",
         "41",
         "1",
         "1",
         "172.0",
         "50",
         "25.0"
        ],
        [
         "SUBJ_001430",
         "0",
         "11",
         "0",
         "1",
         "167.0",
         "51",
         "27.0"
        ],
        [
         "SUBJ_002923",
         "1",
         "28",
         "1",
         "0",
         "164.0",
         "54",
         "26.0"
        ],
        [
         "SUBJ_003328",
         "1",
         "33",
         "1",
         "1",
         "171.0",
         "52",
         "25.0"
        ],
        [
         "SUBJ_004117",
         "0",
         "15",
         "0",
         "1",
         "184.0",
         "54",
         "28.0"
        ],
        [
         "SUBJ_008304",
         "0",
         "16",
         "1",
         "1",
         "154.0",
         "45",
         "22.0"
        ],
        [
         "SUBJ_008728",
         "0",
         "15",
         "1",
         "1",
         "175.0",
         "51",
         "24.0"
        ],
        [
         "SUBJ_011323",
         "1",
         "30",
         "0",
         "1",
         "175.0",
         "71",
         "44.0"
        ],
        [
         "SUBJ_012088",
         "1",
         "20",
         "0",
         "1",
         "184.0",
         "59",
         "26.0"
        ],
        [
         "SUBJ_013623",
         "1",
         "36",
         "0",
         "0",
         "182.0",
         "56",
         "28.0"
        ],
        [
         "SUBJ_016552",
         "1",
         "43",
         "1",
         "1",
         "161.0",
         "51",
         "23.0"
        ],
        [
         "SUBJ_017170",
         "1",
         "53",
         "0",
         "1",
         "190.5",
         "60",
         "29.0"
        ],
        [
         "SUBJ_017499",
         "0",
         "15",
         "1",
         "1",
         "167.0",
         "55",
         "28.0"
        ],
        [
         "SUBJ_017807",
         "1",
         "36",
         "1",
         "1",
         "170.0",
         "56",
         "27.0"
        ],
        [
         "SUBJ_019262",
         "0",
         "12",
         "0",
         "1",
         "165.0",
         "48",
         "25.0"
        ],
        [
         "SUBJ_019297",
         "1",
         "22",
         "1",
         "1",
         "167.0",
         "52",
         "25.0"
        ],
        [
         "SUBJ_019663",
         "1",
         "25",
         "1",
         "1",
         "173.0",
         "57",
         "26.0"
        ],
        [
         "SUBJ_019756",
         "1",
         "25",
         "1",
         "0",
         "171.0",
         "49",
         "24.0"
        ],
        [
         "SUBJ_020948",
         "1",
         "24",
         "1",
         "1",
         "173.0",
         "49",
         "26.0"
        ],
        [
         "SUBJ_021670",
         "0",
         "10",
         "1",
         "1",
         "145.0",
         "41",
         "22.0"
        ],
        [
         "SUBJ_023739",
         "1",
         "36",
         "1",
         "1",
         "174.0",
         "56",
         "28.0"
        ],
        [
         "SUBJ_024086",
         "0",
         "13",
         "0",
         "1",
         "164.0",
         "48",
         "27.0"
        ],
        [
         "SUBJ_024137",
         "0",
         "15",
         "1",
         "1",
         "174.0",
         "56",
         "26.0"
        ],
        [
         "SUBJ_024825",
         "1",
         "24",
         "1",
         "1",
         "167.0",
         "53",
         "24.0"
        ],
        [
         "SUBJ_026460",
         "1",
         "22",
         "1",
         "1",
         "177.0",
         "52",
         "26.0"
        ],
        [
         "SUBJ_026824",
         "1",
         "24",
         "0",
         "1",
         "181.5",
         "49",
         "27.0"
        ],
        [
         "SUBJ_027671",
         "1",
         "26",
         "1",
         "1",
         "164.0",
         "52",
         "22.0"
        ],
        [
         "SUBJ_027682",
         "1",
         "52",
         "1",
         "1",
         "170.0",
         "52",
         "23.0"
        ],
        [
         "SUBJ_028998",
         "0",
         "15",
         "0",
         "0",
         "173.0",
         "52",
         "25.0"
        ],
        [
         "SUBJ_030676",
         "0",
         "10",
         "0",
         "1",
         "151.0",
         "46",
         "21.0"
        ],
        [
         "SUBJ_032165",
         "0",
         "13",
         "0",
         "1",
         "165.0",
         "52",
         "23.0"
        ],
        [
         "SUBJ_032233",
         "1",
         "23",
         "1",
         "0",
         "175.0",
         "56",
         "24.0"
        ],
        [
         "SUBJ_032585",
         "1",
         "30",
         "0",
         "0",
         "183.0",
         "56",
         "26.0"
        ],
        [
         "SUBJ_032704",
         "1",
         "24",
         "1",
         "1",
         "165.0",
         "54",
         "26.0"
        ],
        [
         "SUBJ_032761",
         "0",
         "11",
         "1",
         "1",
         "156.0",
         "50",
         "23.0"
        ],
        [
         "SUBJ_034574",
         "0",
         "13",
         "0",
         "1",
         "169.0",
         "47",
         "24.0"
        ],
        [
         "SUBJ_034631",
         "0",
         "12",
         "1",
         "1",
         "160.0",
         "50",
         "26.0"
        ],
        [
         "SUBJ_035353",
         "1",
         "31",
         "1",
         "1",
         "161.0",
         "47",
         "25.0"
        ],
        [
         "SUBJ_036405",
         "0",
         "13",
         "1",
         "1",
         "175.0",
         "53",
         "26.0"
        ],
        [
         "SUBJ_036450",
         "0",
         "14",
         "1",
         "1",
         "166.0",
         "47",
         "27.0"
        ],
        [
         "SUBJ_038023",
         "0",
         "15",
         "0",
         "1",
         "178.0",
         "57",
         "28.0"
        ],
        [
         "SUBJ_038277",
         "0",
         "13",
         "0",
         "1",
         "173.5",
         "57",
         "27.0"
        ],
        [
         "SUBJ_038709",
         "0",
         "15",
         "0",
         "1",
         "180.0",
         "57",
         "26.0"
        ],
        [
         "SUBJ_039234",
         "0",
         "11",
         "0",
         "0",
         "152.0",
         "48",
         "27.0"
        ],
        [
         "SUBJ_039498",
         "1",
         "30",
         "0",
         "1",
         "186.0",
         "55",
         "30.0"
        ],
        [
         "SUBJ_040106",
         "0",
         "12",
         "0",
         "1",
         "167.0",
         "50",
         "28.0"
        ],
        [
         "SUBJ_040282",
         "0",
         "12",
         "1",
         "1",
         "157.0",
         "44",
         "26.0"
        ],
        [
         "SUBJ_040310",
         "1",
         "31",
         "1",
         "1",
         "173.0",
         "56",
         "23.0"
        ],
        [
         "SUBJ_040724",
         "1",
         "25",
         "1",
         "1",
         "174.0",
         "58",
         "27.0"
        ],
        [
         "SUBJ_040733",
         "0",
         "10",
         "0",
         "1",
         "151.0",
         "46",
         "23.0"
        ],
        [
         "SUBJ_041243",
         "1",
         "24",
         "1",
         "0",
         "173.0",
         "54",
         "26.0"
        ],
        [
         "SUBJ_041770",
         "1",
         "25",
         "1",
         "1",
         "162.0",
         "48",
         "29.0"
        ],
        [
         "SUBJ_042254",
         "0",
         "13",
         "1",
         "1",
         "163.0",
         "50",
         "23.0"
        ],
        [
         "SUBJ_042779",
         "1",
         "24",
         "1",
         "1",
         "164.0",
         "51",
         "25.0"
        ],
        [
         "SUBJ_042794",
         "1",
         "35",
         "1",
         "1",
         "177.0",
         "55",
         "25.0"
        ],
        [
         "SUBJ_043192",
         "0",
         "10",
         "0",
         "1",
         "138.0",
         "41",
         "21.0"
        ],
        [
         "SUBJ_044680",
         "0",
         "12",
         "0",
         "1",
         "153.0",
         "47",
         "24.0"
        ],
        [
         "SUBJ_045235",
         "1",
         "25",
         "1",
         "1",
         "170.0",
         "49",
         "25.0"
        ],
        [
         "SUBJ_047636",
         "1",
         "26",
         "1",
         "1",
         "166.0",
         "54",
         "25.0"
        ],
        [
         "SUBJ_049223",
         "1",
         "23",
         "1",
         "1",
         "175.0",
         "51",
         "25.0"
        ],
        [
         "SUBJ_050642",
         "1",
         "31",
         "0",
         "1",
         "184.0",
         "56",
         "28.0"
        ],
        [
         "SUBJ_051942",
         "1",
         "26",
         "1",
         "1",
         "172.0",
         "54",
         "24.0"
        ],
        [
         "SUBJ_052342",
         "0",
         "13",
         "0",
         "1",
         "171.0",
         "54",
         "26.0"
        ],
        [
         "SUBJ_053173",
         "1",
         "27",
         "1",
         "1",
         "170.0",
         "54",
         "23.0"
        ],
        [
         "SUBJ_053217",
         "0",
         "15",
         "1",
         "1",
         "173.0",
         "55",
         "27.0"
        ],
        [
         "SUBJ_053906",
         "0",
         "12",
         "1",
         "1",
         "163.0",
         "51",
         "24.0"
        ],
        [
         "SUBJ_054811",
         "0",
         "12",
         "0",
         "1",
         "163.0",
         "51",
         "25.0"
        ],
        [
         "SUBJ_055211",
         "0",
         "17",
         "1",
         "0",
         "172.0",
         "53",
         "26.0"
        ],
        [
         "SUBJ_056936",
         "1",
         "40",
         "1",
         "1",
         "172.0",
         "51",
         "28.0"
        ],
        [
         "SUBJ_057917",
         "1",
         "24",
         "1",
         "1",
         "163.0",
         "47",
         "21.0"
        ],
        [
         "SUBJ_058786",
         "0",
         "10",
         "1",
         "1",
         "135.0",
         "41",
         "18.0"
        ],
        [
         "SUBJ_058967",
         "0",
         "18",
         "0",
         "1",
         "179.0",
         "58",
         "28.0"
        ],
        [
         "SUBJ_059330",
         "0",
         "11",
         "0",
         "1",
         "152.0",
         "52",
         "26.0"
        ],
        [
         "SUBJ_059520",
         "0",
         "12",
         "1",
         "1",
         "163.0",
         "52",
         "24.0"
        ],
        [
         "SUBJ_059960",
         "1",
         "31",
         "1",
         "1",
         "166.0",
         "49",
         "23.0"
        ],
        [
         "SUBJ_061552",
         "0",
         "11",
         "0",
         "0",
         "148.0",
         "43",
         "25.0"
        ],
        [
         "SUBJ_063319",
         "1",
         "25",
         "1",
         "1",
         "173.0",
         "50",
         "29.0"
        ],
        [
         "SUBJ_063346",
         "1",
         "42",
         "1",
         "1",
         "183.0",
         "51",
         "26.0"
        ],
        [
         "SUBJ_063447",
         "1",
         "36",
         "0",
         "1",
         "175.0",
         "54",
         "25.0"
        ],
        [
         "SUBJ_063464",
         "0",
         "15",
         "0",
         "1",
         "162.0",
         "43",
         "23.0"
        ],
        [
         "SUBJ_064387",
         "0",
         "17",
         "1",
         "1",
         "155.0",
         "42",
         "22.0"
        ]
       ],
       "datasetInfos": [
        {
         "name": "_sqldf",
         "schema": {
          "fields": [
           {
            "metadata": {},
            "name": "_c0",
            "nullable": true,
            "type": "string"
           },
           {
            "metadata": {},
            "name": "_c1",
            "nullable": true,
            "type": "string"
           },
           {
            "metadata": {},
            "name": "_c2",
            "nullable": true,
            "type": "string"
           },
           {
            "metadata": {},
            "name": "_c3",
            "nullable": true,
            "type": "string"
           },
           {
            "metadata": {},
            "name": "_c4",
            "nullable": true,
            "type": "string"
           },
           {
            "metadata": {},
            "name": "_c5",
            "nullable": true,
            "type": "string"
           },
           {
            "metadata": {},
            "name": "_c6",
            "nullable": true,
            "type": "string"
           },
           {
            "metadata": {},
            "name": "_c7",
            "nullable": true,
            "type": "string"
           }
          ],
          "type": "struct"
         },
         "tableIdentifier": null,
         "typeStr": "pyspark.sql.connect.dataframe.DataFrame"
        }
       ],
       "dbfsResultPath": null,
       "isJsonSchema": true,
       "metadata": {
        "createTempViewForImplicitDf": true,
        "dataframeName": "_sqldf",
        "executionCount": 41
       },
       "overflow": false,
       "plotOptions": {
        "customPlotOptions": {},
        "displayType": "table",
        "pivotAggregation": null,
        "pivotColumns": null,
        "xColumns": null,
        "yColumns": null
       },
       "removedWidgets": [],
       "schema": [
        {
         "metadata": "{}",
         "name": "_c0",
         "type": "\"string\""
        },
        {
         "metadata": "{}",
         "name": "_c1",
         "type": "\"string\""
        },
        {
         "metadata": "{}",
         "name": "_c2",
         "type": "\"string\""
        },
        {
         "metadata": "{}",
         "name": "_c3",
         "type": "\"string\""
        },
        {
         "metadata": "{}",
         "name": "_c4",
         "type": "\"string\""
        },
        {
         "metadata": "{}",
         "name": "_c5",
         "type": "\"string\""
        },
        {
         "metadata": "{}",
         "name": "_c6",
         "type": "\"string\""
        },
        {
         "metadata": "{}",
         "name": "_c7",
         "type": "\"string\""
        }
       ],
       "type": "table"
      }
     },
     "output_type": "display_data"
    }
   ],
   "source": [
    "%sql\n",
    "SELECT * FROM csv.`/Volumes/dbacademy/first_data/train_demogra/train_demographics.csv`"
   ]
  },
  {
   "cell_type": "code",
   "execution_count": 0,
   "metadata": {
    "application/vnd.databricks.v1+cell": {
     "cellMetadata": {
      "byteLimit": 2048000,
      "implicitDf": true,
      "rowLimit": 10000
     },
     "inputWidgets": {},
     "nuid": "6af3151c-99ed-44e3-aff6-56ee143eb1fd",
     "showTitle": false,
     "tableResultSettingsMap": {},
     "title": ""
    }
   },
   "outputs": [
    {
     "output_type": "display_data",
     "data": {
      "text/html": [
       "<style scoped>\n",
       "  .table-result-container {\n",
       "    max-height: 300px;\n",
       "    overflow: auto;\n",
       "  }\n",
       "  table, th, td {\n",
       "    border: 1px solid black;\n",
       "    border-collapse: collapse;\n",
       "  }\n",
       "  th, td {\n",
       "    padding: 5px;\n",
       "  }\n",
       "  th {\n",
       "    text-align: left;\n",
       "  }\n",
       "</style><div class='table-result-container'><table class='table-result'><thead style='background-color: white'><tr><th>num_affected_rows</th><th>num_inserted_rows</th></tr></thead><tbody></tbody></table></div>"
      ]
     },
     "metadata": {
      "application/vnd.databricks.v1+output": {
       "addedWidgets": {},
       "aggData": [],
       "aggError": "",
       "aggOverflow": false,
       "aggSchema": [],
       "aggSeriesLimitReached": false,
       "aggType": "",
       "arguments": {},
       "columnCustomDisplayInfos": {},
       "data": [],
       "datasetInfos": [
        {
         "name": "_sqldf",
         "schema": {
          "fields": [
           {
            "metadata": {},
            "name": "num_affected_rows",
            "nullable": true,
            "type": "long"
           },
           {
            "metadata": {},
            "name": "num_inserted_rows",
            "nullable": true,
            "type": "long"
           }
          ],
          "type": "struct"
         },
         "tableIdentifier": null,
         "typeStr": "pyspark.sql.connect.dataframe.DataFrame"
        }
       ],
       "dbfsResultPath": null,
       "isJsonSchema": true,
       "metadata": {
        "createTempViewForImplicitDf": true,
        "dataframeName": "_sqldf",
        "executionCount": 23
       },
       "overflow": false,
       "plotOptions": {
        "customPlotOptions": {},
        "displayType": "table",
        "pivotAggregation": null,
        "pivotColumns": null,
        "xColumns": null,
        "yColumns": null
       },
       "removedWidgets": [],
       "schema": [
        {
         "metadata": "{}",
         "name": "num_affected_rows",
         "type": "\"long\""
        },
        {
         "metadata": "{}",
         "name": "num_inserted_rows",
         "type": "\"long\""
        }
       ],
       "type": "table"
      }
     },
     "output_type": "display_data"
    }
   ],
   "source": [
    "%sql\n",
    "CREATE TABLE excel_clg AS \n",
    "SELECT * FROM \n",
    "  read_files('/Volumes/dbacademy/first_data/train_demogra/train_demographics.csv', format=>'csv')"
   ]
  },
  {
   "cell_type": "code",
   "execution_count": 0,
   "metadata": {
    "application/vnd.databricks.v1+cell": {
     "cellMetadata": {
      "byteLimit": 2048000,
      "implicitDf": true,
      "rowLimit": 10000
     },
     "inputWidgets": {},
     "nuid": "3b5bd1c5-4b82-4449-8f0f-e4063fa653f4",
     "showTitle": false,
     "tableResultSettingsMap": {},
     "title": ""
    }
   },
   "outputs": [
    {
     "output_type": "display_data",
     "data": {
      "text/html": [
       "<style scoped>\n",
       "  .table-result-container {\n",
       "    max-height: 300px;\n",
       "    overflow: auto;\n",
       "  }\n",
       "  table, th, td {\n",
       "    border: 1px solid black;\n",
       "    border-collapse: collapse;\n",
       "  }\n",
       "  th, td {\n",
       "    padding: 5px;\n",
       "  }\n",
       "  th {\n",
       "    text-align: left;\n",
       "  }\n",
       "</style><div class='table-result-container'><table class='table-result'><thead style='background-color: white'><tr><th>subject</th><th>adult_child</th><th>age</th><th>sex</th><th>handedness</th><th>height_cm</th><th>shoulder_to_wrist_cm</th><th>elbow_to_wrist_cm</th><th>_rescued_data</th></tr></thead><tbody><tr><td>SUBJ_000206</td><td>1</td><td>41</td><td>1</td><td>1</td><td>172.0</td><td>50</td><td>25.0</td><td>null</td></tr><tr><td>SUBJ_001430</td><td>0</td><td>11</td><td>0</td><td>1</td><td>167.0</td><td>51</td><td>27.0</td><td>null</td></tr><tr><td>SUBJ_002923</td><td>1</td><td>28</td><td>1</td><td>0</td><td>164.0</td><td>54</td><td>26.0</td><td>null</td></tr><tr><td>SUBJ_003328</td><td>1</td><td>33</td><td>1</td><td>1</td><td>171.0</td><td>52</td><td>25.0</td><td>null</td></tr><tr><td>SUBJ_004117</td><td>0</td><td>15</td><td>0</td><td>1</td><td>184.0</td><td>54</td><td>28.0</td><td>null</td></tr><tr><td>SUBJ_008304</td><td>0</td><td>16</td><td>1</td><td>1</td><td>154.0</td><td>45</td><td>22.0</td><td>null</td></tr><tr><td>SUBJ_008728</td><td>0</td><td>15</td><td>1</td><td>1</td><td>175.0</td><td>51</td><td>24.0</td><td>null</td></tr><tr><td>SUBJ_011323</td><td>1</td><td>30</td><td>0</td><td>1</td><td>175.0</td><td>71</td><td>44.0</td><td>null</td></tr><tr><td>SUBJ_012088</td><td>1</td><td>20</td><td>0</td><td>1</td><td>184.0</td><td>59</td><td>26.0</td><td>null</td></tr><tr><td>SUBJ_013623</td><td>1</td><td>36</td><td>0</td><td>0</td><td>182.0</td><td>56</td><td>28.0</td><td>null</td></tr><tr><td>SUBJ_016552</td><td>1</td><td>43</td><td>1</td><td>1</td><td>161.0</td><td>51</td><td>23.0</td><td>null</td></tr><tr><td>SUBJ_017170</td><td>1</td><td>53</td><td>0</td><td>1</td><td>190.5</td><td>60</td><td>29.0</td><td>null</td></tr><tr><td>SUBJ_017499</td><td>0</td><td>15</td><td>1</td><td>1</td><td>167.0</td><td>55</td><td>28.0</td><td>null</td></tr><tr><td>SUBJ_017807</td><td>1</td><td>36</td><td>1</td><td>1</td><td>170.0</td><td>56</td><td>27.0</td><td>null</td></tr><tr><td>SUBJ_019262</td><td>0</td><td>12</td><td>0</td><td>1</td><td>165.0</td><td>48</td><td>25.0</td><td>null</td></tr><tr><td>SUBJ_019297</td><td>1</td><td>22</td><td>1</td><td>1</td><td>167.0</td><td>52</td><td>25.0</td><td>null</td></tr><tr><td>SUBJ_019663</td><td>1</td><td>25</td><td>1</td><td>1</td><td>173.0</td><td>57</td><td>26.0</td><td>null</td></tr><tr><td>SUBJ_019756</td><td>1</td><td>25</td><td>1</td><td>0</td><td>171.0</td><td>49</td><td>24.0</td><td>null</td></tr><tr><td>SUBJ_020948</td><td>1</td><td>24</td><td>1</td><td>1</td><td>173.0</td><td>49</td><td>26.0</td><td>null</td></tr><tr><td>SUBJ_021670</td><td>0</td><td>10</td><td>1</td><td>1</td><td>145.0</td><td>41</td><td>22.0</td><td>null</td></tr><tr><td>SUBJ_023739</td><td>1</td><td>36</td><td>1</td><td>1</td><td>174.0</td><td>56</td><td>28.0</td><td>null</td></tr><tr><td>SUBJ_024086</td><td>0</td><td>13</td><td>0</td><td>1</td><td>164.0</td><td>48</td><td>27.0</td><td>null</td></tr><tr><td>SUBJ_024137</td><td>0</td><td>15</td><td>1</td><td>1</td><td>174.0</td><td>56</td><td>26.0</td><td>null</td></tr><tr><td>SUBJ_024825</td><td>1</td><td>24</td><td>1</td><td>1</td><td>167.0</td><td>53</td><td>24.0</td><td>null</td></tr><tr><td>SUBJ_026460</td><td>1</td><td>22</td><td>1</td><td>1</td><td>177.0</td><td>52</td><td>26.0</td><td>null</td></tr><tr><td>SUBJ_026824</td><td>1</td><td>24</td><td>0</td><td>1</td><td>181.5</td><td>49</td><td>27.0</td><td>null</td></tr><tr><td>SUBJ_027671</td><td>1</td><td>26</td><td>1</td><td>1</td><td>164.0</td><td>52</td><td>22.0</td><td>null</td></tr><tr><td>SUBJ_027682</td><td>1</td><td>52</td><td>1</td><td>1</td><td>170.0</td><td>52</td><td>23.0</td><td>null</td></tr><tr><td>SUBJ_028998</td><td>0</td><td>15</td><td>0</td><td>0</td><td>173.0</td><td>52</td><td>25.0</td><td>null</td></tr><tr><td>SUBJ_030676</td><td>0</td><td>10</td><td>0</td><td>1</td><td>151.0</td><td>46</td><td>21.0</td><td>null</td></tr><tr><td>SUBJ_032165</td><td>0</td><td>13</td><td>0</td><td>1</td><td>165.0</td><td>52</td><td>23.0</td><td>null</td></tr><tr><td>SUBJ_032233</td><td>1</td><td>23</td><td>1</td><td>0</td><td>175.0</td><td>56</td><td>24.0</td><td>null</td></tr><tr><td>SUBJ_032585</td><td>1</td><td>30</td><td>0</td><td>0</td><td>183.0</td><td>56</td><td>26.0</td><td>null</td></tr><tr><td>SUBJ_032704</td><td>1</td><td>24</td><td>1</td><td>1</td><td>165.0</td><td>54</td><td>26.0</td><td>null</td></tr><tr><td>SUBJ_032761</td><td>0</td><td>11</td><td>1</td><td>1</td><td>156.0</td><td>50</td><td>23.0</td><td>null</td></tr><tr><td>SUBJ_034574</td><td>0</td><td>13</td><td>0</td><td>1</td><td>169.0</td><td>47</td><td>24.0</td><td>null</td></tr><tr><td>SUBJ_034631</td><td>0</td><td>12</td><td>1</td><td>1</td><td>160.0</td><td>50</td><td>26.0</td><td>null</td></tr><tr><td>SUBJ_035353</td><td>1</td><td>31</td><td>1</td><td>1</td><td>161.0</td><td>47</td><td>25.0</td><td>null</td></tr><tr><td>SUBJ_036405</td><td>0</td><td>13</td><td>1</td><td>1</td><td>175.0</td><td>53</td><td>26.0</td><td>null</td></tr><tr><td>SUBJ_036450</td><td>0</td><td>14</td><td>1</td><td>1</td><td>166.0</td><td>47</td><td>27.0</td><td>null</td></tr><tr><td>SUBJ_038023</td><td>0</td><td>15</td><td>0</td><td>1</td><td>178.0</td><td>57</td><td>28.0</td><td>null</td></tr><tr><td>SUBJ_038277</td><td>0</td><td>13</td><td>0</td><td>1</td><td>173.5</td><td>57</td><td>27.0</td><td>null</td></tr><tr><td>SUBJ_038709</td><td>0</td><td>15</td><td>0</td><td>1</td><td>180.0</td><td>57</td><td>26.0</td><td>null</td></tr><tr><td>SUBJ_039234</td><td>0</td><td>11</td><td>0</td><td>0</td><td>152.0</td><td>48</td><td>27.0</td><td>null</td></tr><tr><td>SUBJ_039498</td><td>1</td><td>30</td><td>0</td><td>1</td><td>186.0</td><td>55</td><td>30.0</td><td>null</td></tr><tr><td>SUBJ_040106</td><td>0</td><td>12</td><td>0</td><td>1</td><td>167.0</td><td>50</td><td>28.0</td><td>null</td></tr><tr><td>SUBJ_040282</td><td>0</td><td>12</td><td>1</td><td>1</td><td>157.0</td><td>44</td><td>26.0</td><td>null</td></tr><tr><td>SUBJ_040310</td><td>1</td><td>31</td><td>1</td><td>1</td><td>173.0</td><td>56</td><td>23.0</td><td>null</td></tr><tr><td>SUBJ_040724</td><td>1</td><td>25</td><td>1</td><td>1</td><td>174.0</td><td>58</td><td>27.0</td><td>null</td></tr><tr><td>SUBJ_040733</td><td>0</td><td>10</td><td>0</td><td>1</td><td>151.0</td><td>46</td><td>23.0</td><td>null</td></tr><tr><td>SUBJ_041243</td><td>1</td><td>24</td><td>1</td><td>0</td><td>173.0</td><td>54</td><td>26.0</td><td>null</td></tr><tr><td>SUBJ_041770</td><td>1</td><td>25</td><td>1</td><td>1</td><td>162.0</td><td>48</td><td>29.0</td><td>null</td></tr><tr><td>SUBJ_042254</td><td>0</td><td>13</td><td>1</td><td>1</td><td>163.0</td><td>50</td><td>23.0</td><td>null</td></tr><tr><td>SUBJ_042779</td><td>1</td><td>24</td><td>1</td><td>1</td><td>164.0</td><td>51</td><td>25.0</td><td>null</td></tr><tr><td>SUBJ_042794</td><td>1</td><td>35</td><td>1</td><td>1</td><td>177.0</td><td>55</td><td>25.0</td><td>null</td></tr><tr><td>SUBJ_043192</td><td>0</td><td>10</td><td>0</td><td>1</td><td>138.0</td><td>41</td><td>21.0</td><td>null</td></tr><tr><td>SUBJ_044680</td><td>0</td><td>12</td><td>0</td><td>1</td><td>153.0</td><td>47</td><td>24.0</td><td>null</td></tr><tr><td>SUBJ_045235</td><td>1</td><td>25</td><td>1</td><td>1</td><td>170.0</td><td>49</td><td>25.0</td><td>null</td></tr><tr><td>SUBJ_047636</td><td>1</td><td>26</td><td>1</td><td>1</td><td>166.0</td><td>54</td><td>25.0</td><td>null</td></tr><tr><td>SUBJ_049223</td><td>1</td><td>23</td><td>1</td><td>1</td><td>175.0</td><td>51</td><td>25.0</td><td>null</td></tr><tr><td>SUBJ_050642</td><td>1</td><td>31</td><td>0</td><td>1</td><td>184.0</td><td>56</td><td>28.0</td><td>null</td></tr><tr><td>SUBJ_051942</td><td>1</td><td>26</td><td>1</td><td>1</td><td>172.0</td><td>54</td><td>24.0</td><td>null</td></tr><tr><td>SUBJ_052342</td><td>0</td><td>13</td><td>0</td><td>1</td><td>171.0</td><td>54</td><td>26.0</td><td>null</td></tr><tr><td>SUBJ_053173</td><td>1</td><td>27</td><td>1</td><td>1</td><td>170.0</td><td>54</td><td>23.0</td><td>null</td></tr><tr><td>SUBJ_053217</td><td>0</td><td>15</td><td>1</td><td>1</td><td>173.0</td><td>55</td><td>27.0</td><td>null</td></tr><tr><td>SUBJ_053906</td><td>0</td><td>12</td><td>1</td><td>1</td><td>163.0</td><td>51</td><td>24.0</td><td>null</td></tr><tr><td>SUBJ_054811</td><td>0</td><td>12</td><td>0</td><td>1</td><td>163.0</td><td>51</td><td>25.0</td><td>null</td></tr><tr><td>SUBJ_055211</td><td>0</td><td>17</td><td>1</td><td>0</td><td>172.0</td><td>53</td><td>26.0</td><td>null</td></tr><tr><td>SUBJ_056936</td><td>1</td><td>40</td><td>1</td><td>1</td><td>172.0</td><td>51</td><td>28.0</td><td>null</td></tr><tr><td>SUBJ_057917</td><td>1</td><td>24</td><td>1</td><td>1</td><td>163.0</td><td>47</td><td>21.0</td><td>null</td></tr><tr><td>SUBJ_058786</td><td>0</td><td>10</td><td>1</td><td>1</td><td>135.0</td><td>41</td><td>18.0</td><td>null</td></tr><tr><td>SUBJ_058967</td><td>0</td><td>18</td><td>0</td><td>1</td><td>179.0</td><td>58</td><td>28.0</td><td>null</td></tr><tr><td>SUBJ_059330</td><td>0</td><td>11</td><td>0</td><td>1</td><td>152.0</td><td>52</td><td>26.0</td><td>null</td></tr><tr><td>SUBJ_059520</td><td>0</td><td>12</td><td>1</td><td>1</td><td>163.0</td><td>52</td><td>24.0</td><td>null</td></tr><tr><td>SUBJ_059960</td><td>1</td><td>31</td><td>1</td><td>1</td><td>166.0</td><td>49</td><td>23.0</td><td>null</td></tr><tr><td>SUBJ_061552</td><td>0</td><td>11</td><td>0</td><td>0</td><td>148.0</td><td>43</td><td>25.0</td><td>null</td></tr><tr><td>SUBJ_063319</td><td>1</td><td>25</td><td>1</td><td>1</td><td>173.0</td><td>50</td><td>29.0</td><td>null</td></tr><tr><td>SUBJ_063346</td><td>1</td><td>42</td><td>1</td><td>1</td><td>183.0</td><td>51</td><td>26.0</td><td>null</td></tr><tr><td>SUBJ_063447</td><td>1</td><td>36</td><td>0</td><td>1</td><td>175.0</td><td>54</td><td>25.0</td><td>null</td></tr><tr><td>SUBJ_063464</td><td>0</td><td>15</td><td>0</td><td>1</td><td>162.0</td><td>43</td><td>23.0</td><td>null</td></tr><tr><td>SUBJ_064387</td><td>0</td><td>17</td><td>1</td><td>1</td><td>155.0</td><td>42</td><td>22.0</td><td>null</td></tr></tbody></table></div>"
      ]
     },
     "metadata": {
      "application/vnd.databricks.v1+output": {
       "addedWidgets": {},
       "aggData": [],
       "aggError": "",
       "aggOverflow": false,
       "aggSchema": [],
       "aggSeriesLimitReached": false,
       "aggType": "",
       "arguments": {},
       "columnCustomDisplayInfos": {},
       "data": [
        [
         "SUBJ_000206",
         1,
         41,
         1,
         1,
         172.0,
         50,
         25.0,
         null
        ],
        [
         "SUBJ_001430",
         0,
         11,
         0,
         1,
         167.0,
         51,
         27.0,
         null
        ],
        [
         "SUBJ_002923",
         1,
         28,
         1,
         0,
         164.0,
         54,
         26.0,
         null
        ],
        [
         "SUBJ_003328",
         1,
         33,
         1,
         1,
         171.0,
         52,
         25.0,
         null
        ],
        [
         "SUBJ_004117",
         0,
         15,
         0,
         1,
         184.0,
         54,
         28.0,
         null
        ],
        [
         "SUBJ_008304",
         0,
         16,
         1,
         1,
         154.0,
         45,
         22.0,
         null
        ],
        [
         "SUBJ_008728",
         0,
         15,
         1,
         1,
         175.0,
         51,
         24.0,
         null
        ],
        [
         "SUBJ_011323",
         1,
         30,
         0,
         1,
         175.0,
         71,
         44.0,
         null
        ],
        [
         "SUBJ_012088",
         1,
         20,
         0,
         1,
         184.0,
         59,
         26.0,
         null
        ],
        [
         "SUBJ_013623",
         1,
         36,
         0,
         0,
         182.0,
         56,
         28.0,
         null
        ],
        [
         "SUBJ_016552",
         1,
         43,
         1,
         1,
         161.0,
         51,
         23.0,
         null
        ],
        [
         "SUBJ_017170",
         1,
         53,
         0,
         1,
         190.5,
         60,
         29.0,
         null
        ],
        [
         "SUBJ_017499",
         0,
         15,
         1,
         1,
         167.0,
         55,
         28.0,
         null
        ],
        [
         "SUBJ_017807",
         1,
         36,
         1,
         1,
         170.0,
         56,
         27.0,
         null
        ],
        [
         "SUBJ_019262",
         0,
         12,
         0,
         1,
         165.0,
         48,
         25.0,
         null
        ],
        [
         "SUBJ_019297",
         1,
         22,
         1,
         1,
         167.0,
         52,
         25.0,
         null
        ],
        [
         "SUBJ_019663",
         1,
         25,
         1,
         1,
         173.0,
         57,
         26.0,
         null
        ],
        [
         "SUBJ_019756",
         1,
         25,
         1,
         0,
         171.0,
         49,
         24.0,
         null
        ],
        [
         "SUBJ_020948",
         1,
         24,
         1,
         1,
         173.0,
         49,
         26.0,
         null
        ],
        [
         "SUBJ_021670",
         0,
         10,
         1,
         1,
         145.0,
         41,
         22.0,
         null
        ],
        [
         "SUBJ_023739",
         1,
         36,
         1,
         1,
         174.0,
         56,
         28.0,
         null
        ],
        [
         "SUBJ_024086",
         0,
         13,
         0,
         1,
         164.0,
         48,
         27.0,
         null
        ],
        [
         "SUBJ_024137",
         0,
         15,
         1,
         1,
         174.0,
         56,
         26.0,
         null
        ],
        [
         "SUBJ_024825",
         1,
         24,
         1,
         1,
         167.0,
         53,
         24.0,
         null
        ],
        [
         "SUBJ_026460",
         1,
         22,
         1,
         1,
         177.0,
         52,
         26.0,
         null
        ],
        [
         "SUBJ_026824",
         1,
         24,
         0,
         1,
         181.5,
         49,
         27.0,
         null
        ],
        [
         "SUBJ_027671",
         1,
         26,
         1,
         1,
         164.0,
         52,
         22.0,
         null
        ],
        [
         "SUBJ_027682",
         1,
         52,
         1,
         1,
         170.0,
         52,
         23.0,
         null
        ],
        [
         "SUBJ_028998",
         0,
         15,
         0,
         0,
         173.0,
         52,
         25.0,
         null
        ],
        [
         "SUBJ_030676",
         0,
         10,
         0,
         1,
         151.0,
         46,
         21.0,
         null
        ],
        [
         "SUBJ_032165",
         0,
         13,
         0,
         1,
         165.0,
         52,
         23.0,
         null
        ],
        [
         "SUBJ_032233",
         1,
         23,
         1,
         0,
         175.0,
         56,
         24.0,
         null
        ],
        [
         "SUBJ_032585",
         1,
         30,
         0,
         0,
         183.0,
         56,
         26.0,
         null
        ],
        [
         "SUBJ_032704",
         1,
         24,
         1,
         1,
         165.0,
         54,
         26.0,
         null
        ],
        [
         "SUBJ_032761",
         0,
         11,
         1,
         1,
         156.0,
         50,
         23.0,
         null
        ],
        [
         "SUBJ_034574",
         0,
         13,
         0,
         1,
         169.0,
         47,
         24.0,
         null
        ],
        [
         "SUBJ_034631",
         0,
         12,
         1,
         1,
         160.0,
         50,
         26.0,
         null
        ],
        [
         "SUBJ_035353",
         1,
         31,
         1,
         1,
         161.0,
         47,
         25.0,
         null
        ],
        [
         "SUBJ_036405",
         0,
         13,
         1,
         1,
         175.0,
         53,
         26.0,
         null
        ],
        [
         "SUBJ_036450",
         0,
         14,
         1,
         1,
         166.0,
         47,
         27.0,
         null
        ],
        [
         "SUBJ_038023",
         0,
         15,
         0,
         1,
         178.0,
         57,
         28.0,
         null
        ],
        [
         "SUBJ_038277",
         0,
         13,
         0,
         1,
         173.5,
         57,
         27.0,
         null
        ],
        [
         "SUBJ_038709",
         0,
         15,
         0,
         1,
         180.0,
         57,
         26.0,
         null
        ],
        [
         "SUBJ_039234",
         0,
         11,
         0,
         0,
         152.0,
         48,
         27.0,
         null
        ],
        [
         "SUBJ_039498",
         1,
         30,
         0,
         1,
         186.0,
         55,
         30.0,
         null
        ],
        [
         "SUBJ_040106",
         0,
         12,
         0,
         1,
         167.0,
         50,
         28.0,
         null
        ],
        [
         "SUBJ_040282",
         0,
         12,
         1,
         1,
         157.0,
         44,
         26.0,
         null
        ],
        [
         "SUBJ_040310",
         1,
         31,
         1,
         1,
         173.0,
         56,
         23.0,
         null
        ],
        [
         "SUBJ_040724",
         1,
         25,
         1,
         1,
         174.0,
         58,
         27.0,
         null
        ],
        [
         "SUBJ_040733",
         0,
         10,
         0,
         1,
         151.0,
         46,
         23.0,
         null
        ],
        [
         "SUBJ_041243",
         1,
         24,
         1,
         0,
         173.0,
         54,
         26.0,
         null
        ],
        [
         "SUBJ_041770",
         1,
         25,
         1,
         1,
         162.0,
         48,
         29.0,
         null
        ],
        [
         "SUBJ_042254",
         0,
         13,
         1,
         1,
         163.0,
         50,
         23.0,
         null
        ],
        [
         "SUBJ_042779",
         1,
         24,
         1,
         1,
         164.0,
         51,
         25.0,
         null
        ],
        [
         "SUBJ_042794",
         1,
         35,
         1,
         1,
         177.0,
         55,
         25.0,
         null
        ],
        [
         "SUBJ_043192",
         0,
         10,
         0,
         1,
         138.0,
         41,
         21.0,
         null
        ],
        [
         "SUBJ_044680",
         0,
         12,
         0,
         1,
         153.0,
         47,
         24.0,
         null
        ],
        [
         "SUBJ_045235",
         1,
         25,
         1,
         1,
         170.0,
         49,
         25.0,
         null
        ],
        [
         "SUBJ_047636",
         1,
         26,
         1,
         1,
         166.0,
         54,
         25.0,
         null
        ],
        [
         "SUBJ_049223",
         1,
         23,
         1,
         1,
         175.0,
         51,
         25.0,
         null
        ],
        [
         "SUBJ_050642",
         1,
         31,
         0,
         1,
         184.0,
         56,
         28.0,
         null
        ],
        [
         "SUBJ_051942",
         1,
         26,
         1,
         1,
         172.0,
         54,
         24.0,
         null
        ],
        [
         "SUBJ_052342",
         0,
         13,
         0,
         1,
         171.0,
         54,
         26.0,
         null
        ],
        [
         "SUBJ_053173",
         1,
         27,
         1,
         1,
         170.0,
         54,
         23.0,
         null
        ],
        [
         "SUBJ_053217",
         0,
         15,
         1,
         1,
         173.0,
         55,
         27.0,
         null
        ],
        [
         "SUBJ_053906",
         0,
         12,
         1,
         1,
         163.0,
         51,
         24.0,
         null
        ],
        [
         "SUBJ_054811",
         0,
         12,
         0,
         1,
         163.0,
         51,
         25.0,
         null
        ],
        [
         "SUBJ_055211",
         0,
         17,
         1,
         0,
         172.0,
         53,
         26.0,
         null
        ],
        [
         "SUBJ_056936",
         1,
         40,
         1,
         1,
         172.0,
         51,
         28.0,
         null
        ],
        [
         "SUBJ_057917",
         1,
         24,
         1,
         1,
         163.0,
         47,
         21.0,
         null
        ],
        [
         "SUBJ_058786",
         0,
         10,
         1,
         1,
         135.0,
         41,
         18.0,
         null
        ],
        [
         "SUBJ_058967",
         0,
         18,
         0,
         1,
         179.0,
         58,
         28.0,
         null
        ],
        [
         "SUBJ_059330",
         0,
         11,
         0,
         1,
         152.0,
         52,
         26.0,
         null
        ],
        [
         "SUBJ_059520",
         0,
         12,
         1,
         1,
         163.0,
         52,
         24.0,
         null
        ],
        [
         "SUBJ_059960",
         1,
         31,
         1,
         1,
         166.0,
         49,
         23.0,
         null
        ],
        [
         "SUBJ_061552",
         0,
         11,
         0,
         0,
         148.0,
         43,
         25.0,
         null
        ],
        [
         "SUBJ_063319",
         1,
         25,
         1,
         1,
         173.0,
         50,
         29.0,
         null
        ],
        [
         "SUBJ_063346",
         1,
         42,
         1,
         1,
         183.0,
         51,
         26.0,
         null
        ],
        [
         "SUBJ_063447",
         1,
         36,
         0,
         1,
         175.0,
         54,
         25.0,
         null
        ],
        [
         "SUBJ_063464",
         0,
         15,
         0,
         1,
         162.0,
         43,
         23.0,
         null
        ],
        [
         "SUBJ_064387",
         0,
         17,
         1,
         1,
         155.0,
         42,
         22.0,
         null
        ]
       ],
       "datasetInfos": [
        {
         "name": "_sqldf",
         "schema": {
          "fields": [
           {
            "metadata": {},
            "name": "subject",
            "nullable": true,
            "type": "string"
           },
           {
            "metadata": {},
            "name": "adult_child",
            "nullable": true,
            "type": "integer"
           },
           {
            "metadata": {},
            "name": "age",
            "nullable": true,
            "type": "integer"
           },
           {
            "metadata": {},
            "name": "sex",
            "nullable": true,
            "type": "integer"
           },
           {
            "metadata": {},
            "name": "handedness",
            "nullable": true,
            "type": "integer"
           },
           {
            "metadata": {},
            "name": "height_cm",
            "nullable": true,
            "type": "double"
           },
           {
            "metadata": {},
            "name": "shoulder_to_wrist_cm",
            "nullable": true,
            "type": "integer"
           },
           {
            "metadata": {},
            "name": "elbow_to_wrist_cm",
            "nullable": true,
            "type": "double"
           },
           {
            "metadata": {},
            "name": "_rescued_data",
            "nullable": true,
            "type": "string"
           }
          ],
          "type": "struct"
         },
         "tableIdentifier": null,
         "typeStr": "pyspark.sql.connect.dataframe.DataFrame"
        }
       ],
       "dbfsResultPath": null,
       "isJsonSchema": true,
       "metadata": {
        "createTempViewForImplicitDf": true,
        "dataframeName": "_sqldf",
        "executionCount": 24
       },
       "overflow": false,
       "plotOptions": {
        "customPlotOptions": {},
        "displayType": "table",
        "pivotAggregation": null,
        "pivotColumns": null,
        "xColumns": null,
        "yColumns": null
       },
       "removedWidgets": [],
       "schema": [
        {
         "metadata": "{}",
         "name": "subject",
         "type": "\"string\""
        },
        {
         "metadata": "{}",
         "name": "adult_child",
         "type": "\"integer\""
        },
        {
         "metadata": "{}",
         "name": "age",
         "type": "\"integer\""
        },
        {
         "metadata": "{}",
         "name": "sex",
         "type": "\"integer\""
        },
        {
         "metadata": "{}",
         "name": "handedness",
         "type": "\"integer\""
        },
        {
         "metadata": "{}",
         "name": "height_cm",
         "type": "\"double\""
        },
        {
         "metadata": "{}",
         "name": "shoulder_to_wrist_cm",
         "type": "\"integer\""
        },
        {
         "metadata": "{}",
         "name": "elbow_to_wrist_cm",
         "type": "\"double\""
        },
        {
         "metadata": "{}",
         "name": "_rescued_data",
         "type": "\"string\""
        }
       ],
       "type": "table"
      }
     },
     "output_type": "display_data"
    }
   ],
   "source": [
    "%sql\n",
    "SELECT * FROM excel_clg"
   ]
  },
  {
   "cell_type": "code",
   "execution_count": 0,
   "metadata": {
    "application/vnd.databricks.v1+cell": {
     "cellMetadata": {
      "byteLimit": 2048000,
      "rowLimit": 10000
     },
     "inputWidgets": {},
     "nuid": "29af4350-5579-484a-bf80-ebb826adea0f",
     "showTitle": false,
     "tableResultSettingsMap": {},
     "title": ""
    }
   },
   "outputs": [
    {
     "output_type": "stream",
     "name": "stdout",
     "output_type": "stream",
     "text": [
      "+-----------+-----------+---+---+----------+---------+--------------------+-----------------+\n|        _c0|        _c1|_c2|_c3|       _c4|      _c5|                 _c6|              _c7|\n+-----------+-----------+---+---+----------+---------+--------------------+-----------------+\n|    subject|adult_child|age|sex|handedness|height_cm|shoulder_to_wrist_cm|elbow_to_wrist_cm|\n|SUBJ_000206|          1| 41|  1|         1|    172.0|                  50|             25.0|\n|SUBJ_001430|          0| 11|  0|         1|    167.0|                  51|             27.0|\n|SUBJ_002923|          1| 28|  1|         0|    164.0|                  54|             26.0|\n|SUBJ_003328|          1| 33|  1|         1|    171.0|                  52|             25.0|\n|SUBJ_004117|          0| 15|  0|         1|    184.0|                  54|             28.0|\n|SUBJ_008304|          0| 16|  1|         1|    154.0|                  45|             22.0|\n|SUBJ_008728|          0| 15|  1|         1|    175.0|                  51|             24.0|\n|SUBJ_011323|          1| 30|  0|         1|    175.0|                  71|             44.0|\n|SUBJ_012088|          1| 20|  0|         1|    184.0|                  59|             26.0|\n|SUBJ_013623|          1| 36|  0|         0|    182.0|                  56|             28.0|\n|SUBJ_016552|          1| 43|  1|         1|    161.0|                  51|             23.0|\n|SUBJ_017170|          1| 53|  0|         1|    190.5|                  60|             29.0|\n|SUBJ_017499|          0| 15|  1|         1|    167.0|                  55|             28.0|\n|SUBJ_017807|          1| 36|  1|         1|    170.0|                  56|             27.0|\n|SUBJ_019262|          0| 12|  0|         1|    165.0|                  48|             25.0|\n|SUBJ_019297|          1| 22|  1|         1|    167.0|                  52|             25.0|\n|SUBJ_019663|          1| 25|  1|         1|    173.0|                  57|             26.0|\n|SUBJ_019756|          1| 25|  1|         0|    171.0|                  49|             24.0|\n|SUBJ_020948|          1| 24|  1|         1|    173.0|                  49|             26.0|\n+-----------+-----------+---+---+----------+---------+--------------------+-----------------+\nonly showing top 20 rows\n"
     ]
    }
   ],
   "source": [
    "df = spark.read.csv('/Volumes/dbacademy/first_data/train_demogra/train_demographics.csv')\n",
    "df.show()\n",
    "\n",
    "df.write.mode(\"overwrite\").format(\"delta\").saveAsTable(\"delta_train\")"
   ]
  },
  {
   "cell_type": "code",
   "execution_count": 0,
   "metadata": {
    "application/vnd.databricks.v1+cell": {
     "cellMetadata": {
      "byteLimit": 2048000,
      "rowLimit": 10000
     },
     "inputWidgets": {},
     "nuid": "b7246c32-70d8-4858-940e-4919a8323c56",
     "showTitle": false,
     "tableResultSettingsMap": {},
     "title": ""
    }
   },
   "outputs": [
    {
     "output_type": "display_data",
     "data": {
      "text/html": [
       "<style scoped>\n",
       "  .table-result-container {\n",
       "    max-height: 300px;\n",
       "    overflow: auto;\n",
       "  }\n",
       "  table, th, td {\n",
       "    border: 1px solid black;\n",
       "    border-collapse: collapse;\n",
       "  }\n",
       "  th, td {\n",
       "    padding: 5px;\n",
       "  }\n",
       "  th {\n",
       "    text-align: left;\n",
       "  }\n",
       "</style><div class='table-result-container'><table class='table-result'><thead style='background-color: white'><tr><th>_c0</th><th>_c1</th><th>_c2</th><th>_c3</th><th>_c4</th><th>_c5</th><th>_c6</th><th>_c7</th></tr></thead><tbody><tr><td>subject</td><td>adult_child</td><td>age</td><td>sex</td><td>handedness</td><td>height_cm</td><td>shoulder_to_wrist_cm</td><td>elbow_to_wrist_cm</td></tr><tr><td>SUBJ_000206</td><td>1</td><td>41</td><td>1</td><td>1</td><td>172.0</td><td>50</td><td>25.0</td></tr><tr><td>SUBJ_001430</td><td>0</td><td>11</td><td>0</td><td>1</td><td>167.0</td><td>51</td><td>27.0</td></tr><tr><td>SUBJ_002923</td><td>1</td><td>28</td><td>1</td><td>0</td><td>164.0</td><td>54</td><td>26.0</td></tr><tr><td>SUBJ_003328</td><td>1</td><td>33</td><td>1</td><td>1</td><td>171.0</td><td>52</td><td>25.0</td></tr><tr><td>SUBJ_004117</td><td>0</td><td>15</td><td>0</td><td>1</td><td>184.0</td><td>54</td><td>28.0</td></tr><tr><td>SUBJ_008304</td><td>0</td><td>16</td><td>1</td><td>1</td><td>154.0</td><td>45</td><td>22.0</td></tr><tr><td>SUBJ_008728</td><td>0</td><td>15</td><td>1</td><td>1</td><td>175.0</td><td>51</td><td>24.0</td></tr><tr><td>SUBJ_011323</td><td>1</td><td>30</td><td>0</td><td>1</td><td>175.0</td><td>71</td><td>44.0</td></tr><tr><td>SUBJ_012088</td><td>1</td><td>20</td><td>0</td><td>1</td><td>184.0</td><td>59</td><td>26.0</td></tr><tr><td>SUBJ_013623</td><td>1</td><td>36</td><td>0</td><td>0</td><td>182.0</td><td>56</td><td>28.0</td></tr><tr><td>SUBJ_016552</td><td>1</td><td>43</td><td>1</td><td>1</td><td>161.0</td><td>51</td><td>23.0</td></tr><tr><td>SUBJ_017170</td><td>1</td><td>53</td><td>0</td><td>1</td><td>190.5</td><td>60</td><td>29.0</td></tr><tr><td>SUBJ_017499</td><td>0</td><td>15</td><td>1</td><td>1</td><td>167.0</td><td>55</td><td>28.0</td></tr><tr><td>SUBJ_017807</td><td>1</td><td>36</td><td>1</td><td>1</td><td>170.0</td><td>56</td><td>27.0</td></tr><tr><td>SUBJ_019262</td><td>0</td><td>12</td><td>0</td><td>1</td><td>165.0</td><td>48</td><td>25.0</td></tr><tr><td>SUBJ_019297</td><td>1</td><td>22</td><td>1</td><td>1</td><td>167.0</td><td>52</td><td>25.0</td></tr><tr><td>SUBJ_019663</td><td>1</td><td>25</td><td>1</td><td>1</td><td>173.0</td><td>57</td><td>26.0</td></tr><tr><td>SUBJ_019756</td><td>1</td><td>25</td><td>1</td><td>0</td><td>171.0</td><td>49</td><td>24.0</td></tr><tr><td>SUBJ_020948</td><td>1</td><td>24</td><td>1</td><td>1</td><td>173.0</td><td>49</td><td>26.0</td></tr><tr><td>SUBJ_021670</td><td>0</td><td>10</td><td>1</td><td>1</td><td>145.0</td><td>41</td><td>22.0</td></tr><tr><td>SUBJ_023739</td><td>1</td><td>36</td><td>1</td><td>1</td><td>174.0</td><td>56</td><td>28.0</td></tr><tr><td>SUBJ_024086</td><td>0</td><td>13</td><td>0</td><td>1</td><td>164.0</td><td>48</td><td>27.0</td></tr><tr><td>SUBJ_024137</td><td>0</td><td>15</td><td>1</td><td>1</td><td>174.0</td><td>56</td><td>26.0</td></tr><tr><td>SUBJ_024825</td><td>1</td><td>24</td><td>1</td><td>1</td><td>167.0</td><td>53</td><td>24.0</td></tr><tr><td>SUBJ_026460</td><td>1</td><td>22</td><td>1</td><td>1</td><td>177.0</td><td>52</td><td>26.0</td></tr><tr><td>SUBJ_026824</td><td>1</td><td>24</td><td>0</td><td>1</td><td>181.5</td><td>49</td><td>27.0</td></tr><tr><td>SUBJ_027671</td><td>1</td><td>26</td><td>1</td><td>1</td><td>164.0</td><td>52</td><td>22.0</td></tr><tr><td>SUBJ_027682</td><td>1</td><td>52</td><td>1</td><td>1</td><td>170.0</td><td>52</td><td>23.0</td></tr><tr><td>SUBJ_028998</td><td>0</td><td>15</td><td>0</td><td>0</td><td>173.0</td><td>52</td><td>25.0</td></tr><tr><td>SUBJ_030676</td><td>0</td><td>10</td><td>0</td><td>1</td><td>151.0</td><td>46</td><td>21.0</td></tr><tr><td>SUBJ_032165</td><td>0</td><td>13</td><td>0</td><td>1</td><td>165.0</td><td>52</td><td>23.0</td></tr><tr><td>SUBJ_032233</td><td>1</td><td>23</td><td>1</td><td>0</td><td>175.0</td><td>56</td><td>24.0</td></tr><tr><td>SUBJ_032585</td><td>1</td><td>30</td><td>0</td><td>0</td><td>183.0</td><td>56</td><td>26.0</td></tr><tr><td>SUBJ_032704</td><td>1</td><td>24</td><td>1</td><td>1</td><td>165.0</td><td>54</td><td>26.0</td></tr><tr><td>SUBJ_032761</td><td>0</td><td>11</td><td>1</td><td>1</td><td>156.0</td><td>50</td><td>23.0</td></tr><tr><td>SUBJ_034574</td><td>0</td><td>13</td><td>0</td><td>1</td><td>169.0</td><td>47</td><td>24.0</td></tr><tr><td>SUBJ_034631</td><td>0</td><td>12</td><td>1</td><td>1</td><td>160.0</td><td>50</td><td>26.0</td></tr><tr><td>SUBJ_035353</td><td>1</td><td>31</td><td>1</td><td>1</td><td>161.0</td><td>47</td><td>25.0</td></tr><tr><td>SUBJ_036405</td><td>0</td><td>13</td><td>1</td><td>1</td><td>175.0</td><td>53</td><td>26.0</td></tr><tr><td>SUBJ_036450</td><td>0</td><td>14</td><td>1</td><td>1</td><td>166.0</td><td>47</td><td>27.0</td></tr><tr><td>SUBJ_038023</td><td>0</td><td>15</td><td>0</td><td>1</td><td>178.0</td><td>57</td><td>28.0</td></tr><tr><td>SUBJ_038277</td><td>0</td><td>13</td><td>0</td><td>1</td><td>173.5</td><td>57</td><td>27.0</td></tr><tr><td>SUBJ_038709</td><td>0</td><td>15</td><td>0</td><td>1</td><td>180.0</td><td>57</td><td>26.0</td></tr><tr><td>SUBJ_039234</td><td>0</td><td>11</td><td>0</td><td>0</td><td>152.0</td><td>48</td><td>27.0</td></tr><tr><td>SUBJ_039498</td><td>1</td><td>30</td><td>0</td><td>1</td><td>186.0</td><td>55</td><td>30.0</td></tr><tr><td>SUBJ_040106</td><td>0</td><td>12</td><td>0</td><td>1</td><td>167.0</td><td>50</td><td>28.0</td></tr><tr><td>SUBJ_040282</td><td>0</td><td>12</td><td>1</td><td>1</td><td>157.0</td><td>44</td><td>26.0</td></tr><tr><td>SUBJ_040310</td><td>1</td><td>31</td><td>1</td><td>1</td><td>173.0</td><td>56</td><td>23.0</td></tr><tr><td>SUBJ_040724</td><td>1</td><td>25</td><td>1</td><td>1</td><td>174.0</td><td>58</td><td>27.0</td></tr><tr><td>SUBJ_040733</td><td>0</td><td>10</td><td>0</td><td>1</td><td>151.0</td><td>46</td><td>23.0</td></tr><tr><td>SUBJ_041243</td><td>1</td><td>24</td><td>1</td><td>0</td><td>173.0</td><td>54</td><td>26.0</td></tr><tr><td>SUBJ_041770</td><td>1</td><td>25</td><td>1</td><td>1</td><td>162.0</td><td>48</td><td>29.0</td></tr><tr><td>SUBJ_042254</td><td>0</td><td>13</td><td>1</td><td>1</td><td>163.0</td><td>50</td><td>23.0</td></tr><tr><td>SUBJ_042779</td><td>1</td><td>24</td><td>1</td><td>1</td><td>164.0</td><td>51</td><td>25.0</td></tr><tr><td>SUBJ_042794</td><td>1</td><td>35</td><td>1</td><td>1</td><td>177.0</td><td>55</td><td>25.0</td></tr><tr><td>SUBJ_043192</td><td>0</td><td>10</td><td>0</td><td>1</td><td>138.0</td><td>41</td><td>21.0</td></tr><tr><td>SUBJ_044680</td><td>0</td><td>12</td><td>0</td><td>1</td><td>153.0</td><td>47</td><td>24.0</td></tr><tr><td>SUBJ_045235</td><td>1</td><td>25</td><td>1</td><td>1</td><td>170.0</td><td>49</td><td>25.0</td></tr><tr><td>SUBJ_047636</td><td>1</td><td>26</td><td>1</td><td>1</td><td>166.0</td><td>54</td><td>25.0</td></tr><tr><td>SUBJ_049223</td><td>1</td><td>23</td><td>1</td><td>1</td><td>175.0</td><td>51</td><td>25.0</td></tr><tr><td>SUBJ_050642</td><td>1</td><td>31</td><td>0</td><td>1</td><td>184.0</td><td>56</td><td>28.0</td></tr><tr><td>SUBJ_051942</td><td>1</td><td>26</td><td>1</td><td>1</td><td>172.0</td><td>54</td><td>24.0</td></tr><tr><td>SUBJ_052342</td><td>0</td><td>13</td><td>0</td><td>1</td><td>171.0</td><td>54</td><td>26.0</td></tr><tr><td>SUBJ_053173</td><td>1</td><td>27</td><td>1</td><td>1</td><td>170.0</td><td>54</td><td>23.0</td></tr><tr><td>SUBJ_053217</td><td>0</td><td>15</td><td>1</td><td>1</td><td>173.0</td><td>55</td><td>27.0</td></tr><tr><td>SUBJ_053906</td><td>0</td><td>12</td><td>1</td><td>1</td><td>163.0</td><td>51</td><td>24.0</td></tr><tr><td>SUBJ_054811</td><td>0</td><td>12</td><td>0</td><td>1</td><td>163.0</td><td>51</td><td>25.0</td></tr><tr><td>SUBJ_055211</td><td>0</td><td>17</td><td>1</td><td>0</td><td>172.0</td><td>53</td><td>26.0</td></tr><tr><td>SUBJ_056936</td><td>1</td><td>40</td><td>1</td><td>1</td><td>172.0</td><td>51</td><td>28.0</td></tr><tr><td>SUBJ_057917</td><td>1</td><td>24</td><td>1</td><td>1</td><td>163.0</td><td>47</td><td>21.0</td></tr><tr><td>SUBJ_058786</td><td>0</td><td>10</td><td>1</td><td>1</td><td>135.0</td><td>41</td><td>18.0</td></tr><tr><td>SUBJ_058967</td><td>0</td><td>18</td><td>0</td><td>1</td><td>179.0</td><td>58</td><td>28.0</td></tr><tr><td>SUBJ_059330</td><td>0</td><td>11</td><td>0</td><td>1</td><td>152.0</td><td>52</td><td>26.0</td></tr><tr><td>SUBJ_059520</td><td>0</td><td>12</td><td>1</td><td>1</td><td>163.0</td><td>52</td><td>24.0</td></tr><tr><td>SUBJ_059960</td><td>1</td><td>31</td><td>1</td><td>1</td><td>166.0</td><td>49</td><td>23.0</td></tr><tr><td>SUBJ_061552</td><td>0</td><td>11</td><td>0</td><td>0</td><td>148.0</td><td>43</td><td>25.0</td></tr><tr><td>SUBJ_063319</td><td>1</td><td>25</td><td>1</td><td>1</td><td>173.0</td><td>50</td><td>29.0</td></tr><tr><td>SUBJ_063346</td><td>1</td><td>42</td><td>1</td><td>1</td><td>183.0</td><td>51</td><td>26.0</td></tr><tr><td>SUBJ_063447</td><td>1</td><td>36</td><td>0</td><td>1</td><td>175.0</td><td>54</td><td>25.0</td></tr><tr><td>SUBJ_063464</td><td>0</td><td>15</td><td>0</td><td>1</td><td>162.0</td><td>43</td><td>23.0</td></tr><tr><td>SUBJ_064387</td><td>0</td><td>17</td><td>1</td><td>1</td><td>155.0</td><td>42</td><td>22.0</td></tr></tbody></table></div>"
      ]
     },
     "metadata": {
      "application/vnd.databricks.v1+output": {
       "addedWidgets": {},
       "aggData": [],
       "aggError": "",
       "aggOverflow": false,
       "aggSchema": [],
       "aggSeriesLimitReached": false,
       "aggType": "",
       "arguments": {},
       "columnCustomDisplayInfos": {},
       "data": [
        [
         "subject",
         "adult_child",
         "age",
         "sex",
         "handedness",
         "height_cm",
         "shoulder_to_wrist_cm",
         "elbow_to_wrist_cm"
        ],
        [
         "SUBJ_000206",
         "1",
         "41",
         "1",
         "1",
         "172.0",
         "50",
         "25.0"
        ],
        [
         "SUBJ_001430",
         "0",
         "11",
         "0",
         "1",
         "167.0",
         "51",
         "27.0"
        ],
        [
         "SUBJ_002923",
         "1",
         "28",
         "1",
         "0",
         "164.0",
         "54",
         "26.0"
        ],
        [
         "SUBJ_003328",
         "1",
         "33",
         "1",
         "1",
         "171.0",
         "52",
         "25.0"
        ],
        [
         "SUBJ_004117",
         "0",
         "15",
         "0",
         "1",
         "184.0",
         "54",
         "28.0"
        ],
        [
         "SUBJ_008304",
         "0",
         "16",
         "1",
         "1",
         "154.0",
         "45",
         "22.0"
        ],
        [
         "SUBJ_008728",
         "0",
         "15",
         "1",
         "1",
         "175.0",
         "51",
         "24.0"
        ],
        [
         "SUBJ_011323",
         "1",
         "30",
         "0",
         "1",
         "175.0",
         "71",
         "44.0"
        ],
        [
         "SUBJ_012088",
         "1",
         "20",
         "0",
         "1",
         "184.0",
         "59",
         "26.0"
        ],
        [
         "SUBJ_013623",
         "1",
         "36",
         "0",
         "0",
         "182.0",
         "56",
         "28.0"
        ],
        [
         "SUBJ_016552",
         "1",
         "43",
         "1",
         "1",
         "161.0",
         "51",
         "23.0"
        ],
        [
         "SUBJ_017170",
         "1",
         "53",
         "0",
         "1",
         "190.5",
         "60",
         "29.0"
        ],
        [
         "SUBJ_017499",
         "0",
         "15",
         "1",
         "1",
         "167.0",
         "55",
         "28.0"
        ],
        [
         "SUBJ_017807",
         "1",
         "36",
         "1",
         "1",
         "170.0",
         "56",
         "27.0"
        ],
        [
         "SUBJ_019262",
         "0",
         "12",
         "0",
         "1",
         "165.0",
         "48",
         "25.0"
        ],
        [
         "SUBJ_019297",
         "1",
         "22",
         "1",
         "1",
         "167.0",
         "52",
         "25.0"
        ],
        [
         "SUBJ_019663",
         "1",
         "25",
         "1",
         "1",
         "173.0",
         "57",
         "26.0"
        ],
        [
         "SUBJ_019756",
         "1",
         "25",
         "1",
         "0",
         "171.0",
         "49",
         "24.0"
        ],
        [
         "SUBJ_020948",
         "1",
         "24",
         "1",
         "1",
         "173.0",
         "49",
         "26.0"
        ],
        [
         "SUBJ_021670",
         "0",
         "10",
         "1",
         "1",
         "145.0",
         "41",
         "22.0"
        ],
        [
         "SUBJ_023739",
         "1",
         "36",
         "1",
         "1",
         "174.0",
         "56",
         "28.0"
        ],
        [
         "SUBJ_024086",
         "0",
         "13",
         "0",
         "1",
         "164.0",
         "48",
         "27.0"
        ],
        [
         "SUBJ_024137",
         "0",
         "15",
         "1",
         "1",
         "174.0",
         "56",
         "26.0"
        ],
        [
         "SUBJ_024825",
         "1",
         "24",
         "1",
         "1",
         "167.0",
         "53",
         "24.0"
        ],
        [
         "SUBJ_026460",
         "1",
         "22",
         "1",
         "1",
         "177.0",
         "52",
         "26.0"
        ],
        [
         "SUBJ_026824",
         "1",
         "24",
         "0",
         "1",
         "181.5",
         "49",
         "27.0"
        ],
        [
         "SUBJ_027671",
         "1",
         "26",
         "1",
         "1",
         "164.0",
         "52",
         "22.0"
        ],
        [
         "SUBJ_027682",
         "1",
         "52",
         "1",
         "1",
         "170.0",
         "52",
         "23.0"
        ],
        [
         "SUBJ_028998",
         "0",
         "15",
         "0",
         "0",
         "173.0",
         "52",
         "25.0"
        ],
        [
         "SUBJ_030676",
         "0",
         "10",
         "0",
         "1",
         "151.0",
         "46",
         "21.0"
        ],
        [
         "SUBJ_032165",
         "0",
         "13",
         "0",
         "1",
         "165.0",
         "52",
         "23.0"
        ],
        [
         "SUBJ_032233",
         "1",
         "23",
         "1",
         "0",
         "175.0",
         "56",
         "24.0"
        ],
        [
         "SUBJ_032585",
         "1",
         "30",
         "0",
         "0",
         "183.0",
         "56",
         "26.0"
        ],
        [
         "SUBJ_032704",
         "1",
         "24",
         "1",
         "1",
         "165.0",
         "54",
         "26.0"
        ],
        [
         "SUBJ_032761",
         "0",
         "11",
         "1",
         "1",
         "156.0",
         "50",
         "23.0"
        ],
        [
         "SUBJ_034574",
         "0",
         "13",
         "0",
         "1",
         "169.0",
         "47",
         "24.0"
        ],
        [
         "SUBJ_034631",
         "0",
         "12",
         "1",
         "1",
         "160.0",
         "50",
         "26.0"
        ],
        [
         "SUBJ_035353",
         "1",
         "31",
         "1",
         "1",
         "161.0",
         "47",
         "25.0"
        ],
        [
         "SUBJ_036405",
         "0",
         "13",
         "1",
         "1",
         "175.0",
         "53",
         "26.0"
        ],
        [
         "SUBJ_036450",
         "0",
         "14",
         "1",
         "1",
         "166.0",
         "47",
         "27.0"
        ],
        [
         "SUBJ_038023",
         "0",
         "15",
         "0",
         "1",
         "178.0",
         "57",
         "28.0"
        ],
        [
         "SUBJ_038277",
         "0",
         "13",
         "0",
         "1",
         "173.5",
         "57",
         "27.0"
        ],
        [
         "SUBJ_038709",
         "0",
         "15",
         "0",
         "1",
         "180.0",
         "57",
         "26.0"
        ],
        [
         "SUBJ_039234",
         "0",
         "11",
         "0",
         "0",
         "152.0",
         "48",
         "27.0"
        ],
        [
         "SUBJ_039498",
         "1",
         "30",
         "0",
         "1",
         "186.0",
         "55",
         "30.0"
        ],
        [
         "SUBJ_040106",
         "0",
         "12",
         "0",
         "1",
         "167.0",
         "50",
         "28.0"
        ],
        [
         "SUBJ_040282",
         "0",
         "12",
         "1",
         "1",
         "157.0",
         "44",
         "26.0"
        ],
        [
         "SUBJ_040310",
         "1",
         "31",
         "1",
         "1",
         "173.0",
         "56",
         "23.0"
        ],
        [
         "SUBJ_040724",
         "1",
         "25",
         "1",
         "1",
         "174.0",
         "58",
         "27.0"
        ],
        [
         "SUBJ_040733",
         "0",
         "10",
         "0",
         "1",
         "151.0",
         "46",
         "23.0"
        ],
        [
         "SUBJ_041243",
         "1",
         "24",
         "1",
         "0",
         "173.0",
         "54",
         "26.0"
        ],
        [
         "SUBJ_041770",
         "1",
         "25",
         "1",
         "1",
         "162.0",
         "48",
         "29.0"
        ],
        [
         "SUBJ_042254",
         "0",
         "13",
         "1",
         "1",
         "163.0",
         "50",
         "23.0"
        ],
        [
         "SUBJ_042779",
         "1",
         "24",
         "1",
         "1",
         "164.0",
         "51",
         "25.0"
        ],
        [
         "SUBJ_042794",
         "1",
         "35",
         "1",
         "1",
         "177.0",
         "55",
         "25.0"
        ],
        [
         "SUBJ_043192",
         "0",
         "10",
         "0",
         "1",
         "138.0",
         "41",
         "21.0"
        ],
        [
         "SUBJ_044680",
         "0",
         "12",
         "0",
         "1",
         "153.0",
         "47",
         "24.0"
        ],
        [
         "SUBJ_045235",
         "1",
         "25",
         "1",
         "1",
         "170.0",
         "49",
         "25.0"
        ],
        [
         "SUBJ_047636",
         "1",
         "26",
         "1",
         "1",
         "166.0",
         "54",
         "25.0"
        ],
        [
         "SUBJ_049223",
         "1",
         "23",
         "1",
         "1",
         "175.0",
         "51",
         "25.0"
        ],
        [
         "SUBJ_050642",
         "1",
         "31",
         "0",
         "1",
         "184.0",
         "56",
         "28.0"
        ],
        [
         "SUBJ_051942",
         "1",
         "26",
         "1",
         "1",
         "172.0",
         "54",
         "24.0"
        ],
        [
         "SUBJ_052342",
         "0",
         "13",
         "0",
         "1",
         "171.0",
         "54",
         "26.0"
        ],
        [
         "SUBJ_053173",
         "1",
         "27",
         "1",
         "1",
         "170.0",
         "54",
         "23.0"
        ],
        [
         "SUBJ_053217",
         "0",
         "15",
         "1",
         "1",
         "173.0",
         "55",
         "27.0"
        ],
        [
         "SUBJ_053906",
         "0",
         "12",
         "1",
         "1",
         "163.0",
         "51",
         "24.0"
        ],
        [
         "SUBJ_054811",
         "0",
         "12",
         "0",
         "1",
         "163.0",
         "51",
         "25.0"
        ],
        [
         "SUBJ_055211",
         "0",
         "17",
         "1",
         "0",
         "172.0",
         "53",
         "26.0"
        ],
        [
         "SUBJ_056936",
         "1",
         "40",
         "1",
         "1",
         "172.0",
         "51",
         "28.0"
        ],
        [
         "SUBJ_057917",
         "1",
         "24",
         "1",
         "1",
         "163.0",
         "47",
         "21.0"
        ],
        [
         "SUBJ_058786",
         "0",
         "10",
         "1",
         "1",
         "135.0",
         "41",
         "18.0"
        ],
        [
         "SUBJ_058967",
         "0",
         "18",
         "0",
         "1",
         "179.0",
         "58",
         "28.0"
        ],
        [
         "SUBJ_059330",
         "0",
         "11",
         "0",
         "1",
         "152.0",
         "52",
         "26.0"
        ],
        [
         "SUBJ_059520",
         "0",
         "12",
         "1",
         "1",
         "163.0",
         "52",
         "24.0"
        ],
        [
         "SUBJ_059960",
         "1",
         "31",
         "1",
         "1",
         "166.0",
         "49",
         "23.0"
        ],
        [
         "SUBJ_061552",
         "0",
         "11",
         "0",
         "0",
         "148.0",
         "43",
         "25.0"
        ],
        [
         "SUBJ_063319",
         "1",
         "25",
         "1",
         "1",
         "173.0",
         "50",
         "29.0"
        ],
        [
         "SUBJ_063346",
         "1",
         "42",
         "1",
         "1",
         "183.0",
         "51",
         "26.0"
        ],
        [
         "SUBJ_063447",
         "1",
         "36",
         "0",
         "1",
         "175.0",
         "54",
         "25.0"
        ],
        [
         "SUBJ_063464",
         "0",
         "15",
         "0",
         "1",
         "162.0",
         "43",
         "23.0"
        ],
        [
         "SUBJ_064387",
         "0",
         "17",
         "1",
         "1",
         "155.0",
         "42",
         "22.0"
        ]
       ],
       "datasetInfos": [],
       "dbfsResultPath": null,
       "isJsonSchema": true,
       "metadata": {},
       "overflow": false,
       "plotOptions": {
        "customPlotOptions": {},
        "displayType": "table",
        "pivotAggregation": null,
        "pivotColumns": null,
        "xColumns": null,
        "yColumns": null
       },
       "removedWidgets": [],
       "schema": [
        {
         "metadata": "{}",
         "name": "_c0",
         "type": "\"string\""
        },
        {
         "metadata": "{}",
         "name": "_c1",
         "type": "\"string\""
        },
        {
         "metadata": "{}",
         "name": "_c2",
         "type": "\"string\""
        },
        {
         "metadata": "{}",
         "name": "_c3",
         "type": "\"string\""
        },
        {
         "metadata": "{}",
         "name": "_c4",
         "type": "\"string\""
        },
        {
         "metadata": "{}",
         "name": "_c5",
         "type": "\"string\""
        },
        {
         "metadata": "{}",
         "name": "_c6",
         "type": "\"string\""
        },
        {
         "metadata": "{}",
         "name": "_c7",
         "type": "\"string\""
        }
       ],
       "type": "table"
      }
     },
     "output_type": "display_data"
    }
   ],
   "source": [
    "df_delta = spark.table(\"delta_train\")\n",
    "df_delta.display()"
   ]
  },
  {
   "cell_type": "code",
   "execution_count": 0,
   "metadata": {
    "application/vnd.databricks.v1+cell": {
     "cellMetadata": {
      "byteLimit": 2048000,
      "implicitDf": true,
      "rowLimit": 10000
     },
     "inputWidgets": {},
     "nuid": "a11c390c-63bb-432a-9d79-f526b2c35999",
     "showTitle": false,
     "tableResultSettingsMap": {},
     "title": ""
    }
   },
   "outputs": [
    {
     "output_type": "display_data",
     "data": {
      "text/html": [
       "<style scoped>\n",
       "  .table-result-container {\n",
       "    max-height: 300px;\n",
       "    overflow: auto;\n",
       "  }\n",
       "  table, th, td {\n",
       "    border: 1px solid black;\n",
       "    border-collapse: collapse;\n",
       "  }\n",
       "  th, td {\n",
       "    padding: 5px;\n",
       "  }\n",
       "  th {\n",
       "    text-align: left;\n",
       "  }\n",
       "</style><div class='table-result-container'><table class='table-result'><thead style='background-color: white'><tr><th>num_affected_rows</th><th>num_inserted_rows</th><th>num_skipped_corrupt_files</th></tr></thead><tbody><tr><td>0</td><td>0</td><td>0</td></tr></tbody></table></div>"
      ]
     },
     "metadata": {
      "application/vnd.databricks.v1+output": {
       "addedWidgets": {},
       "aggData": [],
       "aggError": "",
       "aggOverflow": false,
       "aggSchema": [],
       "aggSeriesLimitReached": false,
       "aggType": "",
       "arguments": {},
       "columnCustomDisplayInfos": {},
       "data": [
        [
         0,
         0,
         0
        ]
       ],
       "datasetInfos": [
        {
         "name": "_sqldf",
         "schema": {
          "fields": [
           {
            "metadata": {},
            "name": "num_affected_rows",
            "nullable": true,
            "type": "long"
           },
           {
            "metadata": {},
            "name": "num_inserted_rows",
            "nullable": true,
            "type": "long"
           },
           {
            "metadata": {},
            "name": "num_skipped_corrupt_files",
            "nullable": true,
            "type": "integer"
           }
          ],
          "type": "struct"
         },
         "tableIdentifier": null,
         "typeStr": "pyspark.sql.connect.dataframe.DataFrame"
        }
       ],
       "dbfsResultPath": null,
       "isJsonSchema": true,
       "metadata": {
        "createTempViewForImplicitDf": true,
        "dataframeName": "_sqldf",
        "executionCount": 78
       },
       "overflow": false,
       "plotOptions": {
        "customPlotOptions": {},
        "displayType": "table",
        "pivotAggregation": null,
        "pivotColumns": null,
        "xColumns": null,
        "yColumns": null
       },
       "removedWidgets": [],
       "schema": [
        {
         "metadata": "{}",
         "name": "num_affected_rows",
         "type": "\"long\""
        },
        {
         "metadata": "{}",
         "name": "num_inserted_rows",
         "type": "\"long\""
        },
        {
         "metadata": "{}",
         "name": "num_skipped_corrupt_files",
         "type": "\"integer\""
        }
       ],
       "type": "table"
      }
     },
     "output_type": "display_data"
    }
   ],
   "source": [
    "%sql\n",
    "CREATE TABLE IF NOT EXISTS train_demograpic;\n",
    "\n",
    "COPY INTO train_demograpic\n",
    "  FROM '/Volumes/dbacademy/first_data/train_demogra/train_demographics.csv'\n",
    "  FILEFORMAT = CSV\n",
    "  COPY_OPTIONS ('mergeSchema' = 'true')"
   ]
  },
  {
   "cell_type": "code",
   "execution_count": 0,
   "metadata": {
    "application/vnd.databricks.v1+cell": {
     "cellMetadata": {
      "byteLimit": 2048000,
      "implicitDf": true,
      "rowLimit": 10000
     },
     "inputWidgets": {},
     "nuid": "d4fc2e18-8827-4ee7-b20d-f6bb22383d9e",
     "showTitle": false,
     "tableResultSettingsMap": {},
     "title": ""
    }
   },
   "outputs": [
    {
     "output_type": "display_data",
     "data": {
      "text/html": [
       "<style scoped>\n",
       "  .table-result-container {\n",
       "    max-height: 300px;\n",
       "    overflow: auto;\n",
       "  }\n",
       "  table, th, td {\n",
       "    border: 1px solid black;\n",
       "    border-collapse: collapse;\n",
       "  }\n",
       "  th, td {\n",
       "    padding: 5px;\n",
       "  }\n",
       "  th {\n",
       "    text-align: left;\n",
       "  }\n",
       "</style><div class='table-result-container'><table class='table-result'><thead style='background-color: white'><tr><th>subject</th><th>adult_child</th><th>age</th><th>sex</th><th>handedness</th><th>height_cm</th><th>shoulder_to_wrist_cm</th><th>elbow_to_wrist_cm</th><th>_rescued_data</th><th>fileSize</th></tr></thead><tbody><tr><td>SUBJ_000206</td><td>1</td><td>41</td><td>1</td><td>1</td><td>172.0</td><td>50</td><td>25.0</td><td>null</td><td>2923</td></tr><tr><td>SUBJ_001430</td><td>0</td><td>11</td><td>0</td><td>1</td><td>167.0</td><td>51</td><td>27.0</td><td>null</td><td>2923</td></tr><tr><td>SUBJ_002923</td><td>1</td><td>28</td><td>1</td><td>0</td><td>164.0</td><td>54</td><td>26.0</td><td>null</td><td>2923</td></tr><tr><td>SUBJ_003328</td><td>1</td><td>33</td><td>1</td><td>1</td><td>171.0</td><td>52</td><td>25.0</td><td>null</td><td>2923</td></tr><tr><td>SUBJ_004117</td><td>0</td><td>15</td><td>0</td><td>1</td><td>184.0</td><td>54</td><td>28.0</td><td>null</td><td>2923</td></tr><tr><td>SUBJ_008304</td><td>0</td><td>16</td><td>1</td><td>1</td><td>154.0</td><td>45</td><td>22.0</td><td>null</td><td>2923</td></tr><tr><td>SUBJ_008728</td><td>0</td><td>15</td><td>1</td><td>1</td><td>175.0</td><td>51</td><td>24.0</td><td>null</td><td>2923</td></tr><tr><td>SUBJ_011323</td><td>1</td><td>30</td><td>0</td><td>1</td><td>175.0</td><td>71</td><td>44.0</td><td>null</td><td>2923</td></tr><tr><td>SUBJ_012088</td><td>1</td><td>20</td><td>0</td><td>1</td><td>184.0</td><td>59</td><td>26.0</td><td>null</td><td>2923</td></tr><tr><td>SUBJ_013623</td><td>1</td><td>36</td><td>0</td><td>0</td><td>182.0</td><td>56</td><td>28.0</td><td>null</td><td>2923</td></tr><tr><td>SUBJ_016552</td><td>1</td><td>43</td><td>1</td><td>1</td><td>161.0</td><td>51</td><td>23.0</td><td>null</td><td>2923</td></tr><tr><td>SUBJ_017170</td><td>1</td><td>53</td><td>0</td><td>1</td><td>190.5</td><td>60</td><td>29.0</td><td>null</td><td>2923</td></tr><tr><td>SUBJ_017499</td><td>0</td><td>15</td><td>1</td><td>1</td><td>167.0</td><td>55</td><td>28.0</td><td>null</td><td>2923</td></tr><tr><td>SUBJ_017807</td><td>1</td><td>36</td><td>1</td><td>1</td><td>170.0</td><td>56</td><td>27.0</td><td>null</td><td>2923</td></tr><tr><td>SUBJ_019262</td><td>0</td><td>12</td><td>0</td><td>1</td><td>165.0</td><td>48</td><td>25.0</td><td>null</td><td>2923</td></tr><tr><td>SUBJ_019297</td><td>1</td><td>22</td><td>1</td><td>1</td><td>167.0</td><td>52</td><td>25.0</td><td>null</td><td>2923</td></tr><tr><td>SUBJ_019663</td><td>1</td><td>25</td><td>1</td><td>1</td><td>173.0</td><td>57</td><td>26.0</td><td>null</td><td>2923</td></tr><tr><td>SUBJ_019756</td><td>1</td><td>25</td><td>1</td><td>0</td><td>171.0</td><td>49</td><td>24.0</td><td>null</td><td>2923</td></tr><tr><td>SUBJ_020948</td><td>1</td><td>24</td><td>1</td><td>1</td><td>173.0</td><td>49</td><td>26.0</td><td>null</td><td>2923</td></tr><tr><td>SUBJ_021670</td><td>0</td><td>10</td><td>1</td><td>1</td><td>145.0</td><td>41</td><td>22.0</td><td>null</td><td>2923</td></tr><tr><td>SUBJ_023739</td><td>1</td><td>36</td><td>1</td><td>1</td><td>174.0</td><td>56</td><td>28.0</td><td>null</td><td>2923</td></tr><tr><td>SUBJ_024086</td><td>0</td><td>13</td><td>0</td><td>1</td><td>164.0</td><td>48</td><td>27.0</td><td>null</td><td>2923</td></tr><tr><td>SUBJ_024137</td><td>0</td><td>15</td><td>1</td><td>1</td><td>174.0</td><td>56</td><td>26.0</td><td>null</td><td>2923</td></tr><tr><td>SUBJ_024825</td><td>1</td><td>24</td><td>1</td><td>1</td><td>167.0</td><td>53</td><td>24.0</td><td>null</td><td>2923</td></tr><tr><td>SUBJ_026460</td><td>1</td><td>22</td><td>1</td><td>1</td><td>177.0</td><td>52</td><td>26.0</td><td>null</td><td>2923</td></tr><tr><td>SUBJ_026824</td><td>1</td><td>24</td><td>0</td><td>1</td><td>181.5</td><td>49</td><td>27.0</td><td>null</td><td>2923</td></tr><tr><td>SUBJ_027671</td><td>1</td><td>26</td><td>1</td><td>1</td><td>164.0</td><td>52</td><td>22.0</td><td>null</td><td>2923</td></tr><tr><td>SUBJ_027682</td><td>1</td><td>52</td><td>1</td><td>1</td><td>170.0</td><td>52</td><td>23.0</td><td>null</td><td>2923</td></tr><tr><td>SUBJ_028998</td><td>0</td><td>15</td><td>0</td><td>0</td><td>173.0</td><td>52</td><td>25.0</td><td>null</td><td>2923</td></tr><tr><td>SUBJ_030676</td><td>0</td><td>10</td><td>0</td><td>1</td><td>151.0</td><td>46</td><td>21.0</td><td>null</td><td>2923</td></tr><tr><td>SUBJ_032165</td><td>0</td><td>13</td><td>0</td><td>1</td><td>165.0</td><td>52</td><td>23.0</td><td>null</td><td>2923</td></tr><tr><td>SUBJ_032233</td><td>1</td><td>23</td><td>1</td><td>0</td><td>175.0</td><td>56</td><td>24.0</td><td>null</td><td>2923</td></tr><tr><td>SUBJ_032585</td><td>1</td><td>30</td><td>0</td><td>0</td><td>183.0</td><td>56</td><td>26.0</td><td>null</td><td>2923</td></tr><tr><td>SUBJ_032704</td><td>1</td><td>24</td><td>1</td><td>1</td><td>165.0</td><td>54</td><td>26.0</td><td>null</td><td>2923</td></tr><tr><td>SUBJ_032761</td><td>0</td><td>11</td><td>1</td><td>1</td><td>156.0</td><td>50</td><td>23.0</td><td>null</td><td>2923</td></tr><tr><td>SUBJ_034574</td><td>0</td><td>13</td><td>0</td><td>1</td><td>169.0</td><td>47</td><td>24.0</td><td>null</td><td>2923</td></tr><tr><td>SUBJ_034631</td><td>0</td><td>12</td><td>1</td><td>1</td><td>160.0</td><td>50</td><td>26.0</td><td>null</td><td>2923</td></tr><tr><td>SUBJ_035353</td><td>1</td><td>31</td><td>1</td><td>1</td><td>161.0</td><td>47</td><td>25.0</td><td>null</td><td>2923</td></tr><tr><td>SUBJ_036405</td><td>0</td><td>13</td><td>1</td><td>1</td><td>175.0</td><td>53</td><td>26.0</td><td>null</td><td>2923</td></tr><tr><td>SUBJ_036450</td><td>0</td><td>14</td><td>1</td><td>1</td><td>166.0</td><td>47</td><td>27.0</td><td>null</td><td>2923</td></tr><tr><td>SUBJ_038023</td><td>0</td><td>15</td><td>0</td><td>1</td><td>178.0</td><td>57</td><td>28.0</td><td>null</td><td>2923</td></tr><tr><td>SUBJ_038277</td><td>0</td><td>13</td><td>0</td><td>1</td><td>173.5</td><td>57</td><td>27.0</td><td>null</td><td>2923</td></tr><tr><td>SUBJ_038709</td><td>0</td><td>15</td><td>0</td><td>1</td><td>180.0</td><td>57</td><td>26.0</td><td>null</td><td>2923</td></tr><tr><td>SUBJ_039234</td><td>0</td><td>11</td><td>0</td><td>0</td><td>152.0</td><td>48</td><td>27.0</td><td>null</td><td>2923</td></tr><tr><td>SUBJ_039498</td><td>1</td><td>30</td><td>0</td><td>1</td><td>186.0</td><td>55</td><td>30.0</td><td>null</td><td>2923</td></tr><tr><td>SUBJ_040106</td><td>0</td><td>12</td><td>0</td><td>1</td><td>167.0</td><td>50</td><td>28.0</td><td>null</td><td>2923</td></tr><tr><td>SUBJ_040282</td><td>0</td><td>12</td><td>1</td><td>1</td><td>157.0</td><td>44</td><td>26.0</td><td>null</td><td>2923</td></tr><tr><td>SUBJ_040310</td><td>1</td><td>31</td><td>1</td><td>1</td><td>173.0</td><td>56</td><td>23.0</td><td>null</td><td>2923</td></tr><tr><td>SUBJ_040724</td><td>1</td><td>25</td><td>1</td><td>1</td><td>174.0</td><td>58</td><td>27.0</td><td>null</td><td>2923</td></tr><tr><td>SUBJ_040733</td><td>0</td><td>10</td><td>0</td><td>1</td><td>151.0</td><td>46</td><td>23.0</td><td>null</td><td>2923</td></tr><tr><td>SUBJ_041243</td><td>1</td><td>24</td><td>1</td><td>0</td><td>173.0</td><td>54</td><td>26.0</td><td>null</td><td>2923</td></tr><tr><td>SUBJ_041770</td><td>1</td><td>25</td><td>1</td><td>1</td><td>162.0</td><td>48</td><td>29.0</td><td>null</td><td>2923</td></tr><tr><td>SUBJ_042254</td><td>0</td><td>13</td><td>1</td><td>1</td><td>163.0</td><td>50</td><td>23.0</td><td>null</td><td>2923</td></tr><tr><td>SUBJ_042779</td><td>1</td><td>24</td><td>1</td><td>1</td><td>164.0</td><td>51</td><td>25.0</td><td>null</td><td>2923</td></tr><tr><td>SUBJ_042794</td><td>1</td><td>35</td><td>1</td><td>1</td><td>177.0</td><td>55</td><td>25.0</td><td>null</td><td>2923</td></tr><tr><td>SUBJ_043192</td><td>0</td><td>10</td><td>0</td><td>1</td><td>138.0</td><td>41</td><td>21.0</td><td>null</td><td>2923</td></tr><tr><td>SUBJ_044680</td><td>0</td><td>12</td><td>0</td><td>1</td><td>153.0</td><td>47</td><td>24.0</td><td>null</td><td>2923</td></tr><tr><td>SUBJ_045235</td><td>1</td><td>25</td><td>1</td><td>1</td><td>170.0</td><td>49</td><td>25.0</td><td>null</td><td>2923</td></tr><tr><td>SUBJ_047636</td><td>1</td><td>26</td><td>1</td><td>1</td><td>166.0</td><td>54</td><td>25.0</td><td>null</td><td>2923</td></tr><tr><td>SUBJ_049223</td><td>1</td><td>23</td><td>1</td><td>1</td><td>175.0</td><td>51</td><td>25.0</td><td>null</td><td>2923</td></tr><tr><td>SUBJ_050642</td><td>1</td><td>31</td><td>0</td><td>1</td><td>184.0</td><td>56</td><td>28.0</td><td>null</td><td>2923</td></tr><tr><td>SUBJ_051942</td><td>1</td><td>26</td><td>1</td><td>1</td><td>172.0</td><td>54</td><td>24.0</td><td>null</td><td>2923</td></tr><tr><td>SUBJ_052342</td><td>0</td><td>13</td><td>0</td><td>1</td><td>171.0</td><td>54</td><td>26.0</td><td>null</td><td>2923</td></tr><tr><td>SUBJ_053173</td><td>1</td><td>27</td><td>1</td><td>1</td><td>170.0</td><td>54</td><td>23.0</td><td>null</td><td>2923</td></tr><tr><td>SUBJ_053217</td><td>0</td><td>15</td><td>1</td><td>1</td><td>173.0</td><td>55</td><td>27.0</td><td>null</td><td>2923</td></tr><tr><td>SUBJ_053906</td><td>0</td><td>12</td><td>1</td><td>1</td><td>163.0</td><td>51</td><td>24.0</td><td>null</td><td>2923</td></tr><tr><td>SUBJ_054811</td><td>0</td><td>12</td><td>0</td><td>1</td><td>163.0</td><td>51</td><td>25.0</td><td>null</td><td>2923</td></tr><tr><td>SUBJ_055211</td><td>0</td><td>17</td><td>1</td><td>0</td><td>172.0</td><td>53</td><td>26.0</td><td>null</td><td>2923</td></tr><tr><td>SUBJ_056936</td><td>1</td><td>40</td><td>1</td><td>1</td><td>172.0</td><td>51</td><td>28.0</td><td>null</td><td>2923</td></tr><tr><td>SUBJ_057917</td><td>1</td><td>24</td><td>1</td><td>1</td><td>163.0</td><td>47</td><td>21.0</td><td>null</td><td>2923</td></tr><tr><td>SUBJ_058786</td><td>0</td><td>10</td><td>1</td><td>1</td><td>135.0</td><td>41</td><td>18.0</td><td>null</td><td>2923</td></tr><tr><td>SUBJ_058967</td><td>0</td><td>18</td><td>0</td><td>1</td><td>179.0</td><td>58</td><td>28.0</td><td>null</td><td>2923</td></tr><tr><td>SUBJ_059330</td><td>0</td><td>11</td><td>0</td><td>1</td><td>152.0</td><td>52</td><td>26.0</td><td>null</td><td>2923</td></tr><tr><td>SUBJ_059520</td><td>0</td><td>12</td><td>1</td><td>1</td><td>163.0</td><td>52</td><td>24.0</td><td>null</td><td>2923</td></tr><tr><td>SUBJ_059960</td><td>1</td><td>31</td><td>1</td><td>1</td><td>166.0</td><td>49</td><td>23.0</td><td>null</td><td>2923</td></tr><tr><td>SUBJ_061552</td><td>0</td><td>11</td><td>0</td><td>0</td><td>148.0</td><td>43</td><td>25.0</td><td>null</td><td>2923</td></tr><tr><td>SUBJ_063319</td><td>1</td><td>25</td><td>1</td><td>1</td><td>173.0</td><td>50</td><td>29.0</td><td>null</td><td>2923</td></tr><tr><td>SUBJ_063346</td><td>1</td><td>42</td><td>1</td><td>1</td><td>183.0</td><td>51</td><td>26.0</td><td>null</td><td>2923</td></tr><tr><td>SUBJ_063447</td><td>1</td><td>36</td><td>0</td><td>1</td><td>175.0</td><td>54</td><td>25.0</td><td>null</td><td>2923</td></tr><tr><td>SUBJ_063464</td><td>0</td><td>15</td><td>0</td><td>1</td><td>162.0</td><td>43</td><td>23.0</td><td>null</td><td>2923</td></tr><tr><td>SUBJ_064387</td><td>0</td><td>17</td><td>1</td><td>1</td><td>155.0</td><td>42</td><td>22.0</td><td>null</td><td>2923</td></tr></tbody></table></div>"
      ]
     },
     "metadata": {
      "application/vnd.databricks.v1+output": {
       "addedWidgets": {},
       "aggData": [],
       "aggError": "",
       "aggOverflow": false,
       "aggSchema": [],
       "aggSeriesLimitReached": false,
       "aggType": "",
       "arguments": {},
       "columnCustomDisplayInfos": {},
       "data": [
        [
         "SUBJ_000206",
         1,
         41,
         1,
         1,
         172.0,
         50,
         25.0,
         null,
         2923
        ],
        [
         "SUBJ_001430",
         0,
         11,
         0,
         1,
         167.0,
         51,
         27.0,
         null,
         2923
        ],
        [
         "SUBJ_002923",
         1,
         28,
         1,
         0,
         164.0,
         54,
         26.0,
         null,
         2923
        ],
        [
         "SUBJ_003328",
         1,
         33,
         1,
         1,
         171.0,
         52,
         25.0,
         null,
         2923
        ],
        [
         "SUBJ_004117",
         0,
         15,
         0,
         1,
         184.0,
         54,
         28.0,
         null,
         2923
        ],
        [
         "SUBJ_008304",
         0,
         16,
         1,
         1,
         154.0,
         45,
         22.0,
         null,
         2923
        ],
        [
         "SUBJ_008728",
         0,
         15,
         1,
         1,
         175.0,
         51,
         24.0,
         null,
         2923
        ],
        [
         "SUBJ_011323",
         1,
         30,
         0,
         1,
         175.0,
         71,
         44.0,
         null,
         2923
        ],
        [
         "SUBJ_012088",
         1,
         20,
         0,
         1,
         184.0,
         59,
         26.0,
         null,
         2923
        ],
        [
         "SUBJ_013623",
         1,
         36,
         0,
         0,
         182.0,
         56,
         28.0,
         null,
         2923
        ],
        [
         "SUBJ_016552",
         1,
         43,
         1,
         1,
         161.0,
         51,
         23.0,
         null,
         2923
        ],
        [
         "SUBJ_017170",
         1,
         53,
         0,
         1,
         190.5,
         60,
         29.0,
         null,
         2923
        ],
        [
         "SUBJ_017499",
         0,
         15,
         1,
         1,
         167.0,
         55,
         28.0,
         null,
         2923
        ],
        [
         "SUBJ_017807",
         1,
         36,
         1,
         1,
         170.0,
         56,
         27.0,
         null,
         2923
        ],
        [
         "SUBJ_019262",
         0,
         12,
         0,
         1,
         165.0,
         48,
         25.0,
         null,
         2923
        ],
        [
         "SUBJ_019297",
         1,
         22,
         1,
         1,
         167.0,
         52,
         25.0,
         null,
         2923
        ],
        [
         "SUBJ_019663",
         1,
         25,
         1,
         1,
         173.0,
         57,
         26.0,
         null,
         2923
        ],
        [
         "SUBJ_019756",
         1,
         25,
         1,
         0,
         171.0,
         49,
         24.0,
         null,
         2923
        ],
        [
         "SUBJ_020948",
         1,
         24,
         1,
         1,
         173.0,
         49,
         26.0,
         null,
         2923
        ],
        [
         "SUBJ_021670",
         0,
         10,
         1,
         1,
         145.0,
         41,
         22.0,
         null,
         2923
        ],
        [
         "SUBJ_023739",
         1,
         36,
         1,
         1,
         174.0,
         56,
         28.0,
         null,
         2923
        ],
        [
         "SUBJ_024086",
         0,
         13,
         0,
         1,
         164.0,
         48,
         27.0,
         null,
         2923
        ],
        [
         "SUBJ_024137",
         0,
         15,
         1,
         1,
         174.0,
         56,
         26.0,
         null,
         2923
        ],
        [
         "SUBJ_024825",
         1,
         24,
         1,
         1,
         167.0,
         53,
         24.0,
         null,
         2923
        ],
        [
         "SUBJ_026460",
         1,
         22,
         1,
         1,
         177.0,
         52,
         26.0,
         null,
         2923
        ],
        [
         "SUBJ_026824",
         1,
         24,
         0,
         1,
         181.5,
         49,
         27.0,
         null,
         2923
        ],
        [
         "SUBJ_027671",
         1,
         26,
         1,
         1,
         164.0,
         52,
         22.0,
         null,
         2923
        ],
        [
         "SUBJ_027682",
         1,
         52,
         1,
         1,
         170.0,
         52,
         23.0,
         null,
         2923
        ],
        [
         "SUBJ_028998",
         0,
         15,
         0,
         0,
         173.0,
         52,
         25.0,
         null,
         2923
        ],
        [
         "SUBJ_030676",
         0,
         10,
         0,
         1,
         151.0,
         46,
         21.0,
         null,
         2923
        ],
        [
         "SUBJ_032165",
         0,
         13,
         0,
         1,
         165.0,
         52,
         23.0,
         null,
         2923
        ],
        [
         "SUBJ_032233",
         1,
         23,
         1,
         0,
         175.0,
         56,
         24.0,
         null,
         2923
        ],
        [
         "SUBJ_032585",
         1,
         30,
         0,
         0,
         183.0,
         56,
         26.0,
         null,
         2923
        ],
        [
         "SUBJ_032704",
         1,
         24,
         1,
         1,
         165.0,
         54,
         26.0,
         null,
         2923
        ],
        [
         "SUBJ_032761",
         0,
         11,
         1,
         1,
         156.0,
         50,
         23.0,
         null,
         2923
        ],
        [
         "SUBJ_034574",
         0,
         13,
         0,
         1,
         169.0,
         47,
         24.0,
         null,
         2923
        ],
        [
         "SUBJ_034631",
         0,
         12,
         1,
         1,
         160.0,
         50,
         26.0,
         null,
         2923
        ],
        [
         "SUBJ_035353",
         1,
         31,
         1,
         1,
         161.0,
         47,
         25.0,
         null,
         2923
        ],
        [
         "SUBJ_036405",
         0,
         13,
         1,
         1,
         175.0,
         53,
         26.0,
         null,
         2923
        ],
        [
         "SUBJ_036450",
         0,
         14,
         1,
         1,
         166.0,
         47,
         27.0,
         null,
         2923
        ],
        [
         "SUBJ_038023",
         0,
         15,
         0,
         1,
         178.0,
         57,
         28.0,
         null,
         2923
        ],
        [
         "SUBJ_038277",
         0,
         13,
         0,
         1,
         173.5,
         57,
         27.0,
         null,
         2923
        ],
        [
         "SUBJ_038709",
         0,
         15,
         0,
         1,
         180.0,
         57,
         26.0,
         null,
         2923
        ],
        [
         "SUBJ_039234",
         0,
         11,
         0,
         0,
         152.0,
         48,
         27.0,
         null,
         2923
        ],
        [
         "SUBJ_039498",
         1,
         30,
         0,
         1,
         186.0,
         55,
         30.0,
         null,
         2923
        ],
        [
         "SUBJ_040106",
         0,
         12,
         0,
         1,
         167.0,
         50,
         28.0,
         null,
         2923
        ],
        [
         "SUBJ_040282",
         0,
         12,
         1,
         1,
         157.0,
         44,
         26.0,
         null,
         2923
        ],
        [
         "SUBJ_040310",
         1,
         31,
         1,
         1,
         173.0,
         56,
         23.0,
         null,
         2923
        ],
        [
         "SUBJ_040724",
         1,
         25,
         1,
         1,
         174.0,
         58,
         27.0,
         null,
         2923
        ],
        [
         "SUBJ_040733",
         0,
         10,
         0,
         1,
         151.0,
         46,
         23.0,
         null,
         2923
        ],
        [
         "SUBJ_041243",
         1,
         24,
         1,
         0,
         173.0,
         54,
         26.0,
         null,
         2923
        ],
        [
         "SUBJ_041770",
         1,
         25,
         1,
         1,
         162.0,
         48,
         29.0,
         null,
         2923
        ],
        [
         "SUBJ_042254",
         0,
         13,
         1,
         1,
         163.0,
         50,
         23.0,
         null,
         2923
        ],
        [
         "SUBJ_042779",
         1,
         24,
         1,
         1,
         164.0,
         51,
         25.0,
         null,
         2923
        ],
        [
         "SUBJ_042794",
         1,
         35,
         1,
         1,
         177.0,
         55,
         25.0,
         null,
         2923
        ],
        [
         "SUBJ_043192",
         0,
         10,
         0,
         1,
         138.0,
         41,
         21.0,
         null,
         2923
        ],
        [
         "SUBJ_044680",
         0,
         12,
         0,
         1,
         153.0,
         47,
         24.0,
         null,
         2923
        ],
        [
         "SUBJ_045235",
         1,
         25,
         1,
         1,
         170.0,
         49,
         25.0,
         null,
         2923
        ],
        [
         "SUBJ_047636",
         1,
         26,
         1,
         1,
         166.0,
         54,
         25.0,
         null,
         2923
        ],
        [
         "SUBJ_049223",
         1,
         23,
         1,
         1,
         175.0,
         51,
         25.0,
         null,
         2923
        ],
        [
         "SUBJ_050642",
         1,
         31,
         0,
         1,
         184.0,
         56,
         28.0,
         null,
         2923
        ],
        [
         "SUBJ_051942",
         1,
         26,
         1,
         1,
         172.0,
         54,
         24.0,
         null,
         2923
        ],
        [
         "SUBJ_052342",
         0,
         13,
         0,
         1,
         171.0,
         54,
         26.0,
         null,
         2923
        ],
        [
         "SUBJ_053173",
         1,
         27,
         1,
         1,
         170.0,
         54,
         23.0,
         null,
         2923
        ],
        [
         "SUBJ_053217",
         0,
         15,
         1,
         1,
         173.0,
         55,
         27.0,
         null,
         2923
        ],
        [
         "SUBJ_053906",
         0,
         12,
         1,
         1,
         163.0,
         51,
         24.0,
         null,
         2923
        ],
        [
         "SUBJ_054811",
         0,
         12,
         0,
         1,
         163.0,
         51,
         25.0,
         null,
         2923
        ],
        [
         "SUBJ_055211",
         0,
         17,
         1,
         0,
         172.0,
         53,
         26.0,
         null,
         2923
        ],
        [
         "SUBJ_056936",
         1,
         40,
         1,
         1,
         172.0,
         51,
         28.0,
         null,
         2923
        ],
        [
         "SUBJ_057917",
         1,
         24,
         1,
         1,
         163.0,
         47,
         21.0,
         null,
         2923
        ],
        [
         "SUBJ_058786",
         0,
         10,
         1,
         1,
         135.0,
         41,
         18.0,
         null,
         2923
        ],
        [
         "SUBJ_058967",
         0,
         18,
         0,
         1,
         179.0,
         58,
         28.0,
         null,
         2923
        ],
        [
         "SUBJ_059330",
         0,
         11,
         0,
         1,
         152.0,
         52,
         26.0,
         null,
         2923
        ],
        [
         "SUBJ_059520",
         0,
         12,
         1,
         1,
         163.0,
         52,
         24.0,
         null,
         2923
        ],
        [
         "SUBJ_059960",
         1,
         31,
         1,
         1,
         166.0,
         49,
         23.0,
         null,
         2923
        ],
        [
         "SUBJ_061552",
         0,
         11,
         0,
         0,
         148.0,
         43,
         25.0,
         null,
         2923
        ],
        [
         "SUBJ_063319",
         1,
         25,
         1,
         1,
         173.0,
         50,
         29.0,
         null,
         2923
        ],
        [
         "SUBJ_063346",
         1,
         42,
         1,
         1,
         183.0,
         51,
         26.0,
         null,
         2923
        ],
        [
         "SUBJ_063447",
         1,
         36,
         0,
         1,
         175.0,
         54,
         25.0,
         null,
         2923
        ],
        [
         "SUBJ_063464",
         0,
         15,
         0,
         1,
         162.0,
         43,
         23.0,
         null,
         2923
        ],
        [
         "SUBJ_064387",
         0,
         17,
         1,
         1,
         155.0,
         42,
         22.0,
         null,
         2923
        ]
       ],
       "datasetInfos": [
        {
         "name": "_sqldf",
         "schema": {
          "fields": [
           {
            "metadata": {},
            "name": "subject",
            "nullable": true,
            "type": "string"
           },
           {
            "metadata": {},
            "name": "adult_child",
            "nullable": true,
            "type": "integer"
           },
           {
            "metadata": {},
            "name": "age",
            "nullable": true,
            "type": "integer"
           },
           {
            "metadata": {},
            "name": "sex",
            "nullable": true,
            "type": "integer"
           },
           {
            "metadata": {},
            "name": "handedness",
            "nullable": true,
            "type": "integer"
           },
           {
            "metadata": {},
            "name": "height_cm",
            "nullable": true,
            "type": "double"
           },
           {
            "metadata": {},
            "name": "shoulder_to_wrist_cm",
            "nullable": true,
            "type": "integer"
           },
           {
            "metadata": {},
            "name": "elbow_to_wrist_cm",
            "nullable": true,
            "type": "double"
           },
           {
            "metadata": {},
            "name": "_rescued_data",
            "nullable": true,
            "type": "string"
           },
           {
            "metadata": {},
            "name": "fileSize",
            "nullable": false,
            "type": "long"
           }
          ],
          "type": "struct"
         },
         "tableIdentifier": null,
         "typeStr": "pyspark.sql.connect.dataframe.DataFrame"
        }
       ],
       "dbfsResultPath": null,
       "isJsonSchema": true,
       "metadata": {
        "createTempViewForImplicitDf": true,
        "dataframeName": "_sqldf",
        "executionCount": 89
       },
       "overflow": false,
       "plotOptions": {
        "customPlotOptions": {},
        "displayType": "table",
        "pivotAggregation": null,
        "pivotColumns": null,
        "xColumns": null,
        "yColumns": null
       },
       "removedWidgets": [],
       "schema": [
        {
         "metadata": "{}",
         "name": "subject",
         "type": "\"string\""
        },
        {
         "metadata": "{}",
         "name": "adult_child",
         "type": "\"integer\""
        },
        {
         "metadata": "{}",
         "name": "age",
         "type": "\"integer\""
        },
        {
         "metadata": "{}",
         "name": "sex",
         "type": "\"integer\""
        },
        {
         "metadata": "{}",
         "name": "handedness",
         "type": "\"integer\""
        },
        {
         "metadata": "{}",
         "name": "height_cm",
         "type": "\"double\""
        },
        {
         "metadata": "{}",
         "name": "shoulder_to_wrist_cm",
         "type": "\"integer\""
        },
        {
         "metadata": "{}",
         "name": "elbow_to_wrist_cm",
         "type": "\"double\""
        },
        {
         "metadata": "{}",
         "name": "_rescued_data",
         "type": "\"string\""
        },
        {
         "metadata": "{}",
         "name": "fileSize",
         "type": "\"long\""
        }
       ],
       "type": "table"
      }
     },
     "output_type": "display_data"
    }
   ],
   "source": [
    "%sql\n",
    "SELECT \n",
    "*,\n",
    "_metadata.file_size AS fileSize\n",
    " FROM read_files('/Volumes/dbacademy/first_data/train_demogra/train_demographics.csv')"
   ]
  },
  {
   "cell_type": "code",
   "execution_count": 0,
   "metadata": {
    "application/vnd.databricks.v1+cell": {
     "cellMetadata": {},
     "inputWidgets": {},
     "nuid": "95d9cd19-16cc-4a57-b92b-1b0bc67a51ad",
     "showTitle": false,
     "tableResultSettingsMap": {},
     "title": ""
    }
   },
   "outputs": [],
   "source": []
  }
 ],
 "metadata": {
  "application/vnd.databricks.v1+notebook": {
   "computePreferences": null,
   "dashboards": [],
   "environmentMetadata": {
    "base_environment": "",
    "environment_version": "2"
   },
   "inputWidgetPreferences": null,
   "language": "python",
   "notebookMetadata": {
    "mostRecentlyExecutedCommandWithImplicitDF": {
     "commandId": 6171289110950562,
     "dataframes": [
      "_sqldf"
     ]
    },
    "pythonIndentUnit": 4
   },
   "notebookName": "demo",
   "widgets": {}
  },
  "language_info": {
   "name": "python"
  }
 },
 "nbformat": 4,
 "nbformat_minor": 0
}