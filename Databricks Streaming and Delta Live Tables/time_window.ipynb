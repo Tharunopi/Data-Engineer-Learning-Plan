{
 "cells": [
  {
   "cell_type": "code",
   "execution_count": 0,
   "metadata": {
    "application/vnd.databricks.v1+cell": {
     "cellMetadata": {},
     "inputWidgets": {},
     "nuid": "cf49f19d-518e-4568-b36f-6ee5ee6744bd",
     "showTitle": false,
     "tableResultSettingsMap": {},
     "title": ""
    }
   },
   "outputs": [],
   "source": [
    "import dlt\n",
    "import pyspark.sql.functions as F"
   ]
  },
  {
   "cell_type": "code",
   "execution_count": 0,
   "metadata": {
    "application/vnd.databricks.v1+cell": {
     "cellMetadata": {},
     "inputWidgets": {},
     "nuid": "66325da2-6508-421d-b380-b574a1b53852",
     "showTitle": false,
     "tableResultSettingsMap": {},
     "title": ""
    }
   },
   "outputs": [],
   "source": [
    "@dlt.table(\n",
    "    name=\"guns.bronze.info_data_bronze\"\n",
    ")\n",
    "def ingest_1():\n",
    "    df = spark.readStream.format(\"cloudFiles\") \\\n",
    "        .option(\"cloudFiles.format\", \"csv\") \\\n",
    "        .option(\"cloudFiles.header\", \"true\") \\\n",
    "        .option(\"cloudFiles.inferSchema\", \"true\") \\\n",
    "        .option(\"cloudFiles.validateOptions\", \"false\") \\\n",
    "        .load(\"/Volumes/guns/data/info\") \n",
    "\n",
    "    df = df.withColumn(\"event_timestamp\", F.current_timestamp())\n",
    "    \n",
    "    return df.select([i for i in df.columns if i not in (\"year\", \"month\")])"
   ]
  },
  {
   "cell_type": "code",
   "execution_count": 0,
   "metadata": {
    "application/vnd.databricks.v1+cell": {
     "cellMetadata": {},
     "inputWidgets": {},
     "nuid": "03acca0a-7063-489c-a12e-23bae187427f",
     "showTitle": false,
     "tableResultSettingsMap": {},
     "title": ""
    }
   },
   "outputs": [],
   "source": [
    "@dlt.table(\n",
    "    name=\"guns.silver.info_silver\"\n",
    ")\n",
    "def transform():\n",
    "    df = spark.readStream.table(\"guns.bronze.info_data_bronze\")\n",
    "    df = df.withWatermark(eventTime=\"event_timestamp\", delayThreshold=\"90 minutes\") \\\n",
    "            .groupBy(F.window(timeColumn=\"event_timestamp\", windowDuration=\"60 minutes\"), F.col(\"age\")) \\\n",
    "            .agg(\n",
    "                F.count(\"*\").alias(\"total_incidents\")\n",
    "            )\n",
    "    return df"
   ]
  }
 ],
 "metadata": {
  "application/vnd.databricks.v1+notebook": {
   "computePreferences": null,
   "dashboards": [],
   "environmentMetadata": {
    "base_environment": "",
    "environment_version": "2"
   },
   "inputWidgetPreferences": null,
   "language": "python",
   "notebookMetadata": {
    "mostRecentlyExecutedCommandWithImplicitDF": {
     "commandId": 7375638470070673,
     "dataframes": [
      "_sqldf"
     ]
    },
    "pythonIndentUnit": 4
   },
   "notebookName": "time_window",
   "widgets": {}
  },
  "language_info": {
   "name": "python"
  }
 },
 "nbformat": 4,
 "nbformat_minor": 0
}
