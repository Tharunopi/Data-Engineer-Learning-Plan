{
 "cells": [
  {
   "cell_type": "code",
   "execution_count": 0,
   "metadata": {
    "application/vnd.databricks.v1+cell": {
     "cellMetadata": {
      "byteLimit": 2048000,
      "rowLimit": 10000
     },
     "inputWidgets": {},
     "nuid": "30dd61bd-ce29-4e85-8f0e-380da441f252",
     "showTitle": false,
     "tableResultSettingsMap": {},
     "title": ""
    }
   },
   "outputs": [],
   "source": [
    "import pyspark.sql.functions as F"
   ]
  },
  {
   "cell_type": "code",
   "execution_count": 0,
   "metadata": {
    "application/vnd.databricks.v1+cell": {
     "cellMetadata": {
      "byteLimit": 2048000,
      "rowLimit": 10000
     },
     "inputWidgets": {},
     "nuid": "412786bb-dfa0-4e96-8c89-f2695713ee4c",
     "showTitle": false,
     "tableResultSettingsMap": {},
     "title": ""
    }
   },
   "outputs": [],
   "source": [
    "\n",
    "# bronze layer \n",
    "df = spark.read.csv(\n",
    "        \"/Volumes/diabetes/v01/cdc-diabetes/diabetes_binary_5050split_BRFSS2015.csv\",\n",
    "        inferSchema = True,\n",
    "        header = True\n",
    "        )\n",
    "df.write.mode(\"overwrite\").format(\"delta\").saveAsTable(\"health_dlt.bronze.brfs\")"
   ]
  },
  {
   "cell_type": "code",
   "execution_count": 0,
   "metadata": {
    "application/vnd.databricks.v1+cell": {
     "cellMetadata": {
      "byteLimit": 2048000,
      "rowLimit": 10000
     },
     "inputWidgets": {},
     "nuid": "5d858db6-8d16-492f-a5c9-f22ce36395ae",
     "showTitle": false,
     "tableResultSettingsMap": {},
     "title": ""
    }
   },
   "outputs": [],
   "source": [
    "# silver layer \n",
    "df = spark.read.table(\"health_dlt.bronze.brfs\")\n",
    "df = df.select([\"HighBP\",\"HighChol\",\"CholCheck\",\"BMI\"])\n",
    "df.write.mode(\"overwrite\").format(\"delta\").saveAsTable(\"health_dlt.silver.brfs\")"
   ]
  },
  {
   "cell_type": "code",
   "execution_count": 0,
   "metadata": {
    "application/vnd.databricks.v1+cell": {
     "cellMetadata": {
      "byteLimit": 2048000,
      "rowLimit": 10000
     },
     "inputWidgets": {},
     "nuid": "c0be6fc0-6bdb-4343-923b-0e700b97ae72",
     "showTitle": false,
     "tableResultSettingsMap": {},
     "title": ""
    }
   },
   "outputs": [],
   "source": [
    "#gold layer \n",
    "df = spark.read.table(\"health_dlt.silver.brfs\")\n",
    "df = df.select([\"HighBP\",\"HighChol\",\"CholCheck\",\"BMI\"]) \\\n",
    "       .withColumn(\n",
    "           \"BMI\", \n",
    "           F.when(df.BMI < 18.5, \"underWeight\") \\\n",
    "            .when((df.BMI > 18.5) & (df.BMI < 24.9), \"normal\") \\\n",
    "            .when((df.BMI > 25) & (df.BMI < 29.9), \"overWeight\") \\\n",
    "            .otherwise(\"obesity\") \\\n",
    "           ) \\\n",
    "       .groupBy(\"BMI\") \\\n",
    "       .agg(\n",
    "           F.mean(F.col(\"HighBP\")).alias(\"avg_bp\"),\n",
    "           F.mean(F.col(\"HighChol\")).alias(\"avg_chol\"),\n",
    "           F.mean(F.col(\"CholCheck\")).alias(\"avg_chol_check\")\n",
    "       )\n",
    "spark.sql(\"DROP TABLE IF EXISTS health_dlt.gold.brfs\")\n",
    "df.write.mode(\"overwrite\").format(\"delta\").saveAsTable(\"health_dlt.gold.brfs\")"
   ]
  },
  {
   "cell_type": "code",
   "execution_count": 0,
   "metadata": {
    "application/vnd.databricks.v1+cell": {
     "cellMetadata": {
      "byteLimit": 2048000,
      "rowLimit": 10000
     },
     "inputWidgets": {},
     "nuid": "e11f5b46-144b-4991-b74f-e0afeabe717c",
     "showTitle": false,
     "tableResultSettingsMap": {},
     "title": ""
    }
   },
   "outputs": [],
   "source": [
    "df = spark.read.table(\"health_dlt.gold.brfs\")\n",
    "df.display(100)"
   ]
  }
 ],
 "metadata": {
  "application/vnd.databricks.v1+notebook": {
   "computePreferences": null,
   "dashboards": [],
   "environmentMetadata": {
    "base_environment": "",
    "environment_version": "2"
   },
   "inputWidgetPreferences": null,
   "language": "python",
   "notebookMetadata": {
    "pythonIndentUnit": 4
   },
   "notebookName": "simple_etl_pipeline",
   "widgets": {}
  },
  "language_info": {
   "name": "python"
  }
 },
 "nbformat": 4,
 "nbformat_minor": 0
}
