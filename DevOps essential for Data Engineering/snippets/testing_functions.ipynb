{
 "cells": [
  {
   "cell_type": "code",
   "execution_count": 0,
   "metadata": {
    "application/vnd.databricks.v1+cell": {
     "cellMetadata": {
      "byteLimit": 2048000,
      "rowLimit": 10000
     },
     "inputWidgets": {},
     "nuid": "1d3b56eb-ace9-4c74-81d3-8b90aff9ddbb",
     "showTitle": false,
     "tableResultSettingsMap": {},
     "title": ""
    }
   },
   "outputs": [],
   "source": [
    "from pyspark.sql import functions as F\n",
    "from pyspark.sql import Window as W"
   ]
  },
  {
   "cell_type": "code",
   "execution_count": 0,
   "metadata": {
    "application/vnd.databricks.v1+cell": {
     "cellMetadata": {
      "byteLimit": 2048000,
      "rowLimit": 10000
     },
     "inputWidgets": {},
     "nuid": "e093b0bb-5dc8-405e-8183-5835a3ecd7df",
     "showTitle": false,
     "tableResultSettingsMap": {},
     "title": ""
    }
   },
   "outputs": [],
   "source": [
    "df = spark.read.csv(\"/Volumes/dev/default/crypto/BTC.csv\", header=True, inferSchema=True)"
   ]
  },
  {
   "cell_type": "code",
   "execution_count": 0,
   "metadata": {
    "application/vnd.databricks.v1+cell": {
     "cellMetadata": {
      "byteLimit": 2048000,
      "rowLimit": 10000
     },
     "inputWidgets": {},
     "nuid": "2219595a-99bc-4ef8-88eb-7ead09ce1250",
     "showTitle": false,
     "tableResultSettingsMap": {},
     "title": ""
    }
   },
   "outputs": [],
   "source": [
    "df.show(10)"
   ]
  },
  {
   "cell_type": "code",
   "execution_count": 0,
   "metadata": {
    "application/vnd.databricks.v1+cell": {
     "cellMetadata": {
      "byteLimit": 2048000,
      "rowLimit": 10000
     },
     "inputWidgets": {},
     "nuid": "39e1e775-8ef5-4a8b-960f-429baf3762fc",
     "showTitle": false,
     "tableResultSettingsMap": {},
     "title": ""
    }
   },
   "outputs": [],
   "source": [
    "df = df.withColumn(\"daily_change\", F.round((df.Close - df.Open) / df.Open, 5))"
   ]
  },
  {
   "cell_type": "code",
   "execution_count": 0,
   "metadata": {
    "application/vnd.databricks.v1+cell": {
     "cellMetadata": {
      "byteLimit": 2048000,
      "rowLimit": 10000
     },
     "collapsed": true,
     "inputWidgets": {},
     "nuid": "d61dcc31-535f-4043-a3bf-1b17f9a9a274",
     "showTitle": false,
     "tableResultSettingsMap": {},
     "title": ""
    }
   },
   "outputs": [],
   "source": [
    "df.orderBy(\"Date\").show()"
   ]
  },
  {
   "cell_type": "code",
   "execution_count": 0,
   "metadata": {
    "application/vnd.databricks.v1+cell": {
     "cellMetadata": {
      "byteLimit": 2048000,
      "rowLimit": 10000
     },
     "inputWidgets": {},
     "nuid": "e321b16c-8f0c-41da-83c7-441aca53fcaa",
     "showTitle": false,
     "tableResultSettingsMap": {},
     "title": ""
    }
   },
   "outputs": [],
   "source": [
    "\n",
    "window = W.partitionBy(\"Crypto\").orderBy(\"Date\")\n",
    "df = df.withColumn(\"1days\", F.lag(\"daily_change\", 1, 0).over(window)) \\\n",
    "    .withColumn(\"2days\", F.lag(\"daily_change\", 2, 0).over(window)) \\\n",
    "    .withColumn(\"3days\", F.lag(\"daily_change\", 3, 0).over(window)) \\\n",
    "    .withColumn(\"4days\", F.lag(\"daily_change\", 4, 0).over(window)) \\\n",
    "    .withColumn(\"5days\", F.lag(\"daily_change\", 5, 0).over(window)) \\\n",
    "    .withColumn(\"6days\", F.lag(\"daily_change\", 6, 0).over(window)) \\\n",
    "    .withColumn(\"7days\", F.lag(\"daily_change\", 7, 0).over(window)) \\\n",
    "    .withColumn(\"8days\", F.lag(\"daily_change\", 8, 0).over(window)) \\\n",
    "    .withColumn(\"9days\", F.lag(\"daily_change\", 9, 0).over(window)) \\\n",
    "    .withColumn(\"10days\", F.lag(\"daily_change\", 10, 0).over(window)) \\\n",
    "    .withColumn(\"11days\", F.lag(\"daily_change\", 11, 0).over(window)) \\\n",
    "    .withColumn(\"12days\", F.lag(\"daily_change\", 12, 0).over(window)) \\\n",
    "    .withColumn(\"13days\", F.lag(\"daily_change\", 13, 0).over(window)) \\\n",
    "    .withColumn(\"14days\", F.lag(\"daily_change\", 14, 0).over(window)) \n",
    "\n",
    "df_daily_change = df.groupBy(\"Date\").agg(\n",
    "    F.round(F.sum(\n",
    "        F.col(\"1days\") + F.col(\"2days\") + F.col(\"3days\") + F.col(\"4days\") + F.col(\"5days\") + F.col(\"6days\") + F.col(\"7days\")\n",
    "        + F.col(\"8days\") + F.col(\"9days\") + F.col(\"10days\") + F.col(\"11days\") + F.col(\"12days\") + F.col(\"13days\") + F.col(\"14days\") / 14 \n",
    "        ), 5).alias(\"14_days_change\")\n",
    ")\n",
    "\n",
    "df_daily_change.orderBy(\"Date\").show()"
   ]
  },
  {
   "cell_type": "code",
   "execution_count": 0,
   "metadata": {
    "application/vnd.databricks.v1+cell": {
     "cellMetadata": {
      "byteLimit": 2048000,
      "rowLimit": 10000
     },
     "inputWidgets": {},
     "nuid": "33a34eab-395c-4b73-946d-50f7631a914f",
     "showTitle": false,
     "tableResultSettingsMap": {},
     "title": ""
    }
   },
   "outputs": [],
   "source": [
    "df = df.join(df_daily_change, on=\"Date\", how=\"inner\").select([\"Crypto\", \"Date\", \"Open\", \"High\", \"Low\", \"Close\", \"14_days_change\"])"
   ]
  },
  {
   "cell_type": "code",
   "execution_count": 0,
   "metadata": {
    "application/vnd.databricks.v1+cell": {
     "cellMetadata": {
      "byteLimit": 2048000,
      "rowLimit": 10000
     },
     "inputWidgets": {},
     "nuid": "0d11b441-436a-438d-8bad-78235a271d6a",
     "showTitle": false,
     "tableResultSettingsMap": {},
     "title": ""
    }
   },
   "outputs": [],
   "source": [
    "df = df.withColumn(\"rsi\", )"
   ]
  },
  {
   "cell_type": "code",
   "execution_count": 0,
   "metadata": {
    "application/vnd.databricks.v1+cell": {
     "cellMetadata": {},
     "inputWidgets": {},
     "nuid": "e252fa10-2ef8-448d-9a89-bc52c700b1d3",
     "showTitle": false,
     "tableResultSettingsMap": {},
     "title": ""
    }
   },
   "outputs": [],
   "source": []
  }
 ],
 "metadata": {
  "application/vnd.databricks.v1+notebook": {
   "computePreferences": null,
   "dashboards": [],
   "environmentMetadata": {
    "base_environment": "",
    "environment_version": "2"
   },
   "inputWidgetPreferences": null,
   "language": "python",
   "notebookMetadata": {
    "pythonIndentUnit": 4
   },
   "notebookName": "testing_functions",
   "widgets": {}
  },
  "language_info": {
   "name": "python"
  }
 },
 "nbformat": 4,
 "nbformat_minor": 0
}
